{
 "nbformat": 4,
 "nbformat_minor": 0,
 "metadata": {
  "kernelspec": {
   "display_name": "Python 3",
   "language": "python",
   "name": "python3"
  },
  "language_info": {
   "codemirror_mode": {
    "name": "ipython",
    "version": 2
   },
   "file_extension": ".py",
   "mimetype": "text/x-python",
   "name": "python",
   "nbconvert_exporter": "python",
   "pygments_lexer": "ipython2",
   "version": "2.7.6"
  },
  "colab": {
   "name": "“main.ipynb”的副本",
   "provenance": []
  },
  "accelerator": "GPU"
 },
 "cells": [
  {
   "cell_type": "code",
   "metadata": {
    "colab": {
     "base_uri": "https://localhost:8080/"
    },
    "id": "4Zkwql37bfCJ",
    "outputId": "6bf1a119-34e4-4a4f-9eb2-4d43ceaaa142"
   },
   "source": [
    "!pwd\n",
    "![ -d chroma-instance ] || git clone https://github.com/owen8877/chroma-instance/\n",
    "!cd chroma-instance/chroma_instance/source && ./download_model.sh"
   ],
   "execution_count": null,
   "outputs": [
    {
     "output_type": "stream",
     "text": [
      "/content\n"
     ],
     "name": "stdout"
    }
   ]
  },
  {
   "cell_type": "code",
   "metadata": {
    "pycharm": {
     "name": "#%%\n"
    },
    "id": "ZV6gX8mEFUGK"
   },
   "source": [
    "# Copy the backed up weights into working directory\n",
    "from google.colab import drive\n",
    "drive.mount('/content/drive')\n",
    "\n",
    "![ -d '/content/chroma-instance/chroma_instance/weights' ] || mkdir '/content/chroma-instance/chroma_instance/weights'\n",
    "# !cp '/content/drive/MyDrive/colab_tmp/weights' '/content/chroma-instance/chroma_instance/' -r\n",
    "# !cp '/content/drive/MyDrive/colab_tmp/weights/instcolorization' '/content/chroma-instance/chroma_instance/weights/' -r\n",
    "# !cp '/content/drive/MyDrive/colab_tmp/weights/chroma_gan' '/content/chroma-instance/chroma_instance/weights/' -r\n",
    "# !cp '/content/drive/MyDrive/colab_tmp/weights/mask_rcnn' '/content/chroma-instance/chroma_instance/weights/' -r\n",
    "![ -f '/content/chroma-instance/chroma_instance/dataset/train2017.zip' ] || cp '/content/drive/MyDrive/colab_tmp/dataset/train2017.zip' '/content/chroma-instance/chroma_instance/dataset/' -r\n",
    "!if [ ! -d '/content/chroma-instance/chroma_instance/dataset/train' ]; then \\\n",
    "    pushd '/content/drive/MyDrive/colab_tmp/dataset/'; \\\n",
    "    unzip train2017.zip; \\\n",
    "    mv train2017 train; \\\n",
    "    popd; \\\n",
    "fi"
   ],
   "execution_count": null,
   "outputs": []
  },
  {
   "cell_type": "code",
   "metadata": {
    "pycharm": {
     "name": "#%%\n"
    },
    "colab": {
     "base_uri": "https://localhost:8080/"
    },
    "id": "uZUDRQY4FUGL",
    "outputId": "79c68676-5e53-4029-ebce-29cd6c293df2"
   },
   "source": [
    "import sys\n",
    "sys.path.append('/content/chroma-instance/chroma_instance/source')\n",
    "\n",
    "%tensorflow_version 1.x\n",
    "import tensorflow as tf"
   ],
   "execution_count": null,
   "outputs": [
    {
     "output_type": "stream",
     "text": [
      "TensorFlow 1.x selected.\n"
     ],
     "name": "stdout"
    }
   ]
  },
  {
   "cell_type": "markdown",
   "metadata": {
    "id": "EW9MoGfiHWjQ",
    "pycharm": {
     "name": "#%% md\n"
    }
   },
   "source": [
    "## Chroma Instance"
   ]
  },
  {
   "cell_type": "code",
   "metadata": {
    "pycharm": {
     "name": "#%%\n"
    },
    "id": "jKapAISEFUGL"
   },
   "source": [
    "cd /content/chroma-instance/chroma_instance/source/chroma_instance"
   ],
   "execution_count": null,
   "outputs": []
  },
  {
   "cell_type": "code",
   "metadata": {
    "pycharm": {
     "name": "#%%\n"
    },
    "id": "-3OfavHuFUGL"
   },
   "source": [
    "from chroma_instance import model\n",
    "\n",
    "model.train()"
   ],
   "execution_count": null,
   "outputs": []
  }
 ]
}