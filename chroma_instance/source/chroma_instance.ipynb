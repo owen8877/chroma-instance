{
 "nbformat": 4,
 "nbformat_minor": 0,
 "metadata": {
  "kernelspec": {
   "display_name": "Python 3",
   "language": "python",
   "name": "python3"
  },
  "language_info": {
   "codemirror_mode": {
    "name": "ipython",
    "version": 2
   },
   "file_extension": ".py",
   "mimetype": "text/x-python",
   "name": "python",
   "nbconvert_exporter": "python",
   "pygments_lexer": "ipython2",
   "version": "2.7.6"
  },
  "colab": {
   "name": "chroma_instance.ipynb",
   "provenance": [],
   "collapsed_sections": [],
   "toc_visible": true
  },
  "accelerator": "GPU"
 },
 "cells": [
  {
   "cell_type": "code",
   "metadata": {
    "id": "4Zkwql37bfCJ",
    "colab": {
     "base_uri": "https://localhost:8080/"
    },
    "outputId": "b7330194-5ea3-4a5c-afc0-acbb22558886"
   },
   "source": [
    "!apt install pv\n",
    "!cd /content; [ -d chroma-instance ] && (cd chroma-instance && git reset HEAD^ --hard && git pull -f) || git clone https://github.com/owen8877/chroma-instance/"
   ],
   "execution_count": null,
   "outputs": [
    {
     "output_type": "stream",
     "text": [
      "Reading package lists... Done\n",
      "Building dependency tree       \n",
      "Reading state information... Done\n",
      "pv is already the newest version (1.6.6-1).\n",
      "0 upgraded, 0 newly installed, 0 to remove and 14 not upgraded.\n",
      "HEAD is now at 9d75922 Fixed another bug.\n",
      "remote: Enumerating objects: 13, done.\u001B[K\n",
      "remote: Counting objects: 100% (13/13), done.\u001B[K\n",
      "remote: Compressing objects: 100% (1/1), done.\u001B[K\n",
      "remote: Total 7 (delta 6), reused 7 (delta 6), pack-reused 0\u001B[K\n",
      "Unpacking objects: 100% (7/7), done.\n",
      "From https://github.com/owen8877/chroma-instance\n",
      "   966f915..796506b  master     -> origin/master\n",
      "Updating 9d75922..796506b\n",
      "Fast-forward\n",
      " .../source/chroma_instance/model/fusion.py         | 124 \u001B[32m+++++++++++++\u001B[m\u001B[31m--------\u001B[m\n",
      " 1 file changed, 76 insertions(+), 48 deletions(-)\n"
     ],
     "name": "stdout"
    }
   ]
  },
  {
   "cell_type": "code",
   "metadata": {
    "pycharm": {
     "name": "#%%\n"
    },
    "id": "ZV6gX8mEFUGK",
    "colab": {
     "base_uri": "https://localhost:8080/"
    },
    "outputId": "fccd929d-59ff-4579-e2a2-86bd0f1f8742"
   },
   "source": [
    "# Copy the backed up weights into working directory\n",
    "from google.colab import drive\n",
    "drive.mount('/content/drive')\n",
    "\n",
    "!ln -s '/content/drive/MyDrive/colab_tmp/weights' '/content/chroma-instance/chroma_instance/weights'\n",
    "!ln -s '/content/drive/MyDrive/colab_tmp/logs' '/content/chroma-instance/chroma_instance/logs'\n",
    "!ln -s '/content/drive/MyDrive/colab_tmp/result' '/content/chroma-instance/chroma_instance/result'"
   ],
   "execution_count": null,
   "outputs": [
    {
     "output_type": "stream",
     "text": [
      "Mounted at /content/drive\n"
     ],
     "name": "stdout"
    }
   ]
  },
  {
   "cell_type": "code",
   "metadata": {
    "id": "g7YtvM1SA5_O"
   },
   "source": [
    "!cd /content/chroma-instance/chroma_instance/source && ./download_model.sh"
   ],
   "execution_count": null,
   "outputs": []
  },
  {
   "cell_type": "code",
   "metadata": {
    "id": "qg97tWdYYFbI"
   },
   "source": [
    "!unzip /content/drive/MyDrive/colab_tmp/dataset/val2017_bbox.zip -d /content/chroma-instance/chroma_instance/dataset/"
   ],
   "execution_count": null,
   "outputs": []
  },
  {
   "cell_type": "code",
   "metadata": {
    "pycharm": {
     "name": "#%%\n"
    },
    "id": "uZUDRQY4FUGL"
   },
   "source": [
    "import sys\n",
    "sys.path.append('/content/chroma-instance/chroma_instance/source')\n",
    "\n",
    "%load_ext tensorboard\n",
    "\n",
    "%tensorflow_version 1.x\n",
    "import tensorflow as tf\n",
    "\n",
    "%tensorboard --logdir /content/chroma-instance/chroma_instance/logs"
   ],
   "execution_count": null,
   "outputs": []
  },
  {
   "cell_type": "markdown",
   "metadata": {
    "id": "EW9MoGfiHWjQ",
    "pycharm": {
     "name": "#%% md\n"
    }
   },
   "source": [
    "## Chroma Instance"
   ]
  },
  {
   "cell_type": "code",
   "metadata": {
    "pycharm": {
     "name": "#%%\n"
    },
    "id": "jKapAISEFUGL",
    "colab": {
     "base_uri": "https://localhost:8080/"
    },
    "outputId": "36ea98e8-f7a6-4508-a186-756ea4662256"
   },
   "source": [
    "cd /content/chroma-instance/chroma_instance/source/chroma_instance"
   ],
   "execution_count": null,
   "outputs": [
    {
     "output_type": "stream",
     "text": [
      "/content/chroma-instance/chroma_instance/source/chroma_instance\n"
     ],
     "name": "stdout"
    }
   ]
  },
  {
   "cell_type": "code",
   "metadata": {
    "pycharm": {
     "name": "#%%\n"
    },
    "id": "P8Lwsy9JJLSv",
    "colab": {
     "base_uri": "https://localhost:8080/"
    },
    "outputId": "3e118f3b-8bc0-4c7d-8a00-279db4fdb127"
   },
   "source": [
    "from chroma_instance.config.FirstTest import FirstTestConfig\n",
    "from chroma_instance.data.generator import Data\n",
    "from chroma_instance.data.bbox_extract import extract_bbox\n",
    "from mrcnn import utils, coco\n",
    "import os\n",
    "\n",
    "# strategy = tf.distribute.get_strategy()\n",
    "# config = FirstTestConfig('fusion_huber_instance', ROOT_DIR='../../')\n",
    "# train_data = Data(config.TRAIN_DIR, config)\n",
    "# test_data = Data(config.TEST_DIR, config)\n",
    "\n",
    "# config.COCO_MODEL_PATH = os.path.join(config.ROOT_DIR, \"weights/mask_rcnn/coco.h5\")\n",
    "# if not os.path.exists(config.COCO_MODEL_PATH):\n",
    "#     utils.download_trained_weights(config.COCO_MODEL_PATH)\n",
    "# extract_bbox(config, config.TRAIN_DIR, strategy)\n",
    "# extract_bbox(config, config.TEST_DIR, strategy)\n"
   ],
   "execution_count": null,
   "outputs": [
    {
     "output_type": "stream",
     "text": [
      "Running on colab!\n"
     ],
     "name": "stdout"
    },
    {
     "output_type": "stream",
     "text": [
      "Using TensorFlow backend.\n"
     ],
     "name": "stderr"
    }
   ]
  },
  {
   "cell_type": "code",
   "metadata": {
    "id": "_wQ7_dUdUZp-",
    "colab": {
     "base_uri": "https://localhost:8080/"
    },
    "outputId": "83402c4a-e778-498e-9d42-62d7f063c481"
   },
   "source": [
    "# !rm ../../weights/chroma_instance/fusion_2obj -r\n",
    "# !rm ../../logs/chroma_instance/fusion_2obj -r\n",
    "# !rm ../../result/chroma_instance/fusion_2obj -r\n",
    "\n",
    "from chroma_instance.model.fusion_with_instance import FusionModel\n",
    "from datetime import datetime\n",
    "from chroma_instance.util import prepare_logger\n",
    "from tensorflow.python.keras.losses import huber_loss\n",
    "\n",
    "config = FirstTestConfig('fusion_2obj_huber_instance', ROOT_DIR='../../')\n",
    "config.NUM_EPOCHS = 10\n",
    "train_data = Data(config.TRAIN_DIR, config)\n",
    "test_data = Data(config.TEST_DIR, config)\n",
    "\n",
    "with prepare_logger(train_data.batch_size, config) as logger:\n",
    "    logger.write(str(datetime.now()) + \"\\n\")\n",
    "\n",
    "    print(\"Initializing Model...\")\n",
    "    colorizationModel = FusionModel(config, load_weight_path='../../weights/chroma_gan/imagenet.h5',\n",
    "                                            ab_loss=lambda y_true, y_pred: tf.reduce_mean(huber_loss(y_true, y_pred, delta=0.05)))\n",
    "    print(\"Model Initialized!\")\n",
    "    print(\"Start training\")\n",
    "    colorizationModel.train(train_data, test_data, logger, config=config)\n"
   ],
   "execution_count": null,
   "outputs": [
    {
     "output_type": "stream",
     "text": [
      "Initializing Model...\n",
      "WARNING:tensorflow:From /tensorflow-1.15.2/python3.6/tensorflow_core/python/ops/resource_variable_ops.py:1630: calling BaseResourceVariable.__init__ (from tensorflow.python.ops.resource_variable_ops) with constraint is deprecated and will be removed in a future version.\n",
      "Instructions for updating:\n",
      "If using Keras pass *_constraint arguments to layers.\n",
      "WARNING:tensorflow:Entity <bound method WeightGenerator.call of <chroma_instance.model.fusion.WeightGenerator object at 0x7fd7d01cd8d0>> could not be transformed and will be executed as-is. Please report this to the AutoGraph team. When filing the bug, set the verbosity to 10 (on Linux, `export AUTOGRAPH_VERBOSITY=10`) and attach the full output. Cause: module 'gast' has no attribute 'Num'\n",
      "WARNING: Entity <bound method WeightGenerator.call of <chroma_instance.model.fusion.WeightGenerator object at 0x7fd7d01cd8d0>> could not be transformed and will be executed as-is. Please report this to the AutoGraph team. When filing the bug, set the verbosity to 10 (on Linux, `export AUTOGRAPH_VERBOSITY=10`) and attach the full output. Cause: module 'gast' has no attribute 'Num'\n",
      "WARNING:tensorflow:Entity <bound method WeightGenerator.call of <chroma_instance.model.fusion.WeightGenerator object at 0x7fd741a8b9b0>> could not be transformed and will be executed as-is. Please report this to the AutoGraph team. When filing the bug, set the verbosity to 10 (on Linux, `export AUTOGRAPH_VERBOSITY=10`) and attach the full output. Cause: module 'gast' has no attribute 'Num'\n",
      "WARNING: Entity <bound method WeightGenerator.call of <chroma_instance.model.fusion.WeightGenerator object at 0x7fd741a8b9b0>> could not be transformed and will be executed as-is. Please report this to the AutoGraph team. When filing the bug, set the verbosity to 10 (on Linux, `export AUTOGRAPH_VERBOSITY=10`) and attach the full output. Cause: module 'gast' has no attribute 'Num'\n",
      "WARNING:tensorflow:Entity <bound method WeightGenerator.call of <chroma_instance.model.fusion.WeightGenerator object at 0x7fd741239710>> could not be transformed and will be executed as-is. Please report this to the AutoGraph team. When filing the bug, set the verbosity to 10 (on Linux, `export AUTOGRAPH_VERBOSITY=10`) and attach the full output. Cause: module 'gast' has no attribute 'Num'\n",
      "WARNING: Entity <bound method WeightGenerator.call of <chroma_instance.model.fusion.WeightGenerator object at 0x7fd741239710>> could not be transformed and will be executed as-is. Please report this to the AutoGraph team. When filing the bug, set the verbosity to 10 (on Linux, `export AUTOGRAPH_VERBOSITY=10`) and attach the full output. Cause: module 'gast' has no attribute 'Num'\n",
      "WARNING:tensorflow:Entity <bound method WeightGenerator.call of <chroma_instance.model.fusion.WeightGenerator object at 0x7fd740a59b70>> could not be transformed and will be executed as-is. Please report this to the AutoGraph team. When filing the bug, set the verbosity to 10 (on Linux, `export AUTOGRAPH_VERBOSITY=10`) and attach the full output. Cause: module 'gast' has no attribute 'Num'\n",
      "WARNING: Entity <bound method WeightGenerator.call of <chroma_instance.model.fusion.WeightGenerator object at 0x7fd740a59b70>> could not be transformed and will be executed as-is. Please report this to the AutoGraph team. When filing the bug, set the verbosity to 10 (on Linux, `export AUTOGRAPH_VERBOSITY=10`) and attach the full output. Cause: module 'gast' has no attribute 'Num'\n",
      "WARNING:tensorflow:Entity <bound method WeightGenerator.call of <chroma_instance.model.fusion.WeightGenerator object at 0x7fd7402d34a8>> could not be transformed and will be executed as-is. Please report this to the AutoGraph team. When filing the bug, set the verbosity to 10 (on Linux, `export AUTOGRAPH_VERBOSITY=10`) and attach the full output. Cause: module 'gast' has no attribute 'Num'\n",
      "WARNING: Entity <bound method WeightGenerator.call of <chroma_instance.model.fusion.WeightGenerator object at 0x7fd7402d34a8>> could not be transformed and will be executed as-is. Please report this to the AutoGraph team. When filing the bug, set the verbosity to 10 (on Linux, `export AUTOGRAPH_VERBOSITY=10`) and attach the full output. Cause: module 'gast' has no attribute 'Num'\n",
      "WARNING:tensorflow:From /tensorflow-1.15.2/python3.6/tensorflow_core/python/ops/math_grad.py:1424: where (from tensorflow.python.ops.array_ops) is deprecated and will be removed in a future version.\n",
      "Instructions for updating:\n",
      "Use tf.where in 2.0, which has the same broadcast rule as np.where\n",
      "WARNING:tensorflow:Error in loading the saved optimizer state. As a result, your model is starting with a freshly initialized optimizer.\n",
      "Loading chroma GAN parameter to instance network...\n",
      "Layer fg_input_img not found in chroma gan.\n",
      "Layer fg_pack_input not found in chroma gan.\n",
      "Layer fg_input_tile not found in chroma gan.\n",
      "model 3 skip\n",
      "Successfully set weights for layer fg_conv2d_6\n",
      "Successfully set weights for layer fg_batch_normalization_1\n",
      "Successfully set weights for layer fg_conv2d_7\n",
      "Successfully set weights for layer fg_batch_normalization_2\n",
      "Successfully set weights for layer fg_conv2d_8\n",
      "Successfully set weights for layer fg_batch_normalization_3\n",
      "Successfully set weights for layer fg_conv2d_9\n",
      "Successfully set weights for layer fg_batch_normalization_4\n",
      "Successfully set weights for layer fg_flatten_1\n",
      "Successfully set weights for layer fg_dense_1\n",
      "Successfully set weights for layer fg_conv2d_10\n",
      "Successfully set weights for layer fg_dense_2\n",
      "Successfully set weights for layer fg_batch_normalization_5\n",
      "Successfully set weights for layer fg_dense_3\n",
      "Successfully set weights for layer fg_conv2d_11\n",
      "Successfully set weights for layer fg_repeat_vector_1\n",
      "Successfully set weights for layer fg_batch_normalization_6\n",
      "Successfully set weights for layer fg_reshape_1\n",
      "Successfully set weights for layer fg_concatenate_2\n",
      "Successfully set weights for layer fg_conv2d_12\n",
      "Successfully set weights for layer fg_conv2d_13\n",
      "Successfully set weights for layer fg_up_sampling2d_1\n",
      "Successfully set weights for layer fg_conv2d_14\n",
      "Successfully set weights for layer fg_conv2d_15\n",
      "Successfully set weights for layer fg_up_sampling2d_2\n",
      "Successfully set weights for layer fg_conv2d_16\n",
      "Successfully set weights for layer fg_conv2d_17\n",
      "Layer fg_model_3_unpack not found in chroma gan.\n",
      "Layer fg_conv2d_11_unpack not found in chroma gan.\n",
      "Layer fg_conv2d_13_unpack not found in chroma gan.\n",
      "Layer fg_conv2d_15_unpack not found in chroma gan.\n",
      "Layer fg_conv2d_17_unpack not found in chroma gan.\n",
      "Loading chroma GAN parameter to fusion network...\n",
      "Layer input_img not found in chroma gan.\n",
      "Layer input_tile not found in chroma gan.\n",
      "Layer fg_model_3 not found in chroma gan.\n",
      "model 3 skip\n",
      "Layer bbox not found in chroma gan.\n",
      "Layer mask not found in chroma gan.\n",
      "Layer weight_generator_1 not found in chroma gan.\n",
      "Successfully set weights for layer conv2d_6\n",
      "Successfully set weights for layer batch_normalization_1\n",
      "Successfully set weights for layer conv2d_7\n",
      "Successfully set weights for layer batch_normalization_2\n",
      "Successfully set weights for layer conv2d_8\n",
      "Successfully set weights for layer batch_normalization_3\n",
      "Successfully set weights for layer conv2d_9\n",
      "Successfully set weights for layer batch_normalization_4\n",
      "Successfully set weights for layer flatten_1\n",
      "Successfully set weights for layer conv2d_10\n",
      "Successfully set weights for layer dense_1\n",
      "Successfully set weights for layer batch_normalization_5\n",
      "Successfully set weights for layer dense_2\n",
      "Layer fg_conv2d_11 not found in chroma gan.\n",
      "Successfully set weights for layer conv2d_11\n",
      "Successfully set weights for layer dense_3\n",
      "Layer weight_generator_2 not found in chroma gan.\n",
      "Successfully set weights for layer repeat_vector_1\n",
      "Successfully set weights for layer batch_normalization_6\n",
      "Successfully set weights for layer reshape_1\n",
      "Successfully set weights for layer concatenate_2\n",
      "Successfully set weights for layer conv2d_12\n",
      "Layer fg_conv2d_13 not found in chroma gan.\n",
      "Successfully set weights for layer conv2d_13\n",
      "Layer weight_generator_3 not found in chroma gan.\n",
      "Successfully set weights for layer up_sampling2d_1\n",
      "Successfully set weights for layer conv2d_14\n",
      "Layer fg_conv2d_15 not found in chroma gan.\n",
      "Successfully set weights for layer conv2d_15\n",
      "Layer weight_generator_4 not found in chroma gan.\n",
      "Successfully set weights for layer up_sampling2d_2\n",
      "Successfully set weights for layer conv2d_16\n",
      "Successfully set weights for layer flatten_2\n",
      "Layer fg_conv2d_17 not found in chroma gan.\n",
      "Successfully set weights for layer conv2d_17\n",
      "Successfully set weights for layer dense_4\n",
      "Layer weight_generator_5 not found in chroma gan.\n",
      "Successfully set weights for layer dense_5\n",
      "Successfully set weights for layer up_sampling2d_3\n",
      "Successfully set weights for layer dense_6\n",
      "WARNING:tensorflow:Entity <bound method WeightGenerator.call of <chroma_instance.model.fusion.WeightGenerator object at 0x7fd7d01cd8d0>> could not be transformed and will be executed as-is. Please report this to the AutoGraph team. When filing the bug, set the verbosity to 10 (on Linux, `export AUTOGRAPH_VERBOSITY=10`) and attach the full output. Cause: module 'gast' has no attribute 'Num'\n",
      "WARNING: Entity <bound method WeightGenerator.call of <chroma_instance.model.fusion.WeightGenerator object at 0x7fd7d01cd8d0>> could not be transformed and will be executed as-is. Please report this to the AutoGraph team. When filing the bug, set the verbosity to 10 (on Linux, `export AUTOGRAPH_VERBOSITY=10`) and attach the full output. Cause: module 'gast' has no attribute 'Num'\n",
      "WARNING:tensorflow:Entity <bound method WeightGenerator.call of <chroma_instance.model.fusion.WeightGenerator object at 0x7fd741a8b9b0>> could not be transformed and will be executed as-is. Please report this to the AutoGraph team. When filing the bug, set the verbosity to 10 (on Linux, `export AUTOGRAPH_VERBOSITY=10`) and attach the full output. Cause: module 'gast' has no attribute 'Num'\n",
      "WARNING: Entity <bound method WeightGenerator.call of <chroma_instance.model.fusion.WeightGenerator object at 0x7fd741a8b9b0>> could not be transformed and will be executed as-is. Please report this to the AutoGraph team. When filing the bug, set the verbosity to 10 (on Linux, `export AUTOGRAPH_VERBOSITY=10`) and attach the full output. Cause: module 'gast' has no attribute 'Num'\n",
      "WARNING:tensorflow:Entity <bound method WeightGenerator.call of <chroma_instance.model.fusion.WeightGenerator object at 0x7fd741239710>> could not be transformed and will be executed as-is. Please report this to the AutoGraph team. When filing the bug, set the verbosity to 10 (on Linux, `export AUTOGRAPH_VERBOSITY=10`) and attach the full output. Cause: module 'gast' has no attribute 'Num'\n",
      "WARNING: Entity <bound method WeightGenerator.call of <chroma_instance.model.fusion.WeightGenerator object at 0x7fd741239710>> could not be transformed and will be executed as-is. Please report this to the AutoGraph team. When filing the bug, set the verbosity to 10 (on Linux, `export AUTOGRAPH_VERBOSITY=10`) and attach the full output. Cause: module 'gast' has no attribute 'Num'\n",
      "WARNING:tensorflow:Entity <bound method WeightGenerator.call of <chroma_instance.model.fusion.WeightGenerator object at 0x7fd740a59b70>> could not be transformed and will be executed as-is. Please report this to the AutoGraph team. When filing the bug, set the verbosity to 10 (on Linux, `export AUTOGRAPH_VERBOSITY=10`) and attach the full output. Cause: module 'gast' has no attribute 'Num'\n",
      "WARNING: Entity <bound method WeightGenerator.call of <chroma_instance.model.fusion.WeightGenerator object at 0x7fd740a59b70>> could not be transformed and will be executed as-is. Please report this to the AutoGraph team. When filing the bug, set the verbosity to 10 (on Linux, `export AUTOGRAPH_VERBOSITY=10`) and attach the full output. Cause: module 'gast' has no attribute 'Num'\n",
      "WARNING:tensorflow:Entity <bound method WeightGenerator.call of <chroma_instance.model.fusion.WeightGenerator object at 0x7fd7402d34a8>> could not be transformed and will be executed as-is. Please report this to the AutoGraph team. When filing the bug, set the verbosity to 10 (on Linux, `export AUTOGRAPH_VERBOSITY=10`) and attach the full output. Cause: module 'gast' has no attribute 'Num'\n",
      "WARNING: Entity <bound method WeightGenerator.call of <chroma_instance.model.fusion.WeightGenerator object at 0x7fd7402d34a8>> could not be transformed and will be executed as-is. Please report this to the AutoGraph team. When filing the bug, set the verbosity to 10 (on Linux, `export AUTOGRAPH_VERBOSITY=10`) and attach the full output. Cause: module 'gast' has no attribute 'Num'\n",
      "Model Initialized!\n",
      "Start training\n",
      "Downloading data from https://github.com/fchollet/deep-learning-models/releases/download/v0.1/vgg16_weights_tf_dim_ordering_tf_kernels.h5\n",
      "553467904/553467096 [==============================] - 12s 0us/step\n"
     ],
     "name": "stdout"
    },
    {
     "output_type": "stream",
     "text": [
      "\r  0%|          | 0/500 [00:00<?, ?it/s]"
     ],
     "name": "stderr"
    },
    {
     "output_type": "stream",
     "text": [
      "batch_size=10 * total_batch=500\n",
      "WARNING:tensorflow:Discrepancy between trainable weights and collected trainable weights, did you set `model.trainable` without calling `model.compile` after ?\n",
      "WARNING:tensorflow:From /content/chroma-instance/chroma_instance/source/chroma_instance/util/__init__.py:37: The name tf.Summary is deprecated. Please use tf.compat.v1.Summary instead.\n",
      "\n"
     ],
     "name": "stdout"
    },
    {
     "output_type": "stream",
     "text": [
      "\r  0%|          | 1/500 [01:40<13:58:00, 100.76s/it]"
     ],
     "name": "stderr"
    },
    {
     "output_type": "stream",
     "text": [
      "[Epoch 0] [Batch 0/500] [generator loss: 0.003793] [discriminator loss: 2.820996]\n"
     ],
     "name": "stdout"
    },
    {
     "output_type": "stream",
     "text": [
      "  2%|▏         | 11/500 [02:03<40:52,  5.01s/it]"
     ],
     "name": "stderr"
    },
    {
     "output_type": "stream",
     "text": [
      "[Epoch 0] [Batch 10/500] [generator loss: 0.003551] [discriminator loss: 0.002945]\n"
     ],
     "name": "stdout"
    },
    {
     "output_type": "stream",
     "text": [
      "  4%|▍         | 21/500 [02:25<18:30,  2.32s/it]"
     ],
     "name": "stderr"
    },
    {
     "output_type": "stream",
     "text": [
      "[Epoch 0] [Batch 20/500] [generator loss: 0.002434] [discriminator loss: 0.002890]\n"
     ],
     "name": "stdout"
    },
    {
     "output_type": "stream",
     "text": [
      "  6%|▌         | 31/500 [02:48<17:37,  2.26s/it]"
     ],
     "name": "stderr"
    },
    {
     "output_type": "stream",
     "text": [
      "[Epoch 0] [Batch 30/500] [generator loss: 0.002617] [discriminator loss: 0.000554]\n"
     ],
     "name": "stdout"
    },
    {
     "output_type": "stream",
     "text": [
      "  8%|▊         | 41/500 [03:10<17:10,  2.25s/it]"
     ],
     "name": "stderr"
    },
    {
     "output_type": "stream",
     "text": [
      "[Epoch 0] [Batch 40/500] [generator loss: 0.003048] [discriminator loss: 0.000303]\n"
     ],
     "name": "stdout"
    },
    {
     "output_type": "stream",
     "text": [
      " 10%|█         | 51/500 [03:33<16:55,  2.26s/it]"
     ],
     "name": "stderr"
    },
    {
     "output_type": "stream",
     "text": [
      "[Epoch 0] [Batch 50/500] [generator loss: 0.003478] [discriminator loss: 0.001587]\n"
     ],
     "name": "stdout"
    },
    {
     "output_type": "stream",
     "text": [
      " 12%|█▏        | 61/500 [03:55<16:26,  2.25s/it]"
     ],
     "name": "stderr"
    },
    {
     "output_type": "stream",
     "text": [
      "[Epoch 0] [Batch 60/500] [generator loss: 0.003517] [discriminator loss: 0.000625]\n"
     ],
     "name": "stdout"
    },
    {
     "output_type": "stream",
     "text": [
      " 14%|█▍        | 71/500 [04:18<16:18,  2.28s/it]"
     ],
     "name": "stderr"
    },
    {
     "output_type": "stream",
     "text": [
      "[Epoch 0] [Batch 70/500] [generator loss: 0.003174] [discriminator loss: 0.001391]\n"
     ],
     "name": "stdout"
    },
    {
     "output_type": "stream",
     "text": [
      " 16%|█▌        | 81/500 [04:41<15:44,  2.25s/it]"
     ],
     "name": "stderr"
    },
    {
     "output_type": "stream",
     "text": [
      "[Epoch 0] [Batch 80/500] [generator loss: 0.002799] [discriminator loss: 0.003810]\n"
     ],
     "name": "stdout"
    },
    {
     "output_type": "stream",
     "text": [
      " 18%|█▊        | 91/500 [05:03<15:32,  2.28s/it]"
     ],
     "name": "stderr"
    },
    {
     "output_type": "stream",
     "text": [
      "[Epoch 0] [Batch 90/500] [generator loss: 0.002795] [discriminator loss: 0.000433]\n"
     ],
     "name": "stdout"
    },
    {
     "output_type": "stream",
     "text": [
      " 20%|██        | 101/500 [05:26<15:06,  2.27s/it]"
     ],
     "name": "stderr"
    },
    {
     "output_type": "stream",
     "text": [
      "[Epoch 0] [Batch 100/500] [generator loss: 0.003329] [discriminator loss: 0.000588]\n"
     ],
     "name": "stdout"
    },
    {
     "output_type": "stream",
     "text": [
      " 22%|██▏       | 111/500 [05:49<14:49,  2.29s/it]"
     ],
     "name": "stderr"
    },
    {
     "output_type": "stream",
     "text": [
      "[Epoch 0] [Batch 110/500] [generator loss: 0.004789] [discriminator loss: 0.000217]\n"
     ],
     "name": "stdout"
    },
    {
     "output_type": "stream",
     "text": [
      " 24%|██▍       | 121/500 [06:12<14:28,  2.29s/it]"
     ],
     "name": "stderr"
    },
    {
     "output_type": "stream",
     "text": [
      "[Epoch 0] [Batch 120/500] [generator loss: 0.004596] [discriminator loss: -0.000600]\n"
     ],
     "name": "stdout"
    },
    {
     "output_type": "stream",
     "text": [
      " 26%|██▌       | 131/500 [06:35<14:02,  2.28s/it]"
     ],
     "name": "stderr"
    },
    {
     "output_type": "stream",
     "text": [
      "[Epoch 0] [Batch 130/500] [generator loss: 0.003519] [discriminator loss: 0.000402]\n"
     ],
     "name": "stdout"
    },
    {
     "output_type": "stream",
     "text": [
      " 28%|██▊       | 141/500 [06:57<13:34,  2.27s/it]"
     ],
     "name": "stderr"
    },
    {
     "output_type": "stream",
     "text": [
      "[Epoch 0] [Batch 140/500] [generator loss: 0.004853] [discriminator loss: -0.001101]\n"
     ],
     "name": "stdout"
    },
    {
     "output_type": "stream",
     "text": [
      " 30%|███       | 151/500 [07:20<13:23,  2.30s/it]"
     ],
     "name": "stderr"
    },
    {
     "output_type": "stream",
     "text": [
      "[Epoch 0] [Batch 150/500] [generator loss: 0.004116] [discriminator loss: 0.000253]\n"
     ],
     "name": "stdout"
    },
    {
     "output_type": "stream",
     "text": [
      " 32%|███▏      | 161/500 [07:43<12:54,  2.28s/it]"
     ],
     "name": "stderr"
    },
    {
     "output_type": "stream",
     "text": [
      "[Epoch 0] [Batch 160/500] [generator loss: 0.005031] [discriminator loss: -0.000223]\n"
     ],
     "name": "stdout"
    },
    {
     "output_type": "stream",
     "text": [
      " 34%|███▍      | 171/500 [08:06<12:26,  2.27s/it]"
     ],
     "name": "stderr"
    },
    {
     "output_type": "stream",
     "text": [
      "[Epoch 0] [Batch 170/500] [generator loss: 0.004132] [discriminator loss: 0.004394]\n"
     ],
     "name": "stdout"
    },
    {
     "output_type": "stream",
     "text": [
      " 36%|███▌      | 181/500 [08:29<12:08,  2.28s/it]"
     ],
     "name": "stderr"
    },
    {
     "output_type": "stream",
     "text": [
      "[Epoch 0] [Batch 180/500] [generator loss: 0.003983] [discriminator loss: 0.001854]\n"
     ],
     "name": "stdout"
    },
    {
     "output_type": "stream",
     "text": [
      " 38%|███▊      | 191/500 [08:51<11:41,  2.27s/it]"
     ],
     "name": "stderr"
    },
    {
     "output_type": "stream",
     "text": [
      "[Epoch 0] [Batch 190/500] [generator loss: 0.003630] [discriminator loss: 0.000817]\n"
     ],
     "name": "stdout"
    },
    {
     "output_type": "stream",
     "text": [
      " 40%|████      | 201/500 [09:14<11:25,  2.29s/it]"
     ],
     "name": "stderr"
    },
    {
     "output_type": "stream",
     "text": [
      "[Epoch 0] [Batch 200/500] [generator loss: 0.005654] [discriminator loss: -0.000822]\n"
     ],
     "name": "stdout"
    },
    {
     "output_type": "stream",
     "text": [
      " 42%|████▏     | 211/500 [09:37<11:00,  2.29s/it]"
     ],
     "name": "stderr"
    },
    {
     "output_type": "stream",
     "text": [
      "[Epoch 0] [Batch 210/500] [generator loss: 0.005229] [discriminator loss: -0.000579]\n"
     ],
     "name": "stdout"
    },
    {
     "output_type": "stream",
     "text": [
      " 44%|████▍     | 221/500 [10:00<10:20,  2.22s/it]"
     ],
     "name": "stderr"
    },
    {
     "output_type": "stream",
     "text": [
      "[Epoch 0] [Batch 220/500] [generator loss: 0.004087] [discriminator loss: 0.000463]\n"
     ],
     "name": "stdout"
    },
    {
     "output_type": "stream",
     "text": [
      " 46%|████▌     | 231/500 [10:22<10:00,  2.23s/it]"
     ],
     "name": "stderr"
    },
    {
     "output_type": "stream",
     "text": [
      "[Epoch 0] [Batch 230/500] [generator loss: 0.005076] [discriminator loss: -0.000125]\n"
     ],
     "name": "stdout"
    },
    {
     "output_type": "stream",
     "text": [
      " 48%|████▊     | 241/500 [10:44<09:29,  2.20s/it]"
     ],
     "name": "stderr"
    },
    {
     "output_type": "stream",
     "text": [
      "[Epoch 0] [Batch 240/500] [generator loss: 0.005379] [discriminator loss: 0.000639]\n"
     ],
     "name": "stdout"
    },
    {
     "output_type": "stream",
     "text": [
      " 50%|█████     | 251/500 [11:06<09:10,  2.21s/it]"
     ],
     "name": "stderr"
    },
    {
     "output_type": "stream",
     "text": [
      "[Epoch 0] [Batch 250/500] [generator loss: 0.004565] [discriminator loss: 0.001397]\n"
     ],
     "name": "stdout"
    },
    {
     "output_type": "stream",
     "text": [
      " 52%|█████▏    | 261/500 [11:29<08:53,  2.23s/it]"
     ],
     "name": "stderr"
    },
    {
     "output_type": "stream",
     "text": [
      "[Epoch 0] [Batch 260/500] [generator loss: 0.005994] [discriminator loss: 0.002508]\n"
     ],
     "name": "stdout"
    },
    {
     "output_type": "stream",
     "text": [
      " 54%|█████▍    | 271/500 [11:51<08:26,  2.21s/it]"
     ],
     "name": "stderr"
    },
    {
     "output_type": "stream",
     "text": [
      "[Epoch 0] [Batch 270/500] [generator loss: 0.006116] [discriminator loss: 0.002165]\n"
     ],
     "name": "stdout"
    },
    {
     "output_type": "stream",
     "text": [
      " 56%|█████▌    | 281/500 [12:13<08:10,  2.24s/it]"
     ],
     "name": "stderr"
    },
    {
     "output_type": "stream",
     "text": [
      "[Epoch 0] [Batch 280/500] [generator loss: 0.004768] [discriminator loss: 0.000661]\n"
     ],
     "name": "stdout"
    },
    {
     "output_type": "stream",
     "text": [
      " 58%|█████▊    | 291/500 [12:35<07:42,  2.21s/it]"
     ],
     "name": "stderr"
    },
    {
     "output_type": "stream",
     "text": [
      "[Epoch 0] [Batch 290/500] [generator loss: 0.005481] [discriminator loss: 0.000122]\n"
     ],
     "name": "stdout"
    },
    {
     "output_type": "stream",
     "text": [
      " 60%|██████    | 301/500 [12:57<07:17,  2.20s/it]"
     ],
     "name": "stderr"
    },
    {
     "output_type": "stream",
     "text": [
      "[Epoch 0] [Batch 300/500] [generator loss: 0.005832] [discriminator loss: -0.000449]\n"
     ],
     "name": "stdout"
    },
    {
     "output_type": "stream",
     "text": [
      " 62%|██████▏   | 311/500 [13:19<06:59,  2.22s/it]"
     ],
     "name": "stderr"
    },
    {
     "output_type": "stream",
     "text": [
      "[Epoch 0] [Batch 310/500] [generator loss: 0.005467] [discriminator loss: 0.000398]\n"
     ],
     "name": "stdout"
    },
    {
     "output_type": "stream",
     "text": [
      " 64%|██████▍   | 321/500 [13:41<06:37,  2.22s/it]"
     ],
     "name": "stderr"
    },
    {
     "output_type": "stream",
     "text": [
      "[Epoch 0] [Batch 320/500] [generator loss: 0.004951] [discriminator loss: 0.000090]\n"
     ],
     "name": "stdout"
    },
    {
     "output_type": "stream",
     "text": [
      " 66%|██████▌   | 331/500 [14:04<06:14,  2.22s/it]"
     ],
     "name": "stderr"
    },
    {
     "output_type": "stream",
     "text": [
      "[Epoch 0] [Batch 330/500] [generator loss: 0.005687] [discriminator loss: 0.000645]\n"
     ],
     "name": "stdout"
    },
    {
     "output_type": "stream",
     "text": [
      " 68%|██████▊   | 341/500 [14:26<05:51,  2.21s/it]"
     ],
     "name": "stderr"
    },
    {
     "output_type": "stream",
     "text": [
      "[Epoch 0] [Batch 340/500] [generator loss: 0.005964] [discriminator loss: 0.000002]\n"
     ],
     "name": "stdout"
    },
    {
     "output_type": "stream",
     "text": [
      " 70%|███████   | 351/500 [14:48<05:29,  2.21s/it]"
     ],
     "name": "stderr"
    },
    {
     "output_type": "stream",
     "text": [
      "[Epoch 0] [Batch 350/500] [generator loss: 0.005280] [discriminator loss: 0.000426]\n"
     ],
     "name": "stdout"
    },
    {
     "output_type": "stream",
     "text": [
      " 72%|███████▏  | 361/500 [15:10<05:09,  2.22s/it]"
     ],
     "name": "stderr"
    },
    {
     "output_type": "stream",
     "text": [
      "[Epoch 0] [Batch 360/500] [generator loss: 0.005781] [discriminator loss: 0.000258]\n"
     ],
     "name": "stdout"
    },
    {
     "output_type": "stream",
     "text": [
      " 74%|███████▍  | 371/500 [15:32<04:43,  2.19s/it]"
     ],
     "name": "stderr"
    },
    {
     "output_type": "stream",
     "text": [
      "[Epoch 0] [Batch 370/500] [generator loss: 0.005382] [discriminator loss: -0.000512]\n"
     ],
     "name": "stdout"
    },
    {
     "output_type": "stream",
     "text": [
      " 76%|███████▌  | 381/500 [15:54<04:22,  2.20s/it]"
     ],
     "name": "stderr"
    },
    {
     "output_type": "stream",
     "text": [
      "[Epoch 0] [Batch 380/500] [generator loss: 0.006656] [discriminator loss: 0.001301]\n"
     ],
     "name": "stdout"
    },
    {
     "output_type": "stream",
     "text": [
      " 78%|███████▊  | 391/500 [16:16<03:59,  2.20s/it]"
     ],
     "name": "stderr"
    },
    {
     "output_type": "stream",
     "text": [
      "[Epoch 0] [Batch 390/500] [generator loss: 0.007623] [discriminator loss: 0.001086]\n"
     ],
     "name": "stdout"
    },
    {
     "output_type": "stream",
     "text": [
      " 80%|████████  | 401/500 [16:38<03:36,  2.19s/it]"
     ],
     "name": "stderr"
    },
    {
     "output_type": "stream",
     "text": [
      "[Epoch 0] [Batch 400/500] [generator loss: 0.005293] [discriminator loss: 0.004102]\n"
     ],
     "name": "stdout"
    },
    {
     "output_type": "stream",
     "text": [
      " 82%|████████▏ | 411/500 [17:00<03:15,  2.20s/it]"
     ],
     "name": "stderr"
    },
    {
     "output_type": "stream",
     "text": [
      "[Epoch 0] [Batch 410/500] [generator loss: 0.006243] [discriminator loss: -0.000240]\n"
     ],
     "name": "stdout"
    },
    {
     "output_type": "stream",
     "text": [
      " 84%|████████▍ | 421/500 [17:22<02:53,  2.20s/it]"
     ],
     "name": "stderr"
    },
    {
     "output_type": "stream",
     "text": [
      "[Epoch 0] [Batch 420/500] [generator loss: 0.005490] [discriminator loss: 0.000992]\n"
     ],
     "name": "stdout"
    },
    {
     "output_type": "stream",
     "text": [
      " 86%|████████▌ | 431/500 [17:44<02:31,  2.20s/it]"
     ],
     "name": "stderr"
    },
    {
     "output_type": "stream",
     "text": [
      "[Epoch 0] [Batch 430/500] [generator loss: 0.004744] [discriminator loss: -0.000101]\n"
     ],
     "name": "stdout"
    },
    {
     "output_type": "stream",
     "text": [
      " 88%|████████▊ | 441/500 [18:06<02:09,  2.19s/it]"
     ],
     "name": "stderr"
    },
    {
     "output_type": "stream",
     "text": [
      "[Epoch 0] [Batch 440/500] [generator loss: 0.006137] [discriminator loss: 0.000219]\n"
     ],
     "name": "stdout"
    },
    {
     "output_type": "stream",
     "text": [
      " 90%|█████████ | 451/500 [18:28<01:46,  2.18s/it]"
     ],
     "name": "stderr"
    },
    {
     "output_type": "stream",
     "text": [
      "[Epoch 0] [Batch 450/500] [generator loss: 0.005932] [discriminator loss: 0.010075]\n"
     ],
     "name": "stdout"
    },
    {
     "output_type": "stream",
     "text": [
      " 92%|█████████▏| 461/500 [18:50<01:25,  2.19s/it]"
     ],
     "name": "stderr"
    },
    {
     "output_type": "stream",
     "text": [
      "[Epoch 0] [Batch 460/500] [generator loss: 0.006026] [discriminator loss: 0.002414]\n"
     ],
     "name": "stdout"
    },
    {
     "output_type": "stream",
     "text": [
      " 94%|█████████▍| 471/500 [19:12<01:03,  2.19s/it]"
     ],
     "name": "stderr"
    },
    {
     "output_type": "stream",
     "text": [
      "[Epoch 0] [Batch 470/500] [generator loss: 0.006945] [discriminator loss: -0.000090]\n"
     ],
     "name": "stdout"
    },
    {
     "output_type": "stream",
     "text": [
      " 96%|█████████▌| 481/500 [19:34<00:41,  2.19s/it]"
     ],
     "name": "stderr"
    },
    {
     "output_type": "stream",
     "text": [
      "[Epoch 0] [Batch 480/500] [generator loss: 0.006742] [discriminator loss: -0.000143]\n"
     ],
     "name": "stdout"
    },
    {
     "output_type": "stream",
     "text": [
      " 98%|█████████▊| 491/500 [19:56<00:19,  2.20s/it]"
     ],
     "name": "stderr"
    },
    {
     "output_type": "stream",
     "text": [
      "[Epoch 0] [Batch 490/500] [generator loss: 0.007140] [discriminator loss: -0.000680]\n"
     ],
     "name": "stdout"
    },
    {
     "output_type": "stream",
     "text": [
      "100%|██████████| 500/500 [20:15<00:00,  2.43s/it]\n"
     ],
     "name": "stderr"
    },
    {
     "output_type": "stream",
     "text": [
      "Saving models...\n",
      "Models saved.\n",
      "Sampling test images...\n"
     ],
     "name": "stdout"
    },
    {
     "output_type": "stream",
     "text": [
      "  0%|          | 1/500 [00:03<32:05,  3.86s/it]"
     ],
     "name": "stderr"
    },
    {
     "output_type": "stream",
     "text": [
      "[Epoch 1] [Batch 0/500] [generator loss: 0.006368] [discriminator loss: -0.001109]\n"
     ],
     "name": "stdout"
    },
    {
     "output_type": "stream",
     "text": [
      "  2%|▏         | 11/500 [00:26<18:30,  2.27s/it]"
     ],
     "name": "stderr"
    },
    {
     "output_type": "stream",
     "text": [
      "[Epoch 1] [Batch 10/500] [generator loss: 0.006414] [discriminator loss: -0.000435]\n"
     ],
     "name": "stdout"
    },
    {
     "output_type": "stream",
     "text": [
      "  4%|▍         | 21/500 [00:48<17:44,  2.22s/it]"
     ],
     "name": "stderr"
    },
    {
     "output_type": "stream",
     "text": [
      "[Epoch 1] [Batch 20/500] [generator loss: 0.005720] [discriminator loss: 0.000234]\n"
     ],
     "name": "stdout"
    },
    {
     "output_type": "stream",
     "text": [
      "  6%|▌         | 31/500 [01:10<17:15,  2.21s/it]"
     ],
     "name": "stderr"
    },
    {
     "output_type": "stream",
     "text": [
      "[Epoch 1] [Batch 30/500] [generator loss: 0.005752] [discriminator loss: 0.001786]\n"
     ],
     "name": "stdout"
    },
    {
     "output_type": "stream",
     "text": [
      "  8%|▊         | 41/500 [01:33<16:55,  2.21s/it]"
     ],
     "name": "stderr"
    },
    {
     "output_type": "stream",
     "text": [
      "[Epoch 1] [Batch 40/500] [generator loss: 0.006843] [discriminator loss: 0.011244]\n"
     ],
     "name": "stdout"
    },
    {
     "output_type": "stream",
     "text": [
      " 10%|█         | 51/500 [01:55<16:50,  2.25s/it]"
     ],
     "name": "stderr"
    },
    {
     "output_type": "stream",
     "text": [
      "[Epoch 1] [Batch 50/500] [generator loss: 0.006836] [discriminator loss: 0.000501]\n"
     ],
     "name": "stdout"
    },
    {
     "output_type": "stream",
     "text": [
      " 12%|█▏        | 61/500 [02:17<16:08,  2.21s/it]"
     ],
     "name": "stderr"
    },
    {
     "output_type": "stream",
     "text": [
      "[Epoch 1] [Batch 60/500] [generator loss: 0.006798] [discriminator loss: 0.000226]\n"
     ],
     "name": "stdout"
    },
    {
     "output_type": "stream",
     "text": [
      " 14%|█▍        | 71/500 [02:40<15:57,  2.23s/it]"
     ],
     "name": "stderr"
    },
    {
     "output_type": "stream",
     "text": [
      "[Epoch 1] [Batch 70/500] [generator loss: 0.006303] [discriminator loss: 0.017736]\n"
     ],
     "name": "stdout"
    },
    {
     "output_type": "stream",
     "text": [
      " 16%|█▌        | 81/500 [03:02<15:23,  2.20s/it]"
     ],
     "name": "stderr"
    },
    {
     "output_type": "stream",
     "text": [
      "[Epoch 1] [Batch 80/500] [generator loss: 0.005820] [discriminator loss: 0.000218]\n"
     ],
     "name": "stdout"
    },
    {
     "output_type": "stream",
     "text": [
      " 18%|█▊        | 91/500 [03:24<15:10,  2.23s/it]"
     ],
     "name": "stderr"
    },
    {
     "output_type": "stream",
     "text": [
      "[Epoch 1] [Batch 90/500] [generator loss: 0.005926] [discriminator loss: 0.000772]\n"
     ],
     "name": "stdout"
    },
    {
     "output_type": "stream",
     "text": [
      " 20%|██        | 101/500 [03:46<14:50,  2.23s/it]"
     ],
     "name": "stderr"
    },
    {
     "output_type": "stream",
     "text": [
      "[Epoch 1] [Batch 100/500] [generator loss: 0.006532] [discriminator loss: 0.000905]\n"
     ],
     "name": "stdout"
    },
    {
     "output_type": "stream",
     "text": [
      " 22%|██▏       | 111/500 [04:08<14:24,  2.22s/it]"
     ],
     "name": "stderr"
    },
    {
     "output_type": "stream",
     "text": [
      "[Epoch 1] [Batch 110/500] [generator loss: 0.007815] [discriminator loss: 0.000425]\n"
     ],
     "name": "stdout"
    },
    {
     "output_type": "stream",
     "text": [
      " 24%|██▍       | 121/500 [04:30<13:52,  2.20s/it]"
     ],
     "name": "stderr"
    },
    {
     "output_type": "stream",
     "text": [
      "[Epoch 1] [Batch 120/500] [generator loss: 0.007317] [discriminator loss: -0.001939]\n"
     ],
     "name": "stdout"
    },
    {
     "output_type": "stream",
     "text": [
      " 26%|██▌       | 131/500 [04:53<13:36,  2.21s/it]"
     ],
     "name": "stderr"
    },
    {
     "output_type": "stream",
     "text": [
      "[Epoch 1] [Batch 130/500] [generator loss: 0.006602] [discriminator loss: -0.000470]\n"
     ],
     "name": "stdout"
    },
    {
     "output_type": "stream",
     "text": [
      " 28%|██▊       | 141/500 [05:15<13:08,  2.20s/it]"
     ],
     "name": "stderr"
    },
    {
     "output_type": "stream",
     "text": [
      "[Epoch 1] [Batch 140/500] [generator loss: 0.007373] [discriminator loss: -0.001594]\n"
     ],
     "name": "stdout"
    },
    {
     "output_type": "stream",
     "text": [
      " 30%|███       | 151/500 [05:37<12:55,  2.22s/it]"
     ],
     "name": "stderr"
    },
    {
     "output_type": "stream",
     "text": [
      "[Epoch 1] [Batch 150/500] [generator loss: 0.006542] [discriminator loss: 0.000663]\n"
     ],
     "name": "stdout"
    },
    {
     "output_type": "stream",
     "text": [
      " 32%|███▏      | 161/500 [05:59<12:27,  2.21s/it]"
     ],
     "name": "stderr"
    },
    {
     "output_type": "stream",
     "text": [
      "[Epoch 1] [Batch 160/500] [generator loss: 0.007293] [discriminator loss: 0.000516]\n"
     ],
     "name": "stdout"
    },
    {
     "output_type": "stream",
     "text": [
      " 34%|███▍      | 171/500 [06:21<12:06,  2.21s/it]"
     ],
     "name": "stderr"
    },
    {
     "output_type": "stream",
     "text": [
      "[Epoch 1] [Batch 170/500] [generator loss: 0.006743] [discriminator loss: 0.001350]\n"
     ],
     "name": "stdout"
    },
    {
     "output_type": "stream",
     "text": [
      " 36%|███▌      | 181/500 [06:43<11:50,  2.23s/it]"
     ],
     "name": "stderr"
    },
    {
     "output_type": "stream",
     "text": [
      "[Epoch 1] [Batch 180/500] [generator loss: 0.006573] [discriminator loss: 0.004423]\n"
     ],
     "name": "stdout"
    },
    {
     "output_type": "stream",
     "text": [
      " 38%|███▊      | 191/500 [07:05<11:23,  2.21s/it]"
     ],
     "name": "stderr"
    },
    {
     "output_type": "stream",
     "text": [
      "[Epoch 1] [Batch 190/500] [generator loss: 0.006128] [discriminator loss: 0.003202]\n"
     ],
     "name": "stdout"
    },
    {
     "output_type": "stream",
     "text": [
      " 40%|████      | 201/500 [07:27<11:00,  2.21s/it]"
     ],
     "name": "stderr"
    },
    {
     "output_type": "stream",
     "text": [
      "[Epoch 1] [Batch 200/500] [generator loss: 0.008110] [discriminator loss: -0.001393]\n"
     ],
     "name": "stdout"
    },
    {
     "output_type": "stream",
     "text": [
      " 42%|████▏     | 211/500 [07:50<10:40,  2.22s/it]"
     ],
     "name": "stderr"
    },
    {
     "output_type": "stream",
     "text": [
      "[Epoch 1] [Batch 210/500] [generator loss: 0.007083] [discriminator loss: 0.000870]\n"
     ],
     "name": "stdout"
    },
    {
     "output_type": "stream",
     "text": [
      " 44%|████▍     | 221/500 [08:12<10:15,  2.21s/it]"
     ],
     "name": "stderr"
    },
    {
     "output_type": "stream",
     "text": [
      "[Epoch 1] [Batch 220/500] [generator loss: 0.006664] [discriminator loss: 0.000546]\n"
     ],
     "name": "stdout"
    },
    {
     "output_type": "stream",
     "text": [
      " 46%|████▌     | 231/500 [08:34<09:58,  2.22s/it]"
     ],
     "name": "stderr"
    },
    {
     "output_type": "stream",
     "text": [
      "[Epoch 1] [Batch 230/500] [generator loss: 0.007578] [discriminator loss: 0.009214]\n"
     ],
     "name": "stdout"
    },
    {
     "output_type": "stream",
     "text": [
      " 48%|████▊     | 241/500 [08:56<09:33,  2.21s/it]"
     ],
     "name": "stderr"
    },
    {
     "output_type": "stream",
     "text": [
      "[Epoch 1] [Batch 240/500] [generator loss: 0.007264] [discriminator loss: 0.005436]\n"
     ],
     "name": "stdout"
    },
    {
     "output_type": "stream",
     "text": [
      " 50%|█████     | 251/500 [09:18<09:09,  2.21s/it]"
     ],
     "name": "stderr"
    },
    {
     "output_type": "stream",
     "text": [
      "[Epoch 1] [Batch 250/500] [generator loss: 0.007244] [discriminator loss: 0.000447]\n"
     ],
     "name": "stdout"
    },
    {
     "output_type": "stream",
     "text": [
      " 52%|█████▏    | 261/500 [09:40<08:49,  2.22s/it]"
     ],
     "name": "stderr"
    },
    {
     "output_type": "stream",
     "text": [
      "[Epoch 1] [Batch 260/500] [generator loss: 0.007986] [discriminator loss: -0.000706]\n"
     ],
     "name": "stdout"
    },
    {
     "output_type": "stream",
     "text": [
      " 54%|█████▍    | 271/500 [10:03<08:29,  2.23s/it]"
     ],
     "name": "stderr"
    },
    {
     "output_type": "stream",
     "text": [
      "[Epoch 1] [Batch 270/500] [generator loss: 0.008404] [discriminator loss: -0.000924]\n"
     ],
     "name": "stdout"
    },
    {
     "output_type": "stream",
     "text": [
      " 56%|█████▌    | 281/500 [10:25<08:04,  2.21s/it]"
     ],
     "name": "stderr"
    },
    {
     "output_type": "stream",
     "text": [
      "[Epoch 1] [Batch 280/500] [generator loss: 0.007080] [discriminator loss: 0.000928]\n"
     ],
     "name": "stdout"
    },
    {
     "output_type": "stream",
     "text": [
      " 58%|█████▊    | 291/500 [10:47<07:38,  2.19s/it]"
     ],
     "name": "stderr"
    },
    {
     "output_type": "stream",
     "text": [
      "[Epoch 1] [Batch 290/500] [generator loss: 0.007945] [discriminator loss: -0.000326]\n"
     ],
     "name": "stdout"
    },
    {
     "output_type": "stream",
     "text": [
      " 60%|██████    | 301/500 [11:09<07:17,  2.20s/it]"
     ],
     "name": "stderr"
    },
    {
     "output_type": "stream",
     "text": [
      "[Epoch 1] [Batch 300/500] [generator loss: 0.008173] [discriminator loss: 0.000199]\n"
     ],
     "name": "stdout"
    },
    {
     "output_type": "stream",
     "text": [
      " 62%|██████▏   | 311/500 [11:31<06:57,  2.21s/it]"
     ],
     "name": "stderr"
    },
    {
     "output_type": "stream",
     "text": [
      "[Epoch 1] [Batch 310/500] [generator loss: 0.007459] [discriminator loss: -0.000149]\n"
     ],
     "name": "stdout"
    },
    {
     "output_type": "stream",
     "text": [
      " 64%|██████▍   | 321/500 [11:53<06:36,  2.21s/it]"
     ],
     "name": "stderr"
    },
    {
     "output_type": "stream",
     "text": [
      "[Epoch 1] [Batch 320/500] [generator loss: 0.007085] [discriminator loss: -0.000121]\n"
     ],
     "name": "stdout"
    },
    {
     "output_type": "stream",
     "text": [
      " 66%|██████▌   | 331/500 [12:15<06:14,  2.22s/it]"
     ],
     "name": "stderr"
    },
    {
     "output_type": "stream",
     "text": [
      "[Epoch 1] [Batch 330/500] [generator loss: 0.007681] [discriminator loss: -0.000518]\n"
     ],
     "name": "stdout"
    },
    {
     "output_type": "stream",
     "text": [
      " 68%|██████▊   | 341/500 [12:37<05:50,  2.21s/it]"
     ],
     "name": "stderr"
    },
    {
     "output_type": "stream",
     "text": [
      "[Epoch 1] [Batch 340/500] [generator loss: 0.007824] [discriminator loss: -0.000741]\n"
     ],
     "name": "stdout"
    },
    {
     "output_type": "stream",
     "text": [
      " 70%|███████   | 351/500 [12:59<05:28,  2.20s/it]"
     ],
     "name": "stderr"
    },
    {
     "output_type": "stream",
     "text": [
      "[Epoch 1] [Batch 350/500] [generator loss: 0.007306] [discriminator loss: 0.000119]\n"
     ],
     "name": "stdout"
    },
    {
     "output_type": "stream",
     "text": [
      " 72%|███████▏  | 361/500 [13:21<05:07,  2.21s/it]"
     ],
     "name": "stderr"
    },
    {
     "output_type": "stream",
     "text": [
      "[Epoch 1] [Batch 360/500] [generator loss: 0.007844] [discriminator loss: 0.000314]\n"
     ],
     "name": "stdout"
    },
    {
     "output_type": "stream",
     "text": [
      " 74%|███████▍  | 371/500 [13:43<04:43,  2.19s/it]"
     ],
     "name": "stderr"
    },
    {
     "output_type": "stream",
     "text": [
      "[Epoch 1] [Batch 370/500] [generator loss: 0.007512] [discriminator loss: 0.000040]\n"
     ],
     "name": "stdout"
    },
    {
     "output_type": "stream",
     "text": [
      " 76%|███████▌  | 381/500 [14:05<04:22,  2.21s/it]"
     ],
     "name": "stderr"
    },
    {
     "output_type": "stream",
     "text": [
      "[Epoch 1] [Batch 380/500] [generator loss: 0.008508] [discriminator loss: -0.001059]\n"
     ],
     "name": "stdout"
    },
    {
     "output_type": "stream",
     "text": [
      " 78%|███████▊  | 391/500 [14:27<03:59,  2.19s/it]"
     ],
     "name": "stderr"
    },
    {
     "output_type": "stream",
     "text": [
      "[Epoch 1] [Batch 390/500] [generator loss: 0.008487] [discriminator loss: -0.001560]\n"
     ],
     "name": "stdout"
    },
    {
     "output_type": "stream",
     "text": [
      " 80%|████████  | 401/500 [14:49<03:36,  2.19s/it]"
     ],
     "name": "stderr"
    },
    {
     "output_type": "stream",
     "text": [
      "[Epoch 1] [Batch 400/500] [generator loss: 0.007502] [discriminator loss: -0.000543]\n"
     ],
     "name": "stdout"
    },
    {
     "output_type": "stream",
     "text": [
      " 82%|████████▏ | 411/500 [15:11<03:15,  2.20s/it]"
     ],
     "name": "stderr"
    },
    {
     "output_type": "stream",
     "text": [
      "[Epoch 1] [Batch 410/500] [generator loss: 0.008394] [discriminator loss: 0.004561]\n"
     ],
     "name": "stdout"
    },
    {
     "output_type": "stream",
     "text": [
      " 84%|████████▍ | 421/500 [15:33<02:53,  2.20s/it]"
     ],
     "name": "stderr"
    },
    {
     "output_type": "stream",
     "text": [
      "[Epoch 1] [Batch 420/500] [generator loss: 0.007016] [discriminator loss: 0.112804]\n"
     ],
     "name": "stdout"
    },
    {
     "output_type": "stream",
     "text": [
      " 86%|████████▌ | 431/500 [15:55<02:32,  2.21s/it]"
     ],
     "name": "stderr"
    },
    {
     "output_type": "stream",
     "text": [
      "[Epoch 1] [Batch 430/500] [generator loss: 0.006929] [discriminator loss: 0.004588]\n"
     ],
     "name": "stdout"
    },
    {
     "output_type": "stream",
     "text": [
      " 88%|████████▊ | 441/500 [16:17<02:09,  2.20s/it]"
     ],
     "name": "stderr"
    },
    {
     "output_type": "stream",
     "text": [
      "[Epoch 1] [Batch 440/500] [generator loss: 0.007890] [discriminator loss: 0.000719]\n"
     ],
     "name": "stdout"
    },
    {
     "output_type": "stream",
     "text": [
      " 90%|█████████ | 451/500 [16:39<01:47,  2.19s/it]"
     ],
     "name": "stderr"
    },
    {
     "output_type": "stream",
     "text": [
      "[Epoch 1] [Batch 450/500] [generator loss: 0.007358] [discriminator loss: 0.001144]\n"
     ],
     "name": "stdout"
    },
    {
     "output_type": "stream",
     "text": [
      " 92%|█████████▏| 461/500 [17:01<01:25,  2.19s/it]"
     ],
     "name": "stderr"
    },
    {
     "output_type": "stream",
     "text": [
      "[Epoch 1] [Batch 460/500] [generator loss: 0.007984] [discriminator loss: 0.000477]\n"
     ],
     "name": "stdout"
    },
    {
     "output_type": "stream",
     "text": [
      " 94%|█████████▍| 471/500 [17:23<01:03,  2.19s/it]"
     ],
     "name": "stderr"
    },
    {
     "output_type": "stream",
     "text": [
      "[Epoch 1] [Batch 470/500] [generator loss: 0.008797] [discriminator loss: 0.000318]\n"
     ],
     "name": "stdout"
    },
    {
     "output_type": "stream",
     "text": [
      " 96%|█████████▌| 481/500 [17:45<00:42,  2.23s/it]"
     ],
     "name": "stderr"
    },
    {
     "output_type": "stream",
     "text": [
      "[Epoch 1] [Batch 480/500] [generator loss: 0.008241] [discriminator loss: -0.000007]\n"
     ],
     "name": "stdout"
    },
    {
     "output_type": "stream",
     "text": [
      " 98%|█████████▊| 491/500 [18:07<00:19,  2.20s/it]"
     ],
     "name": "stderr"
    },
    {
     "output_type": "stream",
     "text": [
      "[Epoch 1] [Batch 490/500] [generator loss: 0.008646] [discriminator loss: 0.000050]\n"
     ],
     "name": "stdout"
    },
    {
     "output_type": "stream",
     "text": [
      "100%|██████████| 500/500 [18:27<00:00,  2.21s/it]\n"
     ],
     "name": "stderr"
    },
    {
     "output_type": "stream",
     "text": [
      "Saving models...\n",
      "Models saved.\n",
      "Sampling test images...\n"
     ],
     "name": "stdout"
    },
    {
     "output_type": "stream",
     "text": [
      "  0%|          | 1/500 [00:04<36:55,  4.44s/it]"
     ],
     "name": "stderr"
    },
    {
     "output_type": "stream",
     "text": [
      "[Epoch 2] [Batch 0/500] [generator loss: 0.008058] [discriminator loss: 0.000352]\n"
     ],
     "name": "stdout"
    },
    {
     "output_type": "stream",
     "text": [
      "  2%|▏         | 11/500 [00:29<18:55,  2.32s/it]"
     ],
     "name": "stderr"
    },
    {
     "output_type": "stream",
     "text": [
      "[Epoch 2] [Batch 10/500] [generator loss: 0.008400] [discriminator loss: 0.000074]\n"
     ],
     "name": "stdout"
    },
    {
     "output_type": "stream",
     "text": [
      "  4%|▍         | 21/500 [00:51<17:35,  2.20s/it]"
     ],
     "name": "stderr"
    },
    {
     "output_type": "stream",
     "text": [
      "[Epoch 2] [Batch 20/500] [generator loss: 0.007603] [discriminator loss: 0.000471]\n"
     ],
     "name": "stdout"
    },
    {
     "output_type": "stream",
     "text": [
      "  6%|▌         | 31/500 [01:13<17:12,  2.20s/it]"
     ],
     "name": "stderr"
    },
    {
     "output_type": "stream",
     "text": [
      "[Epoch 2] [Batch 30/500] [generator loss: 0.007878] [discriminator loss: 0.000852]\n"
     ],
     "name": "stdout"
    },
    {
     "output_type": "stream",
     "text": [
      "  8%|▊         | 41/500 [01:35<16:57,  2.22s/it]"
     ],
     "name": "stderr"
    },
    {
     "output_type": "stream",
     "text": [
      "[Epoch 2] [Batch 40/500] [generator loss: 0.008288] [discriminator loss: 0.000548]\n"
     ],
     "name": "stdout"
    },
    {
     "output_type": "stream",
     "text": [
      " 10%|█         | 51/500 [01:58<16:49,  2.25s/it]"
     ],
     "name": "stderr"
    },
    {
     "output_type": "stream",
     "text": [
      "[Epoch 2] [Batch 50/500] [generator loss: 0.008871] [discriminator loss: -0.000310]\n"
     ],
     "name": "stdout"
    },
    {
     "output_type": "stream",
     "text": [
      " 12%|█▏        | 61/500 [02:20<16:03,  2.19s/it]"
     ],
     "name": "stderr"
    },
    {
     "output_type": "stream",
     "text": [
      "[Epoch 2] [Batch 60/500] [generator loss: 0.008791] [discriminator loss: -0.000515]\n"
     ],
     "name": "stdout"
    },
    {
     "output_type": "stream",
     "text": [
      " 14%|█▍        | 71/500 [02:42<16:00,  2.24s/it]"
     ],
     "name": "stderr"
    },
    {
     "output_type": "stream",
     "text": [
      "[Epoch 2] [Batch 70/500] [generator loss: 0.008261] [discriminator loss: 0.000103]\n"
     ],
     "name": "stdout"
    },
    {
     "output_type": "stream",
     "text": [
      " 16%|█▌        | 81/500 [03:04<15:24,  2.21s/it]"
     ],
     "name": "stderr"
    },
    {
     "output_type": "stream",
     "text": [
      "[Epoch 2] [Batch 80/500] [generator loss: 0.008066] [discriminator loss: -0.000142]\n"
     ],
     "name": "stdout"
    },
    {
     "output_type": "stream",
     "text": [
      " 18%|█▊        | 91/500 [03:26<15:06,  2.22s/it]"
     ],
     "name": "stderr"
    },
    {
     "output_type": "stream",
     "text": [
      "[Epoch 2] [Batch 90/500] [generator loss: 0.008122] [discriminator loss: -0.000291]\n"
     ],
     "name": "stdout"
    },
    {
     "output_type": "stream",
     "text": [
      " 20%|██        | 101/500 [03:49<14:46,  2.22s/it]"
     ],
     "name": "stderr"
    },
    {
     "output_type": "stream",
     "text": [
      "[Epoch 2] [Batch 100/500] [generator loss: 0.008473] [discriminator loss: -0.000035]\n"
     ],
     "name": "stdout"
    },
    {
     "output_type": "stream",
     "text": [
      " 22%|██▏       | 111/500 [04:11<14:22,  2.22s/it]"
     ],
     "name": "stderr"
    },
    {
     "output_type": "stream",
     "text": [
      "[Epoch 2] [Batch 110/500] [generator loss: 0.009263] [discriminator loss: -0.000442]\n"
     ],
     "name": "stdout"
    },
    {
     "output_type": "stream",
     "text": [
      " 24%|██▍       | 121/500 [04:33<13:59,  2.21s/it]"
     ],
     "name": "stderr"
    },
    {
     "output_type": "stream",
     "text": [
      "[Epoch 2] [Batch 120/500] [generator loss: 0.009272] [discriminator loss: -0.000682]\n"
     ],
     "name": "stdout"
    },
    {
     "output_type": "stream",
     "text": [
      " 26%|██▌       | 131/500 [04:55<13:39,  2.22s/it]"
     ],
     "name": "stderr"
    },
    {
     "output_type": "stream",
     "text": [
      "[Epoch 2] [Batch 130/500] [generator loss: 0.008630] [discriminator loss: -0.000218]\n"
     ],
     "name": "stdout"
    },
    {
     "output_type": "stream",
     "text": [
      " 28%|██▊       | 141/500 [05:17<13:15,  2.22s/it]"
     ],
     "name": "stderr"
    },
    {
     "output_type": "stream",
     "text": [
      "[Epoch 2] [Batch 140/500] [generator loss: 0.009255] [discriminator loss: -0.000671]\n"
     ],
     "name": "stdout"
    },
    {
     "output_type": "stream",
     "text": [
      " 30%|███       | 151/500 [05:40<12:53,  2.22s/it]"
     ],
     "name": "stderr"
    },
    {
     "output_type": "stream",
     "text": [
      "[Epoch 2] [Batch 150/500] [generator loss: 0.008432] [discriminator loss: -0.000055]\n"
     ],
     "name": "stdout"
    },
    {
     "output_type": "stream",
     "text": [
      " 32%|███▏      | 161/500 [06:02<12:27,  2.20s/it]"
     ],
     "name": "stderr"
    },
    {
     "output_type": "stream",
     "text": [
      "[Epoch 2] [Batch 160/500] [generator loss: 0.009151] [discriminator loss: -0.000436]\n"
     ],
     "name": "stdout"
    },
    {
     "output_type": "stream",
     "text": [
      " 34%|███▍      | 171/500 [06:24<12:08,  2.21s/it]"
     ],
     "name": "stderr"
    },
    {
     "output_type": "stream",
     "text": [
      "[Epoch 2] [Batch 170/500] [generator loss: 0.008820] [discriminator loss: -0.000048]\n"
     ],
     "name": "stdout"
    },
    {
     "output_type": "stream",
     "text": [
      " 36%|███▌      | 181/500 [06:46<11:43,  2.21s/it]"
     ],
     "name": "stderr"
    },
    {
     "output_type": "stream",
     "text": [
      "[Epoch 2] [Batch 180/500] [generator loss: 0.008525] [discriminator loss: 0.000063]\n"
     ],
     "name": "stdout"
    },
    {
     "output_type": "stream",
     "text": [
      " 38%|███▊      | 191/500 [07:08<11:17,  2.19s/it]"
     ],
     "name": "stderr"
    },
    {
     "output_type": "stream",
     "text": [
      "[Epoch 2] [Batch 190/500] [generator loss: 0.008314] [discriminator loss: 0.000180]\n"
     ],
     "name": "stdout"
    },
    {
     "output_type": "stream",
     "text": [
      " 40%|████      | 201/500 [07:30<11:00,  2.21s/it]"
     ],
     "name": "stderr"
    },
    {
     "output_type": "stream",
     "text": [
      "[Epoch 2] [Batch 200/500] [generator loss: 0.009717] [discriminator loss: -0.000946]\n"
     ],
     "name": "stdout"
    },
    {
     "output_type": "stream",
     "text": [
      " 42%|████▏     | 211/500 [07:52<10:41,  2.22s/it]"
     ],
     "name": "stderr"
    },
    {
     "output_type": "stream",
     "text": [
      "[Epoch 2] [Batch 210/500] [generator loss: 0.008803] [discriminator loss: -0.000503]\n"
     ],
     "name": "stdout"
    },
    {
     "output_type": "stream",
     "text": [
      " 44%|████▍     | 221/500 [08:14<10:15,  2.20s/it]"
     ],
     "name": "stderr"
    },
    {
     "output_type": "stream",
     "text": [
      "[Epoch 2] [Batch 220/500] [generator loss: 0.008416] [discriminator loss: 0.000477]\n"
     ],
     "name": "stdout"
    },
    {
     "output_type": "stream",
     "text": [
      " 46%|████▌     | 231/500 [08:36<09:54,  2.21s/it]"
     ],
     "name": "stderr"
    },
    {
     "output_type": "stream",
     "text": [
      "[Epoch 2] [Batch 230/500] [generator loss: 0.009320] [discriminator loss: -0.000476]\n"
     ],
     "name": "stdout"
    },
    {
     "output_type": "stream",
     "text": [
      " 48%|████▊     | 241/500 [08:58<09:33,  2.21s/it]"
     ],
     "name": "stderr"
    },
    {
     "output_type": "stream",
     "text": [
      "[Epoch 2] [Batch 240/500] [generator loss: 0.008865] [discriminator loss: 0.000753]\n"
     ],
     "name": "stdout"
    },
    {
     "output_type": "stream",
     "text": [
      " 50%|█████     | 251/500 [09:20<09:01,  2.17s/it]"
     ],
     "name": "stderr"
    },
    {
     "output_type": "stream",
     "text": [
      "[Epoch 2] [Batch 250/500] [generator loss: 0.008868] [discriminator loss: 0.001228]\n"
     ],
     "name": "stdout"
    },
    {
     "output_type": "stream",
     "text": [
      " 52%|█████▏    | 261/500 [09:42<08:50,  2.22s/it]"
     ],
     "name": "stderr"
    },
    {
     "output_type": "stream",
     "text": [
      "[Epoch 2] [Batch 260/500] [generator loss: 0.009448] [discriminator loss: 0.001103]\n"
     ],
     "name": "stdout"
    },
    {
     "output_type": "stream",
     "text": [
      " 54%|█████▍    | 271/500 [10:04<08:28,  2.22s/it]"
     ],
     "name": "stderr"
    },
    {
     "output_type": "stream",
     "text": [
      "[Epoch 2] [Batch 270/500] [generator loss: 0.009714] [discriminator loss: -0.000566]\n"
     ],
     "name": "stdout"
    },
    {
     "output_type": "stream",
     "text": [
      " 56%|█████▌    | 281/500 [10:26<08:01,  2.20s/it]"
     ],
     "name": "stderr"
    },
    {
     "output_type": "stream",
     "text": [
      "[Epoch 2] [Batch 280/500] [generator loss: 0.008556] [discriminator loss: -0.000282]\n"
     ],
     "name": "stdout"
    },
    {
     "output_type": "stream",
     "text": [
      " 58%|█████▊    | 291/500 [10:48<07:39,  2.20s/it]"
     ],
     "name": "stderr"
    },
    {
     "output_type": "stream",
     "text": [
      "[Epoch 2] [Batch 290/500] [generator loss: 0.009456] [discriminator loss: -0.000252]\n"
     ],
     "name": "stdout"
    },
    {
     "output_type": "stream",
     "text": [
      " 60%|██████    | 301/500 [11:10<07:15,  2.19s/it]"
     ],
     "name": "stderr"
    },
    {
     "output_type": "stream",
     "text": [
      "[Epoch 2] [Batch 300/500] [generator loss: 0.009636] [discriminator loss: -0.000717]\n"
     ],
     "name": "stdout"
    },
    {
     "output_type": "stream",
     "text": [
      " 62%|██████▏   | 311/500 [11:32<06:54,  2.19s/it]"
     ],
     "name": "stderr"
    },
    {
     "output_type": "stream",
     "text": [
      "[Epoch 2] [Batch 310/500] [generator loss: 0.008912] [discriminator loss: 0.000250]\n"
     ],
     "name": "stdout"
    },
    {
     "output_type": "stream",
     "text": [
      " 64%|██████▍   | 321/500 [11:54<06:32,  2.19s/it]"
     ],
     "name": "stderr"
    },
    {
     "output_type": "stream",
     "text": [
      "[Epoch 2] [Batch 320/500] [generator loss: 0.008708] [discriminator loss: -0.000058]\n"
     ],
     "name": "stdout"
    },
    {
     "output_type": "stream",
     "text": [
      " 66%|██████▌   | 331/500 [12:16<06:13,  2.21s/it]"
     ],
     "name": "stderr"
    },
    {
     "output_type": "stream",
     "text": [
      "[Epoch 2] [Batch 330/500] [generator loss: 0.009169] [discriminator loss: 0.000098]\n"
     ],
     "name": "stdout"
    },
    {
     "output_type": "stream",
     "text": [
      " 68%|██████▊   | 341/500 [12:38<05:50,  2.21s/it]"
     ],
     "name": "stderr"
    },
    {
     "output_type": "stream",
     "text": [
      "[Epoch 2] [Batch 340/500] [generator loss: 0.009516] [discriminator loss: -0.000848]\n"
     ],
     "name": "stdout"
    },
    {
     "output_type": "stream",
     "text": [
      " 70%|███████   | 351/500 [13:00<05:25,  2.18s/it]"
     ],
     "name": "stderr"
    },
    {
     "output_type": "stream",
     "text": [
      "[Epoch 2] [Batch 350/500] [generator loss: 0.008719] [discriminator loss: -0.000320]\n"
     ],
     "name": "stdout"
    },
    {
     "output_type": "stream",
     "text": [
      " 72%|███████▏  | 361/500 [13:22<05:07,  2.21s/it]"
     ],
     "name": "stderr"
    },
    {
     "output_type": "stream",
     "text": [
      "[Epoch 2] [Batch 360/500] [generator loss: 0.009160] [discriminator loss: -0.000181]\n"
     ],
     "name": "stdout"
    },
    {
     "output_type": "stream",
     "text": [
      " 74%|███████▍  | 371/500 [13:44<04:42,  2.19s/it]"
     ],
     "name": "stderr"
    },
    {
     "output_type": "stream",
     "text": [
      "[Epoch 2] [Batch 370/500] [generator loss: 0.009269] [discriminator loss: -0.000463]\n"
     ],
     "name": "stdout"
    },
    {
     "output_type": "stream",
     "text": [
      " 76%|███████▌  | 381/500 [14:06<04:24,  2.23s/it]"
     ],
     "name": "stderr"
    },
    {
     "output_type": "stream",
     "text": [
      "[Epoch 2] [Batch 380/500] [generator loss: 0.009896] [discriminator loss: -0.000673]\n"
     ],
     "name": "stdout"
    },
    {
     "output_type": "stream",
     "text": [
      " 78%|███████▊  | 391/500 [14:28<03:59,  2.20s/it]"
     ],
     "name": "stderr"
    },
    {
     "output_type": "stream",
     "text": [
      "[Epoch 2] [Batch 390/500] [generator loss: 0.009431] [discriminator loss: -0.000489]\n"
     ],
     "name": "stdout"
    },
    {
     "output_type": "stream",
     "text": [
      " 80%|████████  | 401/500 [14:50<03:35,  2.18s/it]"
     ],
     "name": "stderr"
    },
    {
     "output_type": "stream",
     "text": [
      "[Epoch 2] [Batch 400/500] [generator loss: 0.008805] [discriminator loss: -0.000379]\n"
     ],
     "name": "stdout"
    },
    {
     "output_type": "stream",
     "text": [
      " 82%|████████▏ | 411/500 [15:12<03:15,  2.20s/it]"
     ],
     "name": "stderr"
    },
    {
     "output_type": "stream",
     "text": [
      "[Epoch 2] [Batch 410/500] [generator loss: 0.009486] [discriminator loss: -0.000341]\n"
     ],
     "name": "stdout"
    },
    {
     "output_type": "stream",
     "text": [
      " 84%|████████▍ | 421/500 [15:34<02:52,  2.19s/it]"
     ],
     "name": "stderr"
    },
    {
     "output_type": "stream",
     "text": [
      "[Epoch 2] [Batch 420/500] [generator loss: 0.008983] [discriminator loss: 0.000283]\n"
     ],
     "name": "stdout"
    },
    {
     "output_type": "stream",
     "text": [
      " 86%|████████▌ | 431/500 [15:56<02:31,  2.20s/it]"
     ],
     "name": "stderr"
    },
    {
     "output_type": "stream",
     "text": [
      "[Epoch 2] [Batch 430/500] [generator loss: 0.008677] [discriminator loss: -0.000006]\n"
     ],
     "name": "stdout"
    },
    {
     "output_type": "stream",
     "text": [
      " 88%|████████▊ | 441/500 [16:17<02:09,  2.19s/it]"
     ],
     "name": "stderr"
    },
    {
     "output_type": "stream",
     "text": [
      "[Epoch 2] [Batch 440/500] [generator loss: 0.009458] [discriminator loss: -0.000244]\n"
     ],
     "name": "stdout"
    },
    {
     "output_type": "stream",
     "text": [
      " 90%|█████████ | 451/500 [16:39<01:48,  2.21s/it]"
     ],
     "name": "stderr"
    },
    {
     "output_type": "stream",
     "text": [
      "[Epoch 2] [Batch 450/500] [generator loss: 0.008826] [discriminator loss: -0.000069]\n"
     ],
     "name": "stdout"
    },
    {
     "output_type": "stream",
     "text": [
      " 92%|█████████▏| 461/500 [17:01<01:25,  2.19s/it]"
     ],
     "name": "stderr"
    },
    {
     "output_type": "stream",
     "text": [
      "[Epoch 2] [Batch 460/500] [generator loss: 0.009430] [discriminator loss: -0.000461]\n"
     ],
     "name": "stdout"
    },
    {
     "output_type": "stream",
     "text": [
      " 94%|█████████▍| 471/500 [17:23<01:03,  2.17s/it]"
     ],
     "name": "stderr"
    },
    {
     "output_type": "stream",
     "text": [
      "[Epoch 2] [Batch 470/500] [generator loss: 0.010099] [discriminator loss: -0.000266]\n"
     ],
     "name": "stdout"
    },
    {
     "output_type": "stream",
     "text": [
      " 96%|█████████▌| 481/500 [17:45<00:41,  2.19s/it]"
     ],
     "name": "stderr"
    },
    {
     "output_type": "stream",
     "text": [
      "[Epoch 2] [Batch 480/500] [generator loss: 0.009662] [discriminator loss: -0.000567]\n"
     ],
     "name": "stdout"
    },
    {
     "output_type": "stream",
     "text": [
      " 98%|█████████▊| 491/500 [18:07<00:19,  2.19s/it]"
     ],
     "name": "stderr"
    },
    {
     "output_type": "stream",
     "text": [
      "[Epoch 2] [Batch 490/500] [generator loss: 0.010057] [discriminator loss: 0.000044]\n"
     ],
     "name": "stdout"
    },
    {
     "output_type": "stream",
     "text": [
      "100%|██████████| 500/500 [18:26<00:00,  2.21s/it]\n"
     ],
     "name": "stderr"
    },
    {
     "output_type": "stream",
     "text": [
      "Saving models...\n",
      "Models saved.\n",
      "Sampling test images...\n"
     ],
     "name": "stdout"
    },
    {
     "output_type": "stream",
     "text": [
      "  0%|          | 1/500 [00:04<35:24,  4.26s/it]"
     ],
     "name": "stderr"
    },
    {
     "output_type": "stream",
     "text": [
      "[Epoch 3] [Batch 0/500] [generator loss: 0.009372] [discriminator loss: -0.000065]\n"
     ],
     "name": "stdout"
    },
    {
     "output_type": "stream",
     "text": [
      "  2%|▏         | 11/500 [00:29<19:06,  2.34s/it]"
     ],
     "name": "stderr"
    },
    {
     "output_type": "stream",
     "text": [
      "[Epoch 3] [Batch 10/500] [generator loss: 0.009644] [discriminator loss: -0.000556]\n"
     ],
     "name": "stdout"
    },
    {
     "output_type": "stream",
     "text": [
      "  4%|▍         | 21/500 [00:51<17:25,  2.18s/it]"
     ],
     "name": "stderr"
    },
    {
     "output_type": "stream",
     "text": [
      "[Epoch 3] [Batch 20/500] [generator loss: 0.008869] [discriminator loss: 0.000024]\n"
     ],
     "name": "stdout"
    },
    {
     "output_type": "stream",
     "text": [
      "  6%|▌         | 31/500 [01:13<17:12,  2.20s/it]"
     ],
     "name": "stderr"
    },
    {
     "output_type": "stream",
     "text": [
      "[Epoch 3] [Batch 30/500] [generator loss: 0.009100] [discriminator loss: 0.000136]\n"
     ],
     "name": "stdout"
    },
    {
     "output_type": "stream",
     "text": [
      "  8%|▊         | 41/500 [01:35<16:50,  2.20s/it]"
     ],
     "name": "stderr"
    },
    {
     "output_type": "stream",
     "text": [
      "[Epoch 3] [Batch 40/500] [generator loss: 0.009371] [discriminator loss: 0.000155]\n"
     ],
     "name": "stdout"
    },
    {
     "output_type": "stream",
     "text": [
      " 10%|█         | 51/500 [01:57<16:40,  2.23s/it]"
     ],
     "name": "stderr"
    },
    {
     "output_type": "stream",
     "text": [
      "[Epoch 3] [Batch 50/500] [generator loss: 0.010046] [discriminator loss: -0.000832]\n"
     ],
     "name": "stdout"
    },
    {
     "output_type": "stream",
     "text": [
      " 12%|█▏        | 61/500 [02:19<16:03,  2.20s/it]"
     ],
     "name": "stderr"
    },
    {
     "output_type": "stream",
     "text": [
      "[Epoch 3] [Batch 60/500] [generator loss: 0.009910] [discriminator loss: -0.000237]\n"
     ],
     "name": "stdout"
    },
    {
     "output_type": "stream",
     "text": [
      " 14%|█▍        | 71/500 [02:42<15:54,  2.23s/it]"
     ],
     "name": "stderr"
    },
    {
     "output_type": "stream",
     "text": [
      "[Epoch 3] [Batch 70/500] [generator loss: 0.009478] [discriminator loss: -0.000218]\n"
     ],
     "name": "stdout"
    },
    {
     "output_type": "stream",
     "text": [
      " 16%|█▌        | 81/500 [03:04<15:20,  2.20s/it]"
     ],
     "name": "stderr"
    },
    {
     "output_type": "stream",
     "text": [
      "[Epoch 3] [Batch 80/500] [generator loss: 0.009239] [discriminator loss: -0.000713]\n"
     ],
     "name": "stdout"
    },
    {
     "output_type": "stream",
     "text": [
      " 18%|█▊        | 91/500 [03:26<15:03,  2.21s/it]"
     ],
     "name": "stderr"
    },
    {
     "output_type": "stream",
     "text": [
      "[Epoch 3] [Batch 90/500] [generator loss: 0.009332] [discriminator loss: -0.000023]\n"
     ],
     "name": "stdout"
    },
    {
     "output_type": "stream",
     "text": [
      " 20%|██        | 101/500 [03:48<14:39,  2.20s/it]"
     ],
     "name": "stderr"
    },
    {
     "output_type": "stream",
     "text": [
      "[Epoch 3] [Batch 100/500] [generator loss: 0.009638] [discriminator loss: -0.000221]\n"
     ],
     "name": "stdout"
    },
    {
     "output_type": "stream",
     "text": [
      " 22%|██▏       | 111/500 [04:10<14:23,  2.22s/it]"
     ],
     "name": "stderr"
    },
    {
     "output_type": "stream",
     "text": [
      "[Epoch 3] [Batch 110/500] [generator loss: 0.010135] [discriminator loss: -0.000261]\n"
     ],
     "name": "stdout"
    },
    {
     "output_type": "stream",
     "text": [
      " 24%|██▍       | 121/500 [04:32<13:58,  2.21s/it]"
     ],
     "name": "stderr"
    },
    {
     "output_type": "stream",
     "text": [
      "[Epoch 3] [Batch 120/500] [generator loss: 0.010282] [discriminator loss: -0.000801]\n"
     ],
     "name": "stdout"
    },
    {
     "output_type": "stream",
     "text": [
      " 26%|██▌       | 131/500 [04:54<13:38,  2.22s/it]"
     ],
     "name": "stderr"
    },
    {
     "output_type": "stream",
     "text": [
      "[Epoch 3] [Batch 130/500] [generator loss: 0.009741] [discriminator loss: -0.000505]\n"
     ],
     "name": "stdout"
    },
    {
     "output_type": "stream",
     "text": [
      " 28%|██▊       | 141/500 [05:17<13:11,  2.21s/it]"
     ],
     "name": "stderr"
    },
    {
     "output_type": "stream",
     "text": [
      "[Epoch 3] [Batch 140/500] [generator loss: 0.010203] [discriminator loss: -0.000544]\n"
     ],
     "name": "stdout"
    },
    {
     "output_type": "stream",
     "text": [
      " 30%|███       | 151/500 [05:39<12:57,  2.23s/it]"
     ],
     "name": "stderr"
    },
    {
     "output_type": "stream",
     "text": [
      "[Epoch 3] [Batch 150/500] [generator loss: 0.009627] [discriminator loss: -0.000012]\n"
     ],
     "name": "stdout"
    },
    {
     "output_type": "stream",
     "text": [
      " 32%|███▏      | 161/500 [06:01<12:31,  2.22s/it]"
     ],
     "name": "stderr"
    },
    {
     "output_type": "stream",
     "text": [
      "[Epoch 3] [Batch 160/500] [generator loss: 0.010202] [discriminator loss: -0.000716]\n"
     ],
     "name": "stdout"
    },
    {
     "output_type": "stream",
     "text": [
      " 34%|███▍      | 171/500 [06:23<12:05,  2.20s/it]"
     ],
     "name": "stderr"
    },
    {
     "output_type": "stream",
     "text": [
      "[Epoch 3] [Batch 170/500] [generator loss: 0.009955] [discriminator loss: -0.000592]\n"
     ],
     "name": "stdout"
    },
    {
     "output_type": "stream",
     "text": [
      " 36%|███▌      | 181/500 [06:45<11:43,  2.20s/it]"
     ],
     "name": "stderr"
    },
    {
     "output_type": "stream",
     "text": [
      "[Epoch 3] [Batch 180/500] [generator loss: 0.009849] [discriminator loss: -0.000269]\n"
     ],
     "name": "stdout"
    },
    {
     "output_type": "stream",
     "text": [
      " 38%|███▊      | 191/500 [07:07<11:19,  2.20s/it]"
     ],
     "name": "stderr"
    },
    {
     "output_type": "stream",
     "text": [
      "[Epoch 3] [Batch 190/500] [generator loss: 0.009391] [discriminator loss: -0.000219]\n"
     ],
     "name": "stdout"
    },
    {
     "output_type": "stream",
     "text": [
      " 40%|████      | 201/500 [07:29<10:59,  2.21s/it]"
     ],
     "name": "stderr"
    },
    {
     "output_type": "stream",
     "text": [
      "[Epoch 3] [Batch 200/500] [generator loss: 0.010510] [discriminator loss: -0.000538]\n"
     ],
     "name": "stdout"
    },
    {
     "output_type": "stream",
     "text": [
      " 42%|████▏     | 211/500 [07:51<10:42,  2.22s/it]"
     ],
     "name": "stderr"
    },
    {
     "output_type": "stream",
     "text": [
      "[Epoch 3] [Batch 210/500] [generator loss: 0.009812] [discriminator loss: 0.000052]\n"
     ],
     "name": "stdout"
    },
    {
     "output_type": "stream",
     "text": [
      " 44%|████▍     | 221/500 [08:13<10:13,  2.20s/it]"
     ],
     "name": "stderr"
    },
    {
     "output_type": "stream",
     "text": [
      "[Epoch 3] [Batch 220/500] [generator loss: 0.009503] [discriminator loss: 0.000050]\n"
     ],
     "name": "stdout"
    },
    {
     "output_type": "stream",
     "text": [
      " 46%|████▌     | 231/500 [08:35<09:56,  2.22s/it]"
     ],
     "name": "stderr"
    },
    {
     "output_type": "stream",
     "text": [
      "[Epoch 3] [Batch 230/500] [generator loss: 0.010373] [discriminator loss: -0.000921]\n"
     ],
     "name": "stdout"
    },
    {
     "output_type": "stream",
     "text": [
      " 48%|████▊     | 241/500 [08:57<09:30,  2.20s/it]"
     ],
     "name": "stderr"
    },
    {
     "output_type": "stream",
     "text": [
      "[Epoch 3] [Batch 240/500] [generator loss: 0.009935] [discriminator loss: 0.000348]\n"
     ],
     "name": "stdout"
    },
    {
     "output_type": "stream",
     "text": [
      " 50%|█████     | 251/500 [09:19<09:03,  2.18s/it]"
     ],
     "name": "stderr"
    },
    {
     "output_type": "stream",
     "text": [
      "[Epoch 3] [Batch 250/500] [generator loss: 0.009818] [discriminator loss: -0.000001]\n"
     ],
     "name": "stdout"
    },
    {
     "output_type": "stream",
     "text": [
      " 52%|█████▏    | 261/500 [09:41<08:48,  2.21s/it]"
     ],
     "name": "stderr"
    },
    {
     "output_type": "stream",
     "text": [
      "[Epoch 3] [Batch 260/500] [generator loss: 0.010240] [discriminator loss: 0.001241]\n"
     ],
     "name": "stdout"
    },
    {
     "output_type": "stream",
     "text": [
      " 54%|█████▍    | 271/500 [10:04<08:33,  2.24s/it]"
     ],
     "name": "stderr"
    },
    {
     "output_type": "stream",
     "text": [
      "[Epoch 3] [Batch 270/500] [generator loss: 0.010567] [discriminator loss: -0.000357]\n"
     ],
     "name": "stdout"
    },
    {
     "output_type": "stream",
     "text": [
      " 56%|█████▌    | 281/500 [10:26<08:04,  2.21s/it]"
     ],
     "name": "stderr"
    },
    {
     "output_type": "stream",
     "text": [
      "[Epoch 3] [Batch 280/500] [generator loss: 0.009542] [discriminator loss: -0.000050]\n"
     ],
     "name": "stdout"
    },
    {
     "output_type": "stream",
     "text": [
      " 58%|█████▊    | 291/500 [10:48<07:40,  2.20s/it]"
     ],
     "name": "stderr"
    },
    {
     "output_type": "stream",
     "text": [
      "[Epoch 3] [Batch 290/500] [generator loss: 0.010271] [discriminator loss: -0.000699]\n"
     ],
     "name": "stdout"
    },
    {
     "output_type": "stream",
     "text": [
      " 60%|██████    | 301/500 [11:10<07:15,  2.19s/it]"
     ],
     "name": "stderr"
    },
    {
     "output_type": "stream",
     "text": [
      "[Epoch 3] [Batch 300/500] [generator loss: 0.010533] [discriminator loss: -0.001009]\n"
     ],
     "name": "stdout"
    },
    {
     "output_type": "stream",
     "text": [
      " 62%|██████▏   | 311/500 [11:32<06:55,  2.20s/it]"
     ],
     "name": "stderr"
    },
    {
     "output_type": "stream",
     "text": [
      "[Epoch 3] [Batch 310/500] [generator loss: 0.009782] [discriminator loss: -0.000257]\n"
     ],
     "name": "stdout"
    },
    {
     "output_type": "stream",
     "text": [
      " 64%|██████▍   | 321/500 [11:54<06:35,  2.21s/it]"
     ],
     "name": "stderr"
    },
    {
     "output_type": "stream",
     "text": [
      "[Epoch 3] [Batch 320/500] [generator loss: 0.009545] [discriminator loss: -0.000115]\n"
     ],
     "name": "stdout"
    },
    {
     "output_type": "stream",
     "text": [
      " 66%|██████▌   | 331/500 [12:16<06:11,  2.20s/it]"
     ],
     "name": "stderr"
    },
    {
     "output_type": "stream",
     "text": [
      "[Epoch 3] [Batch 330/500] [generator loss: 0.009960] [discriminator loss: -0.000186]\n"
     ],
     "name": "stdout"
    },
    {
     "output_type": "stream",
     "text": [
      " 68%|██████▊   | 341/500 [12:38<05:49,  2.20s/it]"
     ],
     "name": "stderr"
    },
    {
     "output_type": "stream",
     "text": [
      "[Epoch 3] [Batch 340/500] [generator loss: 0.010277] [discriminator loss: -0.000418]\n"
     ],
     "name": "stdout"
    },
    {
     "output_type": "stream",
     "text": [
      " 70%|███████   | 351/500 [13:00<05:26,  2.19s/it]"
     ],
     "name": "stderr"
    },
    {
     "output_type": "stream",
     "text": [
      "[Epoch 3] [Batch 350/500] [generator loss: 0.009525] [discriminator loss: -0.000516]\n"
     ],
     "name": "stdout"
    },
    {
     "output_type": "stream",
     "text": [
      " 72%|███████▏  | 361/500 [13:21<05:03,  2.19s/it]"
     ],
     "name": "stderr"
    },
    {
     "output_type": "stream",
     "text": [
      "[Epoch 3] [Batch 360/500] [generator loss: 0.009914] [discriminator loss: -0.000268]\n"
     ],
     "name": "stdout"
    },
    {
     "output_type": "stream",
     "text": [
      " 74%|███████▍  | 371/500 [13:43<04:41,  2.18s/it]"
     ],
     "name": "stderr"
    },
    {
     "output_type": "stream",
     "text": [
      "[Epoch 3] [Batch 370/500] [generator loss: 0.010401] [discriminator loss: -0.000881]\n"
     ],
     "name": "stdout"
    },
    {
     "output_type": "stream",
     "text": [
      " 76%|███████▌  | 381/500 [14:05<04:21,  2.20s/it]"
     ],
     "name": "stderr"
    },
    {
     "output_type": "stream",
     "text": [
      "[Epoch 3] [Batch 380/500] [generator loss: 0.010541] [discriminator loss: -0.000652]\n"
     ],
     "name": "stdout"
    },
    {
     "output_type": "stream",
     "text": [
      " 78%|███████▊  | 391/500 [14:27<03:59,  2.20s/it]"
     ],
     "name": "stderr"
    },
    {
     "output_type": "stream",
     "text": [
      "[Epoch 3] [Batch 390/500] [generator loss: 0.009979] [discriminator loss: -0.000695]\n"
     ],
     "name": "stdout"
    },
    {
     "output_type": "stream",
     "text": [
      " 80%|████████  | 401/500 [14:49<03:36,  2.18s/it]"
     ],
     "name": "stderr"
    },
    {
     "output_type": "stream",
     "text": [
      "[Epoch 3] [Batch 400/500] [generator loss: 0.009929] [discriminator loss: -0.000574]\n"
     ],
     "name": "stdout"
    },
    {
     "output_type": "stream",
     "text": [
      " 82%|████████▏ | 411/500 [15:11<03:15,  2.19s/it]"
     ],
     "name": "stderr"
    },
    {
     "output_type": "stream",
     "text": [
      "[Epoch 3] [Batch 410/500] [generator loss: 0.010494] [discriminator loss: 0.000947]\n"
     ],
     "name": "stdout"
    },
    {
     "output_type": "stream",
     "text": [
      " 84%|████████▍ | 421/500 [15:33<02:53,  2.20s/it]"
     ],
     "name": "stderr"
    },
    {
     "output_type": "stream",
     "text": [
      "[Epoch 3] [Batch 420/500] [generator loss: 0.009997] [discriminator loss: 0.000511]\n"
     ],
     "name": "stdout"
    },
    {
     "output_type": "stream",
     "text": [
      " 86%|████████▌ | 431/500 [15:55<02:32,  2.21s/it]"
     ],
     "name": "stderr"
    },
    {
     "output_type": "stream",
     "text": [
      "[Epoch 3] [Batch 430/500] [generator loss: 0.009779] [discriminator loss: -0.000092]\n"
     ],
     "name": "stdout"
    },
    {
     "output_type": "stream",
     "text": [
      " 88%|████████▊ | 441/500 [16:17<02:09,  2.20s/it]"
     ],
     "name": "stderr"
    },
    {
     "output_type": "stream",
     "text": [
      "[Epoch 3] [Batch 440/500] [generator loss: 0.010375] [discriminator loss: -0.000658]\n"
     ],
     "name": "stdout"
    },
    {
     "output_type": "stream",
     "text": [
      " 90%|█████████ | 451/500 [16:39<01:47,  2.20s/it]"
     ],
     "name": "stderr"
    },
    {
     "output_type": "stream",
     "text": [
      "[Epoch 3] [Batch 450/500] [generator loss: 0.009839] [discriminator loss: 0.000221]\n"
     ],
     "name": "stdout"
    },
    {
     "output_type": "stream",
     "text": [
      " 92%|█████████▏| 461/500 [17:01<01:25,  2.19s/it]"
     ],
     "name": "stderr"
    },
    {
     "output_type": "stream",
     "text": [
      "[Epoch 3] [Batch 460/500] [generator loss: 0.010356] [discriminator loss: -0.000353]\n"
     ],
     "name": "stdout"
    },
    {
     "output_type": "stream",
     "text": [
      " 94%|█████████▍| 471/500 [17:23<01:03,  2.17s/it]"
     ],
     "name": "stderr"
    },
    {
     "output_type": "stream",
     "text": [
      "[Epoch 3] [Batch 470/500] [generator loss: 0.011059] [discriminator loss: -0.001140]\n"
     ],
     "name": "stdout"
    },
    {
     "output_type": "stream",
     "text": [
      " 96%|█████████▌| 481/500 [17:45<00:41,  2.20s/it]"
     ],
     "name": "stderr"
    },
    {
     "output_type": "stream",
     "text": [
      "[Epoch 3] [Batch 480/500] [generator loss: 0.010699] [discriminator loss: -0.000217]\n"
     ],
     "name": "stdout"
    },
    {
     "output_type": "stream",
     "text": [
      " 98%|█████████▊| 491/500 [18:06<00:19,  2.19s/it]"
     ],
     "name": "stderr"
    },
    {
     "output_type": "stream",
     "text": [
      "[Epoch 3] [Batch 490/500] [generator loss: 0.010915] [discriminator loss: -0.000254]\n"
     ],
     "name": "stdout"
    },
    {
     "output_type": "stream",
     "text": [
      "100%|██████████| 500/500 [18:26<00:00,  2.21s/it]\n"
     ],
     "name": "stderr"
    },
    {
     "output_type": "stream",
     "text": [
      "Saving models...\n",
      "Models saved.\n",
      "Sampling test images...\n"
     ],
     "name": "stdout"
    },
    {
     "output_type": "stream",
     "text": [
      "  0%|          | 1/500 [00:04<33:32,  4.03s/it]"
     ],
     "name": "stderr"
    },
    {
     "output_type": "stream",
     "text": [
      "[Epoch 4] [Batch 0/500] [generator loss: 0.010546] [discriminator loss: -0.000210]\n"
     ],
     "name": "stdout"
    },
    {
     "output_type": "stream",
     "text": [
      "  2%|▏         | 11/500 [00:29<19:11,  2.35s/it]"
     ],
     "name": "stderr"
    },
    {
     "output_type": "stream",
     "text": [
      "[Epoch 4] [Batch 10/500] [generator loss: 0.010738] [discriminator loss: -0.000865]\n"
     ],
     "name": "stdout"
    },
    {
     "output_type": "stream",
     "text": [
      "  4%|▍         | 21/500 [00:51<17:33,  2.20s/it]"
     ],
     "name": "stderr"
    },
    {
     "output_type": "stream",
     "text": [
      "[Epoch 4] [Batch 20/500] [generator loss: 0.010071] [discriminator loss: 0.000354]\n"
     ],
     "name": "stdout"
    },
    {
     "output_type": "stream",
     "text": [
      "  6%|▌         | 31/500 [01:13<17:11,  2.20s/it]"
     ],
     "name": "stderr"
    },
    {
     "output_type": "stream",
     "text": [
      "[Epoch 4] [Batch 30/500] [generator loss: 0.010329] [discriminator loss: -0.000276]\n"
     ],
     "name": "stdout"
    },
    {
     "output_type": "stream",
     "text": [
      "  8%|▊         | 41/500 [01:35<16:52,  2.21s/it]"
     ],
     "name": "stderr"
    },
    {
     "output_type": "stream",
     "text": [
      "[Epoch 4] [Batch 40/500] [generator loss: 0.010628] [discriminator loss: 0.000334]\n"
     ],
     "name": "stdout"
    },
    {
     "output_type": "stream",
     "text": [
      " 10%|█         | 51/500 [01:57<16:41,  2.23s/it]"
     ],
     "name": "stderr"
    },
    {
     "output_type": "stream",
     "text": [
      "[Epoch 4] [Batch 50/500] [generator loss: 0.011216] [discriminator loss: -0.001206]\n"
     ],
     "name": "stdout"
    },
    {
     "output_type": "stream",
     "text": [
      " 12%|█▏        | 61/500 [02:19<16:08,  2.21s/it]"
     ],
     "name": "stderr"
    },
    {
     "output_type": "stream",
     "text": [
      "[Epoch 4] [Batch 60/500] [generator loss: 0.011052] [discriminator loss: -0.000508]\n"
     ],
     "name": "stdout"
    },
    {
     "output_type": "stream",
     "text": [
      " 14%|█▍        | 71/500 [02:42<15:51,  2.22s/it]"
     ],
     "name": "stderr"
    },
    {
     "output_type": "stream",
     "text": [
      "[Epoch 4] [Batch 70/500] [generator loss: 0.010775] [discriminator loss: -0.000387]\n"
     ],
     "name": "stdout"
    },
    {
     "output_type": "stream",
     "text": [
      " 16%|█▌        | 81/500 [03:04<15:23,  2.20s/it]"
     ],
     "name": "stderr"
    },
    {
     "output_type": "stream",
     "text": [
      "[Epoch 4] [Batch 80/500] [generator loss: 0.010551] [discriminator loss: -0.000844]\n"
     ],
     "name": "stdout"
    },
    {
     "output_type": "stream",
     "text": [
      " 18%|█▊        | 91/500 [03:26<15:07,  2.22s/it]"
     ],
     "name": "stderr"
    },
    {
     "output_type": "stream",
     "text": [
      "[Epoch 4] [Batch 90/500] [generator loss: 0.010547] [discriminator loss: 0.000752]\n"
     ],
     "name": "stdout"
    },
    {
     "output_type": "stream",
     "text": [
      " 20%|██        | 101/500 [03:48<14:47,  2.22s/it]"
     ],
     "name": "stderr"
    },
    {
     "output_type": "stream",
     "text": [
      "[Epoch 4] [Batch 100/500] [generator loss: 0.010969] [discriminator loss: 0.000785]\n"
     ],
     "name": "stdout"
    },
    {
     "output_type": "stream",
     "text": [
      " 22%|██▏       | 111/500 [04:10<14:24,  2.22s/it]"
     ],
     "name": "stderr"
    },
    {
     "output_type": "stream",
     "text": [
      "[Epoch 4] [Batch 110/500] [generator loss: 0.011241] [discriminator loss: -0.000243]\n"
     ],
     "name": "stdout"
    },
    {
     "output_type": "stream",
     "text": [
      " 24%|██▍       | 121/500 [04:32<13:55,  2.20s/it]"
     ],
     "name": "stderr"
    },
    {
     "output_type": "stream",
     "text": [
      "[Epoch 4] [Batch 120/500] [generator loss: 0.011591] [discriminator loss: -0.000710]\n"
     ],
     "name": "stdout"
    },
    {
     "output_type": "stream",
     "text": [
      " 26%|██▌       | 131/500 [04:55<13:40,  2.22s/it]"
     ],
     "name": "stderr"
    },
    {
     "output_type": "stream",
     "text": [
      "[Epoch 4] [Batch 130/500] [generator loss: 0.011060] [discriminator loss: 0.000214]\n"
     ],
     "name": "stdout"
    },
    {
     "output_type": "stream",
     "text": [
      " 28%|██▊       | 141/500 [05:17<13:09,  2.20s/it]"
     ],
     "name": "stderr"
    },
    {
     "output_type": "stream",
     "text": [
      "[Epoch 4] [Batch 140/500] [generator loss: 0.011445] [discriminator loss: -0.000733]\n"
     ],
     "name": "stdout"
    },
    {
     "output_type": "stream",
     "text": [
      " 30%|███       | 151/500 [05:39<12:57,  2.23s/it]"
     ],
     "name": "stderr"
    },
    {
     "output_type": "stream",
     "text": [
      "[Epoch 4] [Batch 150/500] [generator loss: 0.011046] [discriminator loss: -0.000087]\n"
     ],
     "name": "stdout"
    },
    {
     "output_type": "stream",
     "text": [
      " 32%|███▏      | 161/500 [06:01<12:29,  2.21s/it]"
     ],
     "name": "stderr"
    },
    {
     "output_type": "stream",
     "text": [
      "[Epoch 4] [Batch 160/500] [generator loss: 0.011428] [discriminator loss: -0.001049]\n"
     ],
     "name": "stdout"
    },
    {
     "output_type": "stream",
     "text": [
      " 34%|███▍      | 171/500 [06:23<12:04,  2.20s/it]"
     ],
     "name": "stderr"
    },
    {
     "output_type": "stream",
     "text": [
      "[Epoch 4] [Batch 170/500] [generator loss: 0.011444] [discriminator loss: -0.000561]\n"
     ],
     "name": "stdout"
    },
    {
     "output_type": "stream",
     "text": [
      " 36%|███▌      | 181/500 [06:45<11:45,  2.21s/it]"
     ],
     "name": "stderr"
    },
    {
     "output_type": "stream",
     "text": [
      "[Epoch 4] [Batch 180/500] [generator loss: 0.011323] [discriminator loss: -0.000352]\n"
     ],
     "name": "stdout"
    },
    {
     "output_type": "stream",
     "text": [
      " 38%|███▊      | 191/500 [07:07<11:22,  2.21s/it]"
     ],
     "name": "stderr"
    },
    {
     "output_type": "stream",
     "text": [
      "[Epoch 4] [Batch 190/500] [generator loss: 0.010845] [discriminator loss: -0.000293]\n"
     ],
     "name": "stdout"
    },
    {
     "output_type": "stream",
     "text": [
      " 40%|████      | 201/500 [07:30<11:00,  2.21s/it]"
     ],
     "name": "stderr"
    },
    {
     "output_type": "stream",
     "text": [
      "[Epoch 4] [Batch 200/500] [generator loss: 0.011775] [discriminator loss: -0.001188]\n"
     ],
     "name": "stdout"
    },
    {
     "output_type": "stream",
     "text": [
      " 42%|████▏     | 211/500 [07:52<10:39,  2.21s/it]"
     ],
     "name": "stderr"
    },
    {
     "output_type": "stream",
     "text": [
      "[Epoch 4] [Batch 210/500] [generator loss: 0.011283] [discriminator loss: -0.000295]\n"
     ],
     "name": "stdout"
    },
    {
     "output_type": "stream",
     "text": [
      " 44%|████▍     | 221/500 [08:14<10:14,  2.20s/it]"
     ],
     "name": "stderr"
    },
    {
     "output_type": "stream",
     "text": [
      "[Epoch 4] [Batch 220/500] [generator loss: 0.011009] [discriminator loss: -0.000062]\n"
     ],
     "name": "stdout"
    },
    {
     "output_type": "stream",
     "text": [
      " 46%|████▌     | 231/500 [08:36<10:07,  2.26s/it]"
     ],
     "name": "stderr"
    },
    {
     "output_type": "stream",
     "text": [
      "[Epoch 4] [Batch 230/500] [generator loss: 0.011868] [discriminator loss: -0.001057]\n"
     ],
     "name": "stdout"
    },
    {
     "output_type": "stream",
     "text": [
      " 48%|████▊     | 241/500 [08:58<09:24,  2.18s/it]"
     ],
     "name": "stderr"
    },
    {
     "output_type": "stream",
     "text": [
      "[Epoch 4] [Batch 240/500] [generator loss: 0.011433] [discriminator loss: 0.000416]\n"
     ],
     "name": "stdout"
    },
    {
     "output_type": "stream",
     "text": [
      " 50%|█████     | 251/500 [09:20<09:02,  2.18s/it]"
     ],
     "name": "stderr"
    },
    {
     "output_type": "stream",
     "text": [
      "[Epoch 4] [Batch 250/500] [generator loss: 0.011282] [discriminator loss: 0.001084]\n"
     ],
     "name": "stdout"
    },
    {
     "output_type": "stream",
     "text": [
      " 52%|█████▏    | 261/500 [09:42<08:52,  2.23s/it]"
     ],
     "name": "stderr"
    },
    {
     "output_type": "stream",
     "text": [
      "[Epoch 4] [Batch 260/500] [generator loss: 0.011741] [discriminator loss: 0.001021]\n"
     ],
     "name": "stdout"
    },
    {
     "output_type": "stream",
     "text": [
      " 54%|█████▍    | 271/500 [10:04<08:22,  2.19s/it]"
     ],
     "name": "stderr"
    },
    {
     "output_type": "stream",
     "text": [
      "[Epoch 4] [Batch 270/500] [generator loss: 0.011923] [discriminator loss: -0.000286]\n"
     ],
     "name": "stdout"
    },
    {
     "output_type": "stream",
     "text": [
      " 56%|█████▌    | 281/500 [10:26<08:02,  2.20s/it]"
     ],
     "name": "stderr"
    },
    {
     "output_type": "stream",
     "text": [
      "[Epoch 4] [Batch 280/500] [generator loss: 0.011137] [discriminator loss: 0.000148]\n"
     ],
     "name": "stdout"
    },
    {
     "output_type": "stream",
     "text": [
      " 58%|█████▊    | 291/500 [10:48<07:38,  2.19s/it]"
     ],
     "name": "stderr"
    },
    {
     "output_type": "stream",
     "text": [
      "[Epoch 4] [Batch 290/500] [generator loss: 0.011854] [discriminator loss: -0.000019]\n"
     ],
     "name": "stdout"
    },
    {
     "output_type": "stream",
     "text": [
      " 60%|██████    | 301/500 [11:10<07:14,  2.18s/it]"
     ],
     "name": "stderr"
    },
    {
     "output_type": "stream",
     "text": [
      "[Epoch 4] [Batch 300/500] [generator loss: 0.012128] [discriminator loss: -0.001405]\n"
     ],
     "name": "stdout"
    },
    {
     "output_type": "stream",
     "text": [
      " 62%|██████▏   | 311/500 [11:32<06:53,  2.19s/it]"
     ],
     "name": "stderr"
    },
    {
     "output_type": "stream",
     "text": [
      "[Epoch 4] [Batch 310/500] [generator loss: 0.011666] [discriminator loss: 0.000053]\n"
     ],
     "name": "stdout"
    },
    {
     "output_type": "stream",
     "text": [
      " 64%|██████▍   | 321/500 [11:54<06:35,  2.21s/it]"
     ],
     "name": "stderr"
    },
    {
     "output_type": "stream",
     "text": [
      "[Epoch 4] [Batch 320/500] [generator loss: 0.011316] [discriminator loss: -0.000060]\n"
     ],
     "name": "stdout"
    },
    {
     "output_type": "stream",
     "text": [
      " 66%|██████▌   | 331/500 [12:16<06:13,  2.21s/it]"
     ],
     "name": "stderr"
    },
    {
     "output_type": "stream",
     "text": [
      "[Epoch 4] [Batch 330/500] [generator loss: 0.011542] [discriminator loss: -0.001050]\n"
     ],
     "name": "stdout"
    },
    {
     "output_type": "stream",
     "text": [
      " 68%|██████▊   | 341/500 [12:38<05:53,  2.23s/it]"
     ],
     "name": "stderr"
    },
    {
     "output_type": "stream",
     "text": [
      "[Epoch 4] [Batch 340/500] [generator loss: 0.011947] [discriminator loss: -0.000415]\n"
     ],
     "name": "stdout"
    },
    {
     "output_type": "stream",
     "text": [
      " 70%|███████   | 351/500 [13:00<05:29,  2.21s/it]"
     ],
     "name": "stderr"
    },
    {
     "output_type": "stream",
     "text": [
      "[Epoch 4] [Batch 350/500] [generator loss: 0.011283] [discriminator loss: -0.000457]\n"
     ],
     "name": "stdout"
    },
    {
     "output_type": "stream",
     "text": [
      " 72%|███████▏  | 361/500 [13:22<05:07,  2.21s/it]"
     ],
     "name": "stderr"
    },
    {
     "output_type": "stream",
     "text": [
      "[Epoch 4] [Batch 360/500] [generator loss: 0.011652] [discriminator loss: -0.000553]\n"
     ],
     "name": "stdout"
    },
    {
     "output_type": "stream",
     "text": [
      " 74%|███████▍  | 371/500 [13:44<04:45,  2.21s/it]"
     ],
     "name": "stderr"
    },
    {
     "output_type": "stream",
     "text": [
      "[Epoch 4] [Batch 370/500] [generator loss: 0.011952] [discriminator loss: -0.000869]\n"
     ],
     "name": "stdout"
    },
    {
     "output_type": "stream",
     "text": [
      " 76%|███████▌  | 381/500 [14:06<04:22,  2.20s/it]"
     ],
     "name": "stderr"
    },
    {
     "output_type": "stream",
     "text": [
      "[Epoch 4] [Batch 380/500] [generator loss: 0.012039] [discriminator loss: 0.000590]\n"
     ],
     "name": "stdout"
    },
    {
     "output_type": "stream",
     "text": [
      " 78%|███████▊  | 391/500 [14:28<04:00,  2.20s/it]"
     ],
     "name": "stderr"
    },
    {
     "output_type": "stream",
     "text": [
      "[Epoch 4] [Batch 390/500] [generator loss: 0.011614] [discriminator loss: 0.000459]\n"
     ],
     "name": "stdout"
    },
    {
     "output_type": "stream",
     "text": [
      " 80%|████████  | 401/500 [14:50<03:37,  2.19s/it]"
     ],
     "name": "stderr"
    },
    {
     "output_type": "stream",
     "text": [
      "[Epoch 4] [Batch 400/500] [generator loss: 0.011547] [discriminator loss: -0.000413]\n"
     ],
     "name": "stdout"
    },
    {
     "output_type": "stream",
     "text": [
      " 82%|████████▏ | 411/500 [15:12<03:15,  2.20s/it]"
     ],
     "name": "stderr"
    },
    {
     "output_type": "stream",
     "text": [
      "[Epoch 4] [Batch 410/500] [generator loss: 0.012040] [discriminator loss: 0.001443]\n"
     ],
     "name": "stdout"
    },
    {
     "output_type": "stream",
     "text": [
      " 84%|████████▍ | 421/500 [15:34<02:53,  2.20s/it]"
     ],
     "name": "stderr"
    },
    {
     "output_type": "stream",
     "text": [
      "[Epoch 4] [Batch 420/500] [generator loss: 0.011642] [discriminator loss: -0.000185]\n"
     ],
     "name": "stdout"
    },
    {
     "output_type": "stream",
     "text": [
      " 86%|████████▌ | 431/500 [15:56<02:30,  2.19s/it]"
     ],
     "name": "stderr"
    },
    {
     "output_type": "stream",
     "text": [
      "[Epoch 4] [Batch 430/500] [generator loss: 0.011518] [discriminator loss: -0.000332]\n"
     ],
     "name": "stdout"
    },
    {
     "output_type": "stream",
     "text": [
      " 88%|████████▊ | 441/500 [16:18<02:09,  2.20s/it]"
     ],
     "name": "stderr"
    },
    {
     "output_type": "stream",
     "text": [
      "[Epoch 4] [Batch 440/500] [generator loss: 0.012094] [discriminator loss: -0.000857]\n"
     ],
     "name": "stdout"
    },
    {
     "output_type": "stream",
     "text": [
      " 90%|█████████ | 451/500 [16:40<01:47,  2.19s/it]"
     ],
     "name": "stderr"
    },
    {
     "output_type": "stream",
     "text": [
      "[Epoch 4] [Batch 450/500] [generator loss: 0.011569] [discriminator loss: -0.000003]\n"
     ],
     "name": "stdout"
    },
    {
     "output_type": "stream",
     "text": [
      " 92%|█████████▏| 461/500 [17:02<01:25,  2.19s/it]"
     ],
     "name": "stderr"
    },
    {
     "output_type": "stream",
     "text": [
      "[Epoch 4] [Batch 460/500] [generator loss: 0.011940] [discriminator loss: 0.000633]\n"
     ],
     "name": "stdout"
    },
    {
     "output_type": "stream",
     "text": [
      " 94%|█████████▍| 471/500 [17:24<01:03,  2.18s/it]"
     ],
     "name": "stderr"
    },
    {
     "output_type": "stream",
     "text": [
      "[Epoch 4] [Batch 470/500] [generator loss: 0.012725] [discriminator loss: -0.001067]\n"
     ],
     "name": "stdout"
    },
    {
     "output_type": "stream",
     "text": [
      " 96%|█████████▌| 481/500 [17:46<00:41,  2.18s/it]"
     ],
     "name": "stderr"
    },
    {
     "output_type": "stream",
     "text": [
      "[Epoch 4] [Batch 480/500] [generator loss: 0.012375] [discriminator loss: 0.000058]\n"
     ],
     "name": "stdout"
    },
    {
     "output_type": "stream",
     "text": [
      " 98%|█████████▊| 491/500 [18:07<00:19,  2.20s/it]"
     ],
     "name": "stderr"
    },
    {
     "output_type": "stream",
     "text": [
      "[Epoch 4] [Batch 490/500] [generator loss: 0.012392] [discriminator loss: -0.000139]\n"
     ],
     "name": "stdout"
    },
    {
     "output_type": "stream",
     "text": [
      "100%|██████████| 500/500 [18:27<00:00,  2.22s/it]\n"
     ],
     "name": "stderr"
    },
    {
     "output_type": "stream",
     "text": [
      "Saving models...\n",
      "Models saved.\n",
      "Sampling test images...\n"
     ],
     "name": "stdout"
    },
    {
     "output_type": "stream",
     "text": [
      "  0%|          | 1/500 [00:04<35:09,  4.23s/it]"
     ],
     "name": "stderr"
    },
    {
     "output_type": "stream",
     "text": [
      "[Epoch 5] [Batch 0/500] [generator loss: 0.012255] [discriminator loss: 0.000294]\n"
     ],
     "name": "stdout"
    },
    {
     "output_type": "stream",
     "text": [
      "  2%|▏         | 11/500 [00:28<18:52,  2.32s/it]"
     ],
     "name": "stderr"
    },
    {
     "output_type": "stream",
     "text": [
      "[Epoch 5] [Batch 10/500] [generator loss: 0.012350] [discriminator loss: 0.000356]\n"
     ],
     "name": "stdout"
    },
    {
     "output_type": "stream",
     "text": [
      "  4%|▍         | 21/500 [00:50<17:29,  2.19s/it]"
     ],
     "name": "stderr"
    },
    {
     "output_type": "stream",
     "text": [
      "[Epoch 5] [Batch 20/500] [generator loss: 0.011818] [discriminator loss: -0.000242]\n"
     ],
     "name": "stdout"
    },
    {
     "output_type": "stream",
     "text": [
      "  6%|▌         | 31/500 [01:12<17:09,  2.20s/it]"
     ],
     "name": "stderr"
    },
    {
     "output_type": "stream",
     "text": [
      "[Epoch 5] [Batch 30/500] [generator loss: 0.012146] [discriminator loss: 0.000825]\n"
     ],
     "name": "stdout"
    },
    {
     "output_type": "stream",
     "text": [
      "  8%|▊         | 41/500 [01:34<16:53,  2.21s/it]"
     ],
     "name": "stderr"
    },
    {
     "output_type": "stream",
     "text": [
      "[Epoch 5] [Batch 40/500] [generator loss: 0.012251] [discriminator loss: -0.000254]\n"
     ],
     "name": "stdout"
    },
    {
     "output_type": "stream",
     "text": [
      " 10%|█         | 51/500 [01:57<16:36,  2.22s/it]"
     ],
     "name": "stderr"
    },
    {
     "output_type": "stream",
     "text": [
      "[Epoch 5] [Batch 50/500] [generator loss: 0.012814] [discriminator loss: -0.001068]\n"
     ],
     "name": "stdout"
    },
    {
     "output_type": "stream",
     "text": [
      " 12%|█▏        | 61/500 [02:19<16:03,  2.19s/it]"
     ],
     "name": "stderr"
    },
    {
     "output_type": "stream",
     "text": [
      "[Epoch 5] [Batch 60/500] [generator loss: 0.012650] [discriminator loss: -0.000701]\n"
     ],
     "name": "stdout"
    },
    {
     "output_type": "stream",
     "text": [
      " 14%|█▍        | 71/500 [02:41<15:49,  2.21s/it]"
     ],
     "name": "stderr"
    },
    {
     "output_type": "stream",
     "text": [
      "[Epoch 5] [Batch 70/500] [generator loss: 0.012475] [discriminator loss: 0.008196]\n"
     ],
     "name": "stdout"
    },
    {
     "output_type": "stream",
     "text": [
      " 16%|█▌        | 81/500 [03:03<15:24,  2.21s/it]"
     ],
     "name": "stderr"
    },
    {
     "output_type": "stream",
     "text": [
      "[Epoch 5] [Batch 80/500] [generator loss: 0.012292] [discriminator loss: -0.000749]\n"
     ],
     "name": "stdout"
    },
    {
     "output_type": "stream",
     "text": [
      " 18%|█▊        | 91/500 [03:25<15:07,  2.22s/it]"
     ],
     "name": "stderr"
    },
    {
     "output_type": "stream",
     "text": [
      "[Epoch 5] [Batch 90/500] [generator loss: 0.012262] [discriminator loss: -0.000123]\n"
     ],
     "name": "stdout"
    },
    {
     "output_type": "stream",
     "text": [
      " 20%|██        | 101/500 [03:47<14:41,  2.21s/it]"
     ],
     "name": "stderr"
    },
    {
     "output_type": "stream",
     "text": [
      "[Epoch 5] [Batch 100/500] [generator loss: 0.012712] [discriminator loss: 0.000443]\n"
     ],
     "name": "stdout"
    },
    {
     "output_type": "stream",
     "text": [
      " 22%|██▏       | 111/500 [04:10<14:21,  2.21s/it]"
     ],
     "name": "stderr"
    },
    {
     "output_type": "stream",
     "text": [
      "[Epoch 5] [Batch 110/500] [generator loss: 0.012680] [discriminator loss: 0.000307]\n"
     ],
     "name": "stdout"
    },
    {
     "output_type": "stream",
     "text": [
      " 24%|██▍       | 121/500 [04:32<13:58,  2.21s/it]"
     ],
     "name": "stderr"
    },
    {
     "output_type": "stream",
     "text": [
      "[Epoch 5] [Batch 120/500] [generator loss: 0.013057] [discriminator loss: -0.000998]\n"
     ],
     "name": "stdout"
    },
    {
     "output_type": "stream",
     "text": [
      " 26%|██▌       | 131/500 [04:54<13:38,  2.22s/it]"
     ],
     "name": "stderr"
    },
    {
     "output_type": "stream",
     "text": [
      "[Epoch 5] [Batch 130/500] [generator loss: 0.012744] [discriminator loss: -0.000506]\n"
     ],
     "name": "stdout"
    },
    {
     "output_type": "stream",
     "text": [
      " 28%|██▊       | 141/500 [05:16<13:12,  2.21s/it]"
     ],
     "name": "stderr"
    },
    {
     "output_type": "stream",
     "text": [
      "[Epoch 5] [Batch 140/500] [generator loss: 0.012764] [discriminator loss: -0.000377]\n"
     ],
     "name": "stdout"
    },
    {
     "output_type": "stream",
     "text": [
      " 30%|███       | 151/500 [05:38<12:52,  2.21s/it]"
     ],
     "name": "stderr"
    },
    {
     "output_type": "stream",
     "text": [
      "[Epoch 5] [Batch 150/500] [generator loss: 0.012597] [discriminator loss: -0.000043]\n"
     ],
     "name": "stdout"
    },
    {
     "output_type": "stream",
     "text": [
      " 32%|███▏      | 161/500 [06:00<12:28,  2.21s/it]"
     ],
     "name": "stderr"
    },
    {
     "output_type": "stream",
     "text": [
      "[Epoch 5] [Batch 160/500] [generator loss: 0.012936] [discriminator loss: -0.001093]\n"
     ],
     "name": "stdout"
    },
    {
     "output_type": "stream",
     "text": [
      " 34%|███▍      | 171/500 [06:22<12:06,  2.21s/it]"
     ],
     "name": "stderr"
    },
    {
     "output_type": "stream",
     "text": [
      "[Epoch 5] [Batch 170/500] [generator loss: 0.012944] [discriminator loss: -0.000754]\n"
     ],
     "name": "stdout"
    },
    {
     "output_type": "stream",
     "text": [
      " 36%|███▌      | 181/500 [06:44<11:46,  2.21s/it]"
     ],
     "name": "stderr"
    },
    {
     "output_type": "stream",
     "text": [
      "[Epoch 5] [Batch 180/500] [generator loss: 0.012778] [discriminator loss: -0.000599]\n"
     ],
     "name": "stdout"
    },
    {
     "output_type": "stream",
     "text": [
      " 38%|███▊      | 191/500 [07:06<11:39,  2.26s/it]"
     ],
     "name": "stderr"
    },
    {
     "output_type": "stream",
     "text": [
      "[Epoch 5] [Batch 190/500] [generator loss: 0.012498] [discriminator loss: 0.000014]\n"
     ],
     "name": "stdout"
    },
    {
     "output_type": "stream",
     "text": [
      " 40%|████      | 201/500 [07:28<10:58,  2.20s/it]"
     ],
     "name": "stderr"
    },
    {
     "output_type": "stream",
     "text": [
      "[Epoch 5] [Batch 200/500] [generator loss: 0.013430] [discriminator loss: -0.000395]\n"
     ],
     "name": "stdout"
    },
    {
     "output_type": "stream",
     "text": [
      " 42%|████▏     | 211/500 [07:51<10:40,  2.22s/it]"
     ],
     "name": "stderr"
    },
    {
     "output_type": "stream",
     "text": [
      "[Epoch 5] [Batch 210/500] [generator loss: 0.012964] [discriminator loss: -0.000403]\n"
     ],
     "name": "stdout"
    },
    {
     "output_type": "stream",
     "text": [
      " 44%|████▍     | 221/500 [08:13<10:15,  2.21s/it]"
     ],
     "name": "stderr"
    },
    {
     "output_type": "stream",
     "text": [
      "[Epoch 5] [Batch 220/500] [generator loss: 0.012495] [discriminator loss: -0.000309]\n"
     ],
     "name": "stdout"
    },
    {
     "output_type": "stream",
     "text": [
      " 46%|████▌     | 231/500 [08:35<09:54,  2.21s/it]"
     ],
     "name": "stderr"
    },
    {
     "output_type": "stream",
     "text": [
      "[Epoch 5] [Batch 230/500] [generator loss: 0.013250] [discriminator loss: -0.001071]\n"
     ],
     "name": "stdout"
    },
    {
     "output_type": "stream",
     "text": [
      " 48%|████▊     | 241/500 [08:57<09:26,  2.19s/it]"
     ],
     "name": "stderr"
    },
    {
     "output_type": "stream",
     "text": [
      "[Epoch 5] [Batch 240/500] [generator loss: 0.012926] [discriminator loss: 0.000952]\n"
     ],
     "name": "stdout"
    },
    {
     "output_type": "stream",
     "text": [
      " 50%|█████     | 251/500 [09:19<09:04,  2.19s/it]"
     ],
     "name": "stderr"
    },
    {
     "output_type": "stream",
     "text": [
      "[Epoch 5] [Batch 250/500] [generator loss: 0.012739] [discriminator loss: 0.000248]\n"
     ],
     "name": "stdout"
    },
    {
     "output_type": "stream",
     "text": [
      " 52%|█████▏    | 261/500 [09:41<08:52,  2.23s/it]"
     ],
     "name": "stderr"
    },
    {
     "output_type": "stream",
     "text": [
      "[Epoch 5] [Batch 260/500] [generator loss: 0.013263] [discriminator loss: 0.003095]\n"
     ],
     "name": "stdout"
    },
    {
     "output_type": "stream",
     "text": [
      " 54%|█████▍    | 271/500 [10:03<08:24,  2.20s/it]"
     ],
     "name": "stderr"
    },
    {
     "output_type": "stream",
     "text": [
      "[Epoch 5] [Batch 270/500] [generator loss: 0.013088] [discriminator loss: -0.000112]\n"
     ],
     "name": "stdout"
    },
    {
     "output_type": "stream",
     "text": [
      " 56%|█████▌    | 281/500 [10:25<08:03,  2.21s/it]"
     ],
     "name": "stderr"
    },
    {
     "output_type": "stream",
     "text": [
      "[Epoch 5] [Batch 280/500] [generator loss: 0.012722] [discriminator loss: 0.000281]\n"
     ],
     "name": "stdout"
    },
    {
     "output_type": "stream",
     "text": [
      " 58%|█████▊    | 291/500 [10:47<07:38,  2.19s/it]"
     ],
     "name": "stderr"
    },
    {
     "output_type": "stream",
     "text": [
      "[Epoch 5] [Batch 290/500] [generator loss: 0.013325] [discriminator loss: -0.000434]\n"
     ],
     "name": "stdout"
    },
    {
     "output_type": "stream",
     "text": [
      " 60%|██████    | 301/500 [11:09<07:17,  2.20s/it]"
     ],
     "name": "stderr"
    },
    {
     "output_type": "stream",
     "text": [
      "[Epoch 5] [Batch 300/500] [generator loss: 0.013682] [discriminator loss: -0.001408]\n"
     ],
     "name": "stdout"
    },
    {
     "output_type": "stream",
     "text": [
      " 62%|██████▏   | 311/500 [11:31<06:56,  2.21s/it]"
     ],
     "name": "stderr"
    },
    {
     "output_type": "stream",
     "text": [
      "[Epoch 5] [Batch 310/500] [generator loss: 0.012992] [discriminator loss: 0.000005]\n"
     ],
     "name": "stdout"
    },
    {
     "output_type": "stream",
     "text": [
      " 64%|██████▍   | 321/500 [11:53<06:35,  2.21s/it]"
     ],
     "name": "stderr"
    },
    {
     "output_type": "stream",
     "text": [
      "[Epoch 5] [Batch 320/500] [generator loss: 0.012815] [discriminator loss: 0.000474]\n"
     ],
     "name": "stdout"
    },
    {
     "output_type": "stream",
     "text": [
      " 66%|██████▌   | 331/500 [12:15<06:14,  2.22s/it]"
     ],
     "name": "stderr"
    },
    {
     "output_type": "stream",
     "text": [
      "[Epoch 5] [Batch 330/500] [generator loss: 0.013051] [discriminator loss: -0.000770]\n"
     ],
     "name": "stdout"
    },
    {
     "output_type": "stream",
     "text": [
      " 68%|██████▊   | 341/500 [12:38<05:51,  2.21s/it]"
     ],
     "name": "stderr"
    },
    {
     "output_type": "stream",
     "text": [
      "[Epoch 5] [Batch 340/500] [generator loss: 0.013261] [discriminator loss: -0.000622]\n"
     ],
     "name": "stdout"
    },
    {
     "output_type": "stream",
     "text": [
      " 70%|███████   | 351/500 [13:00<05:27,  2.20s/it]"
     ],
     "name": "stderr"
    },
    {
     "output_type": "stream",
     "text": [
      "[Epoch 5] [Batch 350/500] [generator loss: 0.012917] [discriminator loss: -0.000018]\n"
     ],
     "name": "stdout"
    },
    {
     "output_type": "stream",
     "text": [
      " 72%|███████▏  | 361/500 [13:22<05:08,  2.22s/it]"
     ],
     "name": "stderr"
    },
    {
     "output_type": "stream",
     "text": [
      "[Epoch 5] [Batch 360/500] [generator loss: 0.013130] [discriminator loss: 0.001460]\n"
     ],
     "name": "stdout"
    },
    {
     "output_type": "stream",
     "text": [
      " 74%|███████▍  | 371/500 [13:44<04:45,  2.22s/it]"
     ],
     "name": "stderr"
    },
    {
     "output_type": "stream",
     "text": [
      "[Epoch 5] [Batch 370/500] [generator loss: 0.013369] [discriminator loss: -0.001175]\n"
     ],
     "name": "stdout"
    },
    {
     "output_type": "stream",
     "text": [
      " 76%|███████▌  | 381/500 [14:06<04:22,  2.20s/it]"
     ],
     "name": "stderr"
    },
    {
     "output_type": "stream",
     "text": [
      "[Epoch 5] [Batch 380/500] [generator loss: 0.013326] [discriminator loss: 0.000838]\n"
     ],
     "name": "stdout"
    },
    {
     "output_type": "stream",
     "text": [
      " 78%|███████▊  | 391/500 [14:28<03:57,  2.18s/it]"
     ],
     "name": "stderr"
    },
    {
     "output_type": "stream",
     "text": [
      "[Epoch 5] [Batch 390/500] [generator loss: 0.013022] [discriminator loss: 0.001149]\n"
     ],
     "name": "stdout"
    },
    {
     "output_type": "stream",
     "text": [
      " 80%|████████  | 401/500 [14:50<03:37,  2.20s/it]"
     ],
     "name": "stderr"
    },
    {
     "output_type": "stream",
     "text": [
      "[Epoch 5] [Batch 400/500] [generator loss: 0.013048] [discriminator loss: -0.000364]\n"
     ],
     "name": "stdout"
    },
    {
     "output_type": "stream",
     "text": [
      " 82%|████████▏ | 411/500 [15:11<03:16,  2.21s/it]"
     ],
     "name": "stderr"
    },
    {
     "output_type": "stream",
     "text": [
      "[Epoch 5] [Batch 410/500] [generator loss: 0.013491] [discriminator loss: 0.004090]\n"
     ],
     "name": "stdout"
    },
    {
     "output_type": "stream",
     "text": [
      " 84%|████████▍ | 421/500 [15:33<02:53,  2.20s/it]"
     ],
     "name": "stderr"
    },
    {
     "output_type": "stream",
     "text": [
      "[Epoch 5] [Batch 420/500] [generator loss: 0.013214] [discriminator loss: 0.001763]\n"
     ],
     "name": "stdout"
    },
    {
     "output_type": "stream",
     "text": [
      " 86%|████████▌ | 431/500 [15:55<02:31,  2.20s/it]"
     ],
     "name": "stderr"
    },
    {
     "output_type": "stream",
     "text": [
      "[Epoch 5] [Batch 430/500] [generator loss: 0.012925] [discriminator loss: -0.000141]\n"
     ],
     "name": "stdout"
    },
    {
     "output_type": "stream",
     "text": [
      " 88%|████████▊ | 441/500 [16:17<02:09,  2.20s/it]"
     ],
     "name": "stderr"
    },
    {
     "output_type": "stream",
     "text": [
      "[Epoch 5] [Batch 440/500] [generator loss: 0.013438] [discriminator loss: -0.000426]\n"
     ],
     "name": "stdout"
    },
    {
     "output_type": "stream",
     "text": [
      " 90%|█████████ | 451/500 [16:39<01:46,  2.18s/it]"
     ],
     "name": "stderr"
    },
    {
     "output_type": "stream",
     "text": [
      "[Epoch 5] [Batch 450/500] [generator loss: 0.013046] [discriminator loss: 0.000060]\n"
     ],
     "name": "stdout"
    },
    {
     "output_type": "stream",
     "text": [
      " 92%|█████████▏| 461/500 [17:01<01:25,  2.20s/it]"
     ],
     "name": "stderr"
    },
    {
     "output_type": "stream",
     "text": [
      "[Epoch 5] [Batch 460/500] [generator loss: 0.013416] [discriminator loss: 0.000866]\n"
     ],
     "name": "stdout"
    },
    {
     "output_type": "stream",
     "text": [
      " 94%|█████████▍| 471/500 [17:23<01:03,  2.17s/it]"
     ],
     "name": "stderr"
    },
    {
     "output_type": "stream",
     "text": [
      "[Epoch 5] [Batch 470/500] [generator loss: 0.013962] [discriminator loss: -0.001087]\n"
     ],
     "name": "stdout"
    },
    {
     "output_type": "stream",
     "text": [
      " 96%|█████████▌| 481/500 [17:45<00:41,  2.18s/it]"
     ],
     "name": "stderr"
    },
    {
     "output_type": "stream",
     "text": [
      "[Epoch 5] [Batch 480/500] [generator loss: 0.013653] [discriminator loss: 0.001064]\n"
     ],
     "name": "stdout"
    },
    {
     "output_type": "stream",
     "text": [
      " 98%|█████████▊| 491/500 [18:06<00:19,  2.19s/it]"
     ],
     "name": "stderr"
    },
    {
     "output_type": "stream",
     "text": [
      "[Epoch 5] [Batch 490/500] [generator loss: 0.013774] [discriminator loss: -0.000834]\n"
     ],
     "name": "stdout"
    },
    {
     "output_type": "stream",
     "text": [
      "100%|██████████| 500/500 [18:26<00:00,  2.21s/it]\n"
     ],
     "name": "stderr"
    },
    {
     "output_type": "stream",
     "text": [
      "Saving models...\n",
      "Models saved.\n",
      "Sampling test images...\n"
     ],
     "name": "stdout"
    },
    {
     "output_type": "stream",
     "text": [
      "  0%|          | 1/500 [00:03<31:55,  3.84s/it]"
     ],
     "name": "stderr"
    },
    {
     "output_type": "stream",
     "text": [
      "[Epoch 6] [Batch 0/500] [generator loss: 0.013809] [discriminator loss: 0.000082]\n"
     ],
     "name": "stdout"
    },
    {
     "output_type": "stream",
     "text": [
      "  2%|▏         | 11/500 [00:28<18:47,  2.31s/it]"
     ],
     "name": "stderr"
    },
    {
     "output_type": "stream",
     "text": [
      "[Epoch 6] [Batch 10/500] [generator loss: 0.013658] [discriminator loss: -0.000369]\n"
     ],
     "name": "stdout"
    },
    {
     "output_type": "stream",
     "text": [
      "  4%|▍         | 21/500 [00:50<17:37,  2.21s/it]"
     ],
     "name": "stderr"
    },
    {
     "output_type": "stream",
     "text": [
      "[Epoch 6] [Batch 20/500] [generator loss: 0.013335] [discriminator loss: 0.000879]\n"
     ],
     "name": "stdout"
    },
    {
     "output_type": "stream",
     "text": [
      "  6%|▌         | 31/500 [01:12<17:13,  2.20s/it]"
     ],
     "name": "stderr"
    },
    {
     "output_type": "stream",
     "text": [
      "[Epoch 6] [Batch 30/500] [generator loss: 0.013487] [discriminator loss: -0.000124]\n"
     ],
     "name": "stdout"
    },
    {
     "output_type": "stream",
     "text": [
      "  8%|▊         | 41/500 [01:35<17:14,  2.25s/it]"
     ],
     "name": "stderr"
    },
    {
     "output_type": "stream",
     "text": [
      "[Epoch 6] [Batch 40/500] [generator loss: 0.013588] [discriminator loss: -0.000174]\n"
     ],
     "name": "stdout"
    },
    {
     "output_type": "stream",
     "text": [
      " 10%|█         | 51/500 [01:57<16:39,  2.23s/it]"
     ],
     "name": "stderr"
    },
    {
     "output_type": "stream",
     "text": [
      "[Epoch 6] [Batch 50/500] [generator loss: 0.014108] [discriminator loss: -0.001057]\n"
     ],
     "name": "stdout"
    },
    {
     "output_type": "stream",
     "text": [
      " 12%|█▏        | 61/500 [02:19<16:00,  2.19s/it]"
     ],
     "name": "stderr"
    },
    {
     "output_type": "stream",
     "text": [
      "[Epoch 6] [Batch 60/500] [generator loss: 0.013925] [discriminator loss: -0.000621]\n"
     ],
     "name": "stdout"
    },
    {
     "output_type": "stream",
     "text": [
      " 14%|█▍        | 71/500 [02:41<15:52,  2.22s/it]"
     ],
     "name": "stderr"
    },
    {
     "output_type": "stream",
     "text": [
      "[Epoch 6] [Batch 70/500] [generator loss: 0.013728] [discriminator loss: 0.006742]\n"
     ],
     "name": "stdout"
    },
    {
     "output_type": "stream",
     "text": [
      " 16%|█▌        | 81/500 [03:03<15:25,  2.21s/it]"
     ],
     "name": "stderr"
    },
    {
     "output_type": "stream",
     "text": [
      "[Epoch 6] [Batch 80/500] [generator loss: 0.013727] [discriminator loss: -0.000903]\n"
     ],
     "name": "stdout"
    },
    {
     "output_type": "stream",
     "text": [
      " 18%|█▊        | 91/500 [03:25<15:01,  2.21s/it]"
     ],
     "name": "stderr"
    },
    {
     "output_type": "stream",
     "text": [
      "[Epoch 6] [Batch 90/500] [generator loss: 0.013576] [discriminator loss: 0.000159]\n"
     ],
     "name": "stdout"
    },
    {
     "output_type": "stream",
     "text": [
      " 20%|██        | 101/500 [03:47<14:36,  2.20s/it]"
     ],
     "name": "stderr"
    },
    {
     "output_type": "stream",
     "text": [
      "[Epoch 6] [Batch 100/500] [generator loss: 0.014015] [discriminator loss: 0.000847]\n"
     ],
     "name": "stdout"
    },
    {
     "output_type": "stream",
     "text": [
      " 22%|██▏       | 111/500 [04:10<14:25,  2.23s/it]"
     ],
     "name": "stderr"
    },
    {
     "output_type": "stream",
     "text": [
      "[Epoch 6] [Batch 110/500] [generator loss: 0.013757] [discriminator loss: -0.000206]\n"
     ],
     "name": "stdout"
    },
    {
     "output_type": "stream",
     "text": [
      " 24%|██▍       | 121/500 [04:32<13:56,  2.21s/it]"
     ],
     "name": "stderr"
    },
    {
     "output_type": "stream",
     "text": [
      "[Epoch 6] [Batch 120/500] [generator loss: 0.014397] [discriminator loss: -0.000560]\n"
     ],
     "name": "stdout"
    },
    {
     "output_type": "stream",
     "text": [
      " 26%|██▌       | 131/500 [04:54<13:37,  2.21s/it]"
     ],
     "name": "stderr"
    },
    {
     "output_type": "stream",
     "text": [
      "[Epoch 6] [Batch 130/500] [generator loss: 0.014004] [discriminator loss: 0.000510]\n"
     ],
     "name": "stdout"
    },
    {
     "output_type": "stream",
     "text": [
      " 28%|██▊       | 141/500 [05:16<13:11,  2.21s/it]"
     ],
     "name": "stderr"
    },
    {
     "output_type": "stream",
     "text": [
      "[Epoch 6] [Batch 140/500] [generator loss: 0.014035] [discriminator loss: -0.000296]\n"
     ],
     "name": "stdout"
    },
    {
     "output_type": "stream",
     "text": [
      " 30%|███       | 151/500 [05:38<12:49,  2.21s/it]"
     ],
     "name": "stderr"
    },
    {
     "output_type": "stream",
     "text": [
      "[Epoch 6] [Batch 150/500] [generator loss: 0.013875] [discriminator loss: -0.000497]\n"
     ],
     "name": "stdout"
    },
    {
     "output_type": "stream",
     "text": [
      " 32%|███▏      | 161/500 [06:00<12:29,  2.21s/it]"
     ],
     "name": "stderr"
    },
    {
     "output_type": "stream",
     "text": [
      "[Epoch 6] [Batch 160/500] [generator loss: 0.014307] [discriminator loss: 0.000359]\n"
     ],
     "name": "stdout"
    },
    {
     "output_type": "stream",
     "text": [
      " 34%|███▍      | 171/500 [06:22<12:04,  2.20s/it]"
     ],
     "name": "stderr"
    },
    {
     "output_type": "stream",
     "text": [
      "[Epoch 6] [Batch 170/500] [generator loss: 0.014299] [discriminator loss: 0.000753]\n"
     ],
     "name": "stdout"
    },
    {
     "output_type": "stream",
     "text": [
      " 36%|███▌      | 181/500 [06:44<11:39,  2.19s/it]"
     ],
     "name": "stderr"
    },
    {
     "output_type": "stream",
     "text": [
      "[Epoch 6] [Batch 180/500] [generator loss: 0.014079] [discriminator loss: 0.000800]\n"
     ],
     "name": "stdout"
    },
    {
     "output_type": "stream",
     "text": [
      " 38%|███▊      | 191/500 [07:06<11:15,  2.19s/it]"
     ],
     "name": "stderr"
    },
    {
     "output_type": "stream",
     "text": [
      "[Epoch 6] [Batch 190/500] [generator loss: 0.013841] [discriminator loss: -0.000270]\n"
     ],
     "name": "stdout"
    },
    {
     "output_type": "stream",
     "text": [
      " 40%|████      | 201/500 [07:28<10:57,  2.20s/it]"
     ],
     "name": "stderr"
    },
    {
     "output_type": "stream",
     "text": [
      "[Epoch 6] [Batch 200/500] [generator loss: 0.014780] [discriminator loss: -0.001373]\n"
     ],
     "name": "stdout"
    },
    {
     "output_type": "stream",
     "text": [
      " 42%|████▏     | 211/500 [07:50<10:38,  2.21s/it]"
     ],
     "name": "stderr"
    },
    {
     "output_type": "stream",
     "text": [
      "[Epoch 6] [Batch 210/500] [generator loss: 0.014399] [discriminator loss: -0.000461]\n"
     ],
     "name": "stdout"
    },
    {
     "output_type": "stream",
     "text": [
      " 44%|████▍     | 221/500 [08:12<10:16,  2.21s/it]"
     ],
     "name": "stderr"
    },
    {
     "output_type": "stream",
     "text": [
      "[Epoch 6] [Batch 220/500] [generator loss: 0.013815] [discriminator loss: -0.000287]\n"
     ],
     "name": "stdout"
    },
    {
     "output_type": "stream",
     "text": [
      " 46%|████▌     | 231/500 [08:34<09:52,  2.20s/it]"
     ],
     "name": "stderr"
    },
    {
     "output_type": "stream",
     "text": [
      "[Epoch 6] [Batch 230/500] [generator loss: 0.014488] [discriminator loss: -0.000843]\n"
     ],
     "name": "stdout"
    },
    {
     "output_type": "stream",
     "text": [
      " 48%|████▊     | 241/500 [08:56<09:28,  2.19s/it]"
     ],
     "name": "stderr"
    },
    {
     "output_type": "stream",
     "text": [
      "[Epoch 6] [Batch 240/500] [generator loss: 0.014270] [discriminator loss: 0.000137]\n"
     ],
     "name": "stdout"
    },
    {
     "output_type": "stream",
     "text": [
      " 50%|█████     | 251/500 [09:18<09:01,  2.18s/it]"
     ],
     "name": "stderr"
    },
    {
     "output_type": "stream",
     "text": [
      "[Epoch 6] [Batch 250/500] [generator loss: 0.014203] [discriminator loss: 0.000105]\n"
     ],
     "name": "stdout"
    },
    {
     "output_type": "stream",
     "text": [
      " 52%|█████▏    | 261/500 [09:40<08:49,  2.21s/it]"
     ],
     "name": "stderr"
    },
    {
     "output_type": "stream",
     "text": [
      "[Epoch 6] [Batch 260/500] [generator loss: 0.014625] [discriminator loss: 0.000093]\n"
     ],
     "name": "stdout"
    },
    {
     "output_type": "stream",
     "text": [
      " 54%|█████▍    | 271/500 [10:02<08:25,  2.21s/it]"
     ],
     "name": "stderr"
    },
    {
     "output_type": "stream",
     "text": [
      "[Epoch 6] [Batch 270/500] [generator loss: 0.014527] [discriminator loss: 0.000580]\n"
     ],
     "name": "stdout"
    },
    {
     "output_type": "stream",
     "text": [
      " 56%|█████▌    | 281/500 [10:24<08:02,  2.20s/it]"
     ],
     "name": "stderr"
    },
    {
     "output_type": "stream",
     "text": [
      "[Epoch 6] [Batch 280/500] [generator loss: 0.014118] [discriminator loss: 0.000158]\n"
     ],
     "name": "stdout"
    },
    {
     "output_type": "stream",
     "text": [
      " 58%|█████▊    | 291/500 [10:47<07:45,  2.23s/it]"
     ],
     "name": "stderr"
    },
    {
     "output_type": "stream",
     "text": [
      "[Epoch 6] [Batch 290/500] [generator loss: 0.014669] [discriminator loss: -0.000542]\n"
     ],
     "name": "stdout"
    },
    {
     "output_type": "stream",
     "text": [
      " 60%|██████    | 301/500 [11:08<07:16,  2.19s/it]"
     ],
     "name": "stderr"
    },
    {
     "output_type": "stream",
     "text": [
      "[Epoch 6] [Batch 300/500] [generator loss: 0.015146] [discriminator loss: -0.001869]\n"
     ],
     "name": "stdout"
    },
    {
     "output_type": "stream",
     "text": [
      " 62%|██████▏   | 311/500 [11:31<06:57,  2.21s/it]"
     ],
     "name": "stderr"
    },
    {
     "output_type": "stream",
     "text": [
      "[Epoch 6] [Batch 310/500] [generator loss: 0.014404] [discriminator loss: -0.000171]\n"
     ],
     "name": "stdout"
    },
    {
     "output_type": "stream",
     "text": [
      " 64%|██████▍   | 321/500 [11:53<06:35,  2.21s/it]"
     ],
     "name": "stderr"
    },
    {
     "output_type": "stream",
     "text": [
      "[Epoch 6] [Batch 320/500] [generator loss: 0.014391] [discriminator loss: 0.000586]\n"
     ],
     "name": "stdout"
    },
    {
     "output_type": "stream",
     "text": [
      " 66%|██████▌   | 331/500 [12:15<06:12,  2.20s/it]"
     ],
     "name": "stderr"
    },
    {
     "output_type": "stream",
     "text": [
      "[Epoch 6] [Batch 330/500] [generator loss: 0.014435] [discriminator loss: -0.000475]\n"
     ],
     "name": "stdout"
    },
    {
     "output_type": "stream",
     "text": [
      " 68%|██████▊   | 341/500 [12:37<05:50,  2.20s/it]"
     ],
     "name": "stderr"
    },
    {
     "output_type": "stream",
     "text": [
      "[Epoch 6] [Batch 340/500] [generator loss: 0.014761] [discriminator loss: -0.000664]\n"
     ],
     "name": "stdout"
    },
    {
     "output_type": "stream",
     "text": [
      " 70%|███████   | 351/500 [12:58<05:24,  2.18s/it]"
     ],
     "name": "stderr"
    },
    {
     "output_type": "stream",
     "text": [
      "[Epoch 6] [Batch 350/500] [generator loss: 0.014336] [discriminator loss: 0.000678]\n"
     ],
     "name": "stdout"
    },
    {
     "output_type": "stream",
     "text": [
      " 72%|███████▏  | 361/500 [13:20<05:05,  2.20s/it]"
     ],
     "name": "stderr"
    },
    {
     "output_type": "stream",
     "text": [
      "[Epoch 6] [Batch 360/500] [generator loss: 0.014428] [discriminator loss: -0.000506]\n"
     ],
     "name": "stdout"
    },
    {
     "output_type": "stream",
     "text": [
      " 74%|███████▍  | 371/500 [13:42<04:42,  2.19s/it]"
     ],
     "name": "stderr"
    },
    {
     "output_type": "stream",
     "text": [
      "[Epoch 6] [Batch 370/500] [generator loss: 0.014703] [discriminator loss: 0.000602]\n"
     ],
     "name": "stdout"
    },
    {
     "output_type": "stream",
     "text": [
      " 76%|███████▌  | 381/500 [14:04<04:21,  2.20s/it]"
     ],
     "name": "stderr"
    },
    {
     "output_type": "stream",
     "text": [
      "[Epoch 6] [Batch 380/500] [generator loss: 0.014566] [discriminator loss: 0.001144]\n"
     ],
     "name": "stdout"
    },
    {
     "output_type": "stream",
     "text": [
      " 78%|███████▊  | 391/500 [14:26<03:57,  2.18s/it]"
     ],
     "name": "stderr"
    },
    {
     "output_type": "stream",
     "text": [
      "[Epoch 6] [Batch 390/500] [generator loss: 0.014818] [discriminator loss: 0.000614]\n"
     ],
     "name": "stdout"
    },
    {
     "output_type": "stream",
     "text": [
      " 80%|████████  | 401/500 [14:48<03:36,  2.19s/it]"
     ],
     "name": "stderr"
    },
    {
     "output_type": "stream",
     "text": [
      "[Epoch 6] [Batch 400/500] [generator loss: 0.014564] [discriminator loss: -0.000288]\n"
     ],
     "name": "stdout"
    },
    {
     "output_type": "stream",
     "text": [
      " 82%|████████▏ | 411/500 [15:10<03:15,  2.19s/it]"
     ],
     "name": "stderr"
    },
    {
     "output_type": "stream",
     "text": [
      "[Epoch 6] [Batch 410/500] [generator loss: 0.014889] [discriminator loss: -0.000535]\n"
     ],
     "name": "stdout"
    },
    {
     "output_type": "stream",
     "text": [
      " 84%|████████▍ | 421/500 [15:32<02:52,  2.19s/it]"
     ],
     "name": "stderr"
    },
    {
     "output_type": "stream",
     "text": [
      "[Epoch 6] [Batch 420/500] [generator loss: 0.014484] [discriminator loss: 0.003116]\n"
     ],
     "name": "stdout"
    },
    {
     "output_type": "stream",
     "text": [
      " 86%|████████▌ | 431/500 [15:54<02:30,  2.19s/it]"
     ],
     "name": "stderr"
    },
    {
     "output_type": "stream",
     "text": [
      "[Epoch 6] [Batch 430/500] [generator loss: 0.014455] [discriminator loss: 0.000315]\n"
     ],
     "name": "stdout"
    },
    {
     "output_type": "stream",
     "text": [
      " 88%|████████▊ | 441/500 [16:15<02:09,  2.20s/it]"
     ],
     "name": "stderr"
    },
    {
     "output_type": "stream",
     "text": [
      "[Epoch 6] [Batch 440/500] [generator loss: 0.015013] [discriminator loss: -0.000343]\n"
     ],
     "name": "stdout"
    },
    {
     "output_type": "stream",
     "text": [
      " 90%|█████████ | 451/500 [16:37<01:47,  2.20s/it]"
     ],
     "name": "stderr"
    },
    {
     "output_type": "stream",
     "text": [
      "[Epoch 6] [Batch 450/500] [generator loss: 0.014542] [discriminator loss: -0.000123]\n"
     ],
     "name": "stdout"
    },
    {
     "output_type": "stream",
     "text": [
      " 92%|█████████▏| 461/500 [16:59<01:25,  2.19s/it]"
     ],
     "name": "stderr"
    },
    {
     "output_type": "stream",
     "text": [
      "[Epoch 6] [Batch 460/500] [generator loss: 0.014907] [discriminator loss: 0.000734]\n"
     ],
     "name": "stdout"
    },
    {
     "output_type": "stream",
     "text": [
      " 94%|█████████▍| 471/500 [17:21<01:03,  2.19s/it]"
     ],
     "name": "stderr"
    },
    {
     "output_type": "stream",
     "text": [
      "[Epoch 6] [Batch 470/500] [generator loss: 0.015411] [discriminator loss: -0.000885]\n"
     ],
     "name": "stdout"
    },
    {
     "output_type": "stream",
     "text": [
      " 96%|█████████▌| 481/500 [17:43<00:41,  2.18s/it]"
     ],
     "name": "stderr"
    },
    {
     "output_type": "stream",
     "text": [
      "[Epoch 6] [Batch 480/500] [generator loss: 0.015104] [discriminator loss: 0.002624]\n"
     ],
     "name": "stdout"
    },
    {
     "output_type": "stream",
     "text": [
      " 98%|█████████▊| 491/500 [18:05<00:19,  2.19s/it]"
     ],
     "name": "stderr"
    },
    {
     "output_type": "stream",
     "text": [
      "[Epoch 6] [Batch 490/500] [generator loss: 0.015093] [discriminator loss: 0.000160]\n"
     ],
     "name": "stdout"
    },
    {
     "output_type": "stream",
     "text": [
      "100%|██████████| 500/500 [18:24<00:00,  2.21s/it]\n"
     ],
     "name": "stderr"
    },
    {
     "output_type": "stream",
     "text": [
      "Saving models...\n",
      "Models saved.\n",
      "Sampling test images...\n"
     ],
     "name": "stdout"
    }
   ]
  },
  {
   "cell_type": "code",
   "metadata": {
    "pycharm": {
     "name": "#%%\n"
    },
    "id": "1cOv0oKgJLSv"
   },
   "source": [
    "cp /content/chroma-instance/chroma_instance/weights/chroma_instance/FirstTest/my_model_colorizationEpoch4.h5 /content/drive/MyDrive/colab_tmp/"
   ],
   "execution_count": null,
   "outputs": []
  },
  {
   "cell_type": "code",
   "metadata": {
    "id": "08En3Tq97pdf"
   },
   "source": [
    "!cd /content/chroma-instance/chroma_instance/dataset && zip -r train_bbox.zip train_bbox/"
   ],
   "execution_count": null,
   "outputs": []
  },
  {
   "cell_type": "code",
   "execution_count": null,
   "outputs": [],
   "source": [
    "!cp /content/chroma-instance/chroma_instance/dataset/train_bbox.zip /content/drive/MyDrive/colab_tmp/dataset/"
   ],
   "metadata": {
    "collapsed": false,
    "pycharm": {
     "name": "#%%\n"
    }
   }
  },
  {
   "cell_type": "code",
   "execution_count": null,
   "outputs": [],
   "source": [],
   "metadata": {
    "collapsed": false,
    "pycharm": {
     "name": "#%%\n"
    }
   }
  },
  {
   "cell_type": "code",
   "metadata": {
    "id": "lEdjoLdb8YIu"
   },
   "source": [],
   "execution_count": null,
   "outputs": []
  },
  {
   "cell_type": "code",
   "metadata": {
    "id": "Wrv0vTRsEECO"
   },
   "source": [
    ""
   ],
   "execution_count": null,
   "outputs": []
  }
 ]
}