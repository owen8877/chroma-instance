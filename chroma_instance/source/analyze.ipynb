{
 "cells": [
  {
   "cell_type": "code",
   "execution_count": 6,
   "metadata": {
    "collapsed": true
   },
   "outputs": [],
   "source": [
    "import os\n",
    "import numpy as np\n",
    "import tensorflow as tf\n",
    "from skimage.io import imread\n",
    "from tqdm import tqdm\n",
    "from lpips_tensorflow.lpips_tf import lpips\n",
    "\n",
    "tf.enable_eager_execution()"
   ]
  },
  {
   "cell_type": "code",
   "execution_count": 8,
   "outputs": [],
   "source": [
    "class Metric:\n",
    "    def __init__(self, name, fct):\n",
    "        self.name = name\n",
    "        self.fct = fct\n",
    "        self.content = np.array([])\n",
    "\n",
    "    def add(self, img_true, img_pred):\n",
    "        np.append(self.content, self.fct(img_true, img_pred))\n",
    "\n",
    "    def average(self):\n",
    "        return self.content.mean()\n",
    "\n",
    "\n",
    "class Network:\n",
    "    def __init__(self, name, filename_decorator):\n",
    "        self.name = name\n",
    "        self.filename_decorator = filename_decorator\n",
    "        self.datasets = {}\n",
    "        for dataset in 'places205', 'imagenet_ctest', 'coco_test_2017':\n",
    "            self.datasets[dataset] = [\n",
    "                Metric('psnr', lambda img_true, img_pred: tf.image.psnr(original_img, predicted_img, max_val=255)),\n",
    "                Metric('ssim', lambda img_true, img_pred: tf.image.ssim(original_img, predicted_img, max_val=255)),\n",
    "                Metric('lpips', lambda img_true, img_pred: lpips(img_true, img_pred, model='net-lin', net='alex')),\n",
    "            ]"
   ],
   "metadata": {
    "collapsed": false,
    "pycharm": {
     "name": "#%%\n"
    }
   }
  },
  {
   "cell_type": "code",
   "execution_count": 9,
   "outputs": [
    {
     "name": "stderr",
     "output_type": "stream",
     "text": [
      "  0%|          | 0/4053 [00:00<?, ?it/s]\n"
     ]
    },
    {
     "name": "stdout",
     "output_type": "stream",
     "text": [
      "Evaluating chroma_gan\n",
      "On dataset places205\n"
     ]
    },
    {
     "ename": "InvalidArgumentError",
     "evalue": "cannot compute Mul as input #1(zero-based) was expected to be a uint8 tensor but is a float tensor [Op:Mul] name: mul/",
     "output_type": "error",
     "traceback": [
      "\u001B[0;31m---------------------------------------------------------------------------\u001B[0m",
      "\u001B[0;31mInvalidArgumentError\u001B[0m                      Traceback (most recent call last)",
      "\u001B[0;32m<ipython-input-9-193bae53afb0>\u001B[0m in \u001B[0;36m<module>\u001B[0;34m\u001B[0m\n\u001B[1;32m     14\u001B[0m             \u001B[0;32mfor\u001B[0m \u001B[0mmetric\u001B[0m \u001B[0;32min\u001B[0m \u001B[0mdataset\u001B[0m\u001B[0;34m:\u001B[0m\u001B[0;34m\u001B[0m\u001B[0;34m\u001B[0m\u001B[0m\n\u001B[1;32m     15\u001B[0m                 \u001B[0mpredicted_img\u001B[0m \u001B[0;34m=\u001B[0m \u001B[0mtf\u001B[0m\u001B[0;34m.\u001B[0m\u001B[0mconvert_to_tensor\u001B[0m\u001B[0;34m(\u001B[0m\u001B[0mimread\u001B[0m\u001B[0;34m(\u001B[0m\u001B[0;34mf'../result/{network.name}/{dataset_name}/{network.filename_decorator(filename)}'\u001B[0m\u001B[0;34m)\u001B[0m\u001B[0;34m)\u001B[0m\u001B[0;34m\u001B[0m\u001B[0;34m\u001B[0m\u001B[0m\n\u001B[0;32m---> 16\u001B[0;31m                 \u001B[0mmetric\u001B[0m\u001B[0;34m.\u001B[0m\u001B[0madd\u001B[0m\u001B[0;34m(\u001B[0m\u001B[0moriginal_img\u001B[0m\u001B[0;34m,\u001B[0m \u001B[0mpredicted_img\u001B[0m\u001B[0;34m)\u001B[0m\u001B[0;34m\u001B[0m\u001B[0;34m\u001B[0m\u001B[0m\n\u001B[0m\u001B[1;32m     17\u001B[0m \u001B[0;34m\u001B[0m\u001B[0m\n\u001B[1;32m     18\u001B[0m \u001B[0;32mfor\u001B[0m \u001B[0mnetwork\u001B[0m \u001B[0;32min\u001B[0m \u001B[0mnetworks\u001B[0m\u001B[0;34m:\u001B[0m\u001B[0;34m\u001B[0m\u001B[0;34m\u001B[0m\u001B[0m\n",
      "\u001B[0;32m<ipython-input-8-f926580280e2>\u001B[0m in \u001B[0;36madd\u001B[0;34m(self, img_true, img_pred)\u001B[0m\n\u001B[1;32m      6\u001B[0m \u001B[0;34m\u001B[0m\u001B[0m\n\u001B[1;32m      7\u001B[0m     \u001B[0;32mdef\u001B[0m \u001B[0madd\u001B[0m\u001B[0;34m(\u001B[0m\u001B[0mself\u001B[0m\u001B[0;34m,\u001B[0m \u001B[0mimg_true\u001B[0m\u001B[0;34m,\u001B[0m \u001B[0mimg_pred\u001B[0m\u001B[0;34m)\u001B[0m\u001B[0;34m:\u001B[0m\u001B[0;34m\u001B[0m\u001B[0;34m\u001B[0m\u001B[0m\n\u001B[0;32m----> 8\u001B[0;31m         \u001B[0mnp\u001B[0m\u001B[0;34m.\u001B[0m\u001B[0mappend\u001B[0m\u001B[0;34m(\u001B[0m\u001B[0mself\u001B[0m\u001B[0;34m.\u001B[0m\u001B[0mcontent\u001B[0m\u001B[0;34m,\u001B[0m \u001B[0mself\u001B[0m\u001B[0;34m.\u001B[0m\u001B[0mfct\u001B[0m\u001B[0;34m(\u001B[0m\u001B[0mimg_true\u001B[0m\u001B[0;34m,\u001B[0m \u001B[0mimg_pred\u001B[0m\u001B[0;34m)\u001B[0m\u001B[0;34m)\u001B[0m\u001B[0;34m\u001B[0m\u001B[0;34m\u001B[0m\u001B[0m\n\u001B[0m\u001B[1;32m      9\u001B[0m \u001B[0;34m\u001B[0m\u001B[0m\n\u001B[1;32m     10\u001B[0m     \u001B[0;32mdef\u001B[0m \u001B[0maverage\u001B[0m\u001B[0;34m(\u001B[0m\u001B[0mself\u001B[0m\u001B[0;34m)\u001B[0m\u001B[0;34m:\u001B[0m\u001B[0;34m\u001B[0m\u001B[0;34m\u001B[0m\u001B[0m\n",
      "\u001B[0;32m<ipython-input-8-f926580280e2>\u001B[0m in \u001B[0;36m<lambda>\u001B[0;34m(img_true, img_pred)\u001B[0m\n\u001B[1;32m     21\u001B[0m                 \u001B[0mMetric\u001B[0m\u001B[0;34m(\u001B[0m\u001B[0;34m'psnr'\u001B[0m\u001B[0;34m,\u001B[0m \u001B[0;32mlambda\u001B[0m \u001B[0mimg_true\u001B[0m\u001B[0;34m,\u001B[0m \u001B[0mimg_pred\u001B[0m\u001B[0;34m:\u001B[0m \u001B[0mtf\u001B[0m\u001B[0;34m.\u001B[0m\u001B[0mimage\u001B[0m\u001B[0;34m.\u001B[0m\u001B[0mpsnr\u001B[0m\u001B[0;34m(\u001B[0m\u001B[0moriginal_img\u001B[0m\u001B[0;34m,\u001B[0m \u001B[0mpredicted_img\u001B[0m\u001B[0;34m,\u001B[0m \u001B[0mmax_val\u001B[0m\u001B[0;34m=\u001B[0m\u001B[0;36m255\u001B[0m\u001B[0;34m)\u001B[0m\u001B[0;34m)\u001B[0m\u001B[0;34m,\u001B[0m\u001B[0;34m\u001B[0m\u001B[0;34m\u001B[0m\u001B[0m\n\u001B[1;32m     22\u001B[0m                 \u001B[0mMetric\u001B[0m\u001B[0;34m(\u001B[0m\u001B[0;34m'ssim'\u001B[0m\u001B[0;34m,\u001B[0m \u001B[0;32mlambda\u001B[0m \u001B[0mimg_true\u001B[0m\u001B[0;34m,\u001B[0m \u001B[0mimg_pred\u001B[0m\u001B[0;34m:\u001B[0m \u001B[0mtf\u001B[0m\u001B[0;34m.\u001B[0m\u001B[0mimage\u001B[0m\u001B[0;34m.\u001B[0m\u001B[0mssim\u001B[0m\u001B[0;34m(\u001B[0m\u001B[0moriginal_img\u001B[0m\u001B[0;34m,\u001B[0m \u001B[0mpredicted_img\u001B[0m\u001B[0;34m,\u001B[0m \u001B[0mmax_val\u001B[0m\u001B[0;34m=\u001B[0m\u001B[0;36m255\u001B[0m\u001B[0;34m)\u001B[0m\u001B[0;34m)\u001B[0m\u001B[0;34m,\u001B[0m\u001B[0;34m\u001B[0m\u001B[0;34m\u001B[0m\u001B[0m\n\u001B[0;32m---> 23\u001B[0;31m                 \u001B[0mMetric\u001B[0m\u001B[0;34m(\u001B[0m\u001B[0;34m'lpips'\u001B[0m\u001B[0;34m,\u001B[0m \u001B[0;32mlambda\u001B[0m \u001B[0mimg_true\u001B[0m\u001B[0;34m,\u001B[0m \u001B[0mimg_pred\u001B[0m\u001B[0;34m:\u001B[0m \u001B[0mlpips\u001B[0m\u001B[0;34m(\u001B[0m\u001B[0mimg_true\u001B[0m\u001B[0;34m,\u001B[0m \u001B[0mimg_pred\u001B[0m\u001B[0;34m,\u001B[0m \u001B[0mmodel\u001B[0m\u001B[0;34m=\u001B[0m\u001B[0;34m'net-lin'\u001B[0m\u001B[0;34m,\u001B[0m \u001B[0mnet\u001B[0m\u001B[0;34m=\u001B[0m\u001B[0;34m'alex'\u001B[0m\u001B[0;34m)\u001B[0m\u001B[0;34m)\u001B[0m\u001B[0;34m,\u001B[0m\u001B[0;34m\u001B[0m\u001B[0;34m\u001B[0m\u001B[0m\n\u001B[0m\u001B[1;32m     24\u001B[0m             ]\n\u001B[1;32m     25\u001B[0m \u001B[0;34m\u001B[0m\u001B[0m\n",
      "\u001B[0;32m~/Documents/CSE392 ML/project/chroma_instance/source/lpips_tensorflow/lpips_tf.py\u001B[0m in \u001B[0;36mlpips\u001B[0;34m(input0, input1, model, net, version)\u001B[0m\n\u001B[1;32m     53\u001B[0m     \u001B[0minput1\u001B[0m \u001B[0;34m=\u001B[0m \u001B[0mtf\u001B[0m\u001B[0;34m.\u001B[0m\u001B[0mtranspose\u001B[0m\u001B[0;34m(\u001B[0m\u001B[0minput1\u001B[0m\u001B[0;34m,\u001B[0m \u001B[0;34m[\u001B[0m\u001B[0;36m0\u001B[0m\u001B[0;34m,\u001B[0m \u001B[0;36m3\u001B[0m\u001B[0;34m,\u001B[0m \u001B[0;36m1\u001B[0m\u001B[0;34m,\u001B[0m \u001B[0;36m2\u001B[0m\u001B[0;34m]\u001B[0m\u001B[0;34m)\u001B[0m\u001B[0;34m\u001B[0m\u001B[0;34m\u001B[0m\u001B[0m\n\u001B[1;32m     54\u001B[0m     \u001B[0;31m# normalize to [-1, 1]\u001B[0m\u001B[0;34m\u001B[0m\u001B[0;34m\u001B[0m\u001B[0;34m\u001B[0m\u001B[0m\n\u001B[0;32m---> 55\u001B[0;31m     \u001B[0minput0\u001B[0m \u001B[0;34m=\u001B[0m \u001B[0minput0\u001B[0m \u001B[0;34m*\u001B[0m \u001B[0;36m2.0\u001B[0m \u001B[0;34m-\u001B[0m \u001B[0;36m1.0\u001B[0m\u001B[0;34m\u001B[0m\u001B[0;34m\u001B[0m\u001B[0m\n\u001B[0m\u001B[1;32m     56\u001B[0m     \u001B[0minput1\u001B[0m \u001B[0;34m=\u001B[0m \u001B[0minput1\u001B[0m \u001B[0;34m*\u001B[0m \u001B[0;36m2.0\u001B[0m \u001B[0;34m-\u001B[0m \u001B[0;36m1.0\u001B[0m\u001B[0;34m\u001B[0m\u001B[0;34m\u001B[0m\u001B[0m\n\u001B[1;32m     57\u001B[0m \u001B[0;34m\u001B[0m\u001B[0m\n",
      "\u001B[0;32m~/.conda/envs/mypy37env/lib/python3.7/site-packages/tensorflow/python/ops/math_ops.py\u001B[0m in \u001B[0;36mbinary_op_wrapper\u001B[0;34m(x, y)\u001B[0m\n\u001B[1;32m    895\u001B[0m           \u001B[0;32melse\u001B[0m\u001B[0;34m:\u001B[0m\u001B[0;34m\u001B[0m\u001B[0;34m\u001B[0m\u001B[0m\n\u001B[1;32m    896\u001B[0m             \u001B[0;32mraise\u001B[0m\u001B[0;34m\u001B[0m\u001B[0;34m\u001B[0m\u001B[0m\n\u001B[0;32m--> 897\u001B[0;31m       \u001B[0;32mreturn\u001B[0m \u001B[0mfunc\u001B[0m\u001B[0;34m(\u001B[0m\u001B[0mx\u001B[0m\u001B[0;34m,\u001B[0m \u001B[0my\u001B[0m\u001B[0;34m,\u001B[0m \u001B[0mname\u001B[0m\u001B[0;34m=\u001B[0m\u001B[0mname\u001B[0m\u001B[0;34m)\u001B[0m\u001B[0;34m\u001B[0m\u001B[0;34m\u001B[0m\u001B[0m\n\u001B[0m\u001B[1;32m    898\u001B[0m \u001B[0;34m\u001B[0m\u001B[0m\n\u001B[1;32m    899\u001B[0m   \u001B[0;32mdef\u001B[0m \u001B[0mbinary_op_wrapper_sparse\u001B[0m\u001B[0;34m(\u001B[0m\u001B[0msp_x\u001B[0m\u001B[0;34m,\u001B[0m \u001B[0my\u001B[0m\u001B[0;34m)\u001B[0m\u001B[0;34m:\u001B[0m\u001B[0;34m\u001B[0m\u001B[0;34m\u001B[0m\u001B[0m\n",
      "\u001B[0;32m~/.conda/envs/mypy37env/lib/python3.7/site-packages/tensorflow/python/ops/math_ops.py\u001B[0m in \u001B[0;36m_mul_dispatch\u001B[0;34m(x, y, name)\u001B[0m\n\u001B[1;32m   1178\u001B[0m   \u001B[0mis_tensor_y\u001B[0m \u001B[0;34m=\u001B[0m \u001B[0misinstance\u001B[0m\u001B[0;34m(\u001B[0m\u001B[0my\u001B[0m\u001B[0;34m,\u001B[0m \u001B[0mops\u001B[0m\u001B[0;34m.\u001B[0m\u001B[0mTensor\u001B[0m\u001B[0;34m)\u001B[0m\u001B[0;34m\u001B[0m\u001B[0;34m\u001B[0m\u001B[0m\n\u001B[1;32m   1179\u001B[0m   \u001B[0;32mif\u001B[0m \u001B[0mis_tensor_y\u001B[0m\u001B[0;34m:\u001B[0m\u001B[0;34m\u001B[0m\u001B[0;34m\u001B[0m\u001B[0m\n\u001B[0;32m-> 1180\u001B[0;31m     \u001B[0;32mreturn\u001B[0m \u001B[0mgen_math_ops\u001B[0m\u001B[0;34m.\u001B[0m\u001B[0mmul\u001B[0m\u001B[0;34m(\u001B[0m\u001B[0mx\u001B[0m\u001B[0;34m,\u001B[0m \u001B[0my\u001B[0m\u001B[0;34m,\u001B[0m \u001B[0mname\u001B[0m\u001B[0;34m=\u001B[0m\u001B[0mname\u001B[0m\u001B[0;34m)\u001B[0m\u001B[0;34m\u001B[0m\u001B[0;34m\u001B[0m\u001B[0m\n\u001B[0m\u001B[1;32m   1181\u001B[0m   \u001B[0;32melse\u001B[0m\u001B[0;34m:\u001B[0m\u001B[0;34m\u001B[0m\u001B[0;34m\u001B[0m\u001B[0m\n\u001B[1;32m   1182\u001B[0m     \u001B[0;32massert\u001B[0m \u001B[0misinstance\u001B[0m\u001B[0;34m(\u001B[0m\u001B[0my\u001B[0m\u001B[0;34m,\u001B[0m \u001B[0msparse_tensor\u001B[0m\u001B[0;34m.\u001B[0m\u001B[0mSparseTensor\u001B[0m\u001B[0;34m)\u001B[0m  \u001B[0;31m# Case: Dense * Sparse.\u001B[0m\u001B[0;34m\u001B[0m\u001B[0;34m\u001B[0m\u001B[0m\n",
      "\u001B[0;32m~/.conda/envs/mypy37env/lib/python3.7/site-packages/tensorflow/python/ops/gen_math_ops.py\u001B[0m in \u001B[0;36mmul\u001B[0;34m(x, y, name)\u001B[0m\n\u001B[1;32m   6485\u001B[0m       \u001B[0;32melse\u001B[0m\u001B[0;34m:\u001B[0m\u001B[0;34m\u001B[0m\u001B[0;34m\u001B[0m\u001B[0m\n\u001B[1;32m   6486\u001B[0m         \u001B[0mmessage\u001B[0m \u001B[0;34m=\u001B[0m \u001B[0me\u001B[0m\u001B[0;34m.\u001B[0m\u001B[0mmessage\u001B[0m\u001B[0;34m\u001B[0m\u001B[0;34m\u001B[0m\u001B[0m\n\u001B[0;32m-> 6487\u001B[0;31m       \u001B[0m_six\u001B[0m\u001B[0;34m.\u001B[0m\u001B[0mraise_from\u001B[0m\u001B[0;34m(\u001B[0m\u001B[0m_core\u001B[0m\u001B[0;34m.\u001B[0m\u001B[0m_status_to_exception\u001B[0m\u001B[0;34m(\u001B[0m\u001B[0me\u001B[0m\u001B[0;34m.\u001B[0m\u001B[0mcode\u001B[0m\u001B[0;34m,\u001B[0m \u001B[0mmessage\u001B[0m\u001B[0;34m)\u001B[0m\u001B[0;34m,\u001B[0m \u001B[0;32mNone\u001B[0m\u001B[0;34m)\u001B[0m\u001B[0;34m\u001B[0m\u001B[0;34m\u001B[0m\u001B[0m\n\u001B[0m\u001B[1;32m   6488\u001B[0m   \u001B[0;31m# Add nodes to the TensorFlow graph.\u001B[0m\u001B[0;34m\u001B[0m\u001B[0;34m\u001B[0m\u001B[0;34m\u001B[0m\u001B[0m\n\u001B[1;32m   6489\u001B[0m   _, _, _op = _op_def_lib._apply_op_helper(\n",
      "\u001B[0;32m~/.conda/envs/mypy37env/lib/python3.7/site-packages/six.py\u001B[0m in \u001B[0;36mraise_from\u001B[0;34m(value, from_value)\u001B[0m\n",
      "\u001B[0;31mInvalidArgumentError\u001B[0m: cannot compute Mul as input #1(zero-based) was expected to be a uint8 tensor but is a float tensor [Op:Mul] name: mul/"
     ]
    }
   ],
   "source": [
    "networks = [\n",
    "    Network('chroma_gan', lambda f: f + 'psnr_reconstructed.jpg'),\n",
    "    Network('fusion_2obj', lambda f: f + '_reconstructed.jpg'),\n",
    "    Network('fusion_2obj_huber', lambda f: f + '_reconstructed.jpg'),\n",
    "    Network('instcolorization', lambda f: f + 'psnr_reconstructed.jpg'),\n",
    "]\n",
    "\n",
    "for network in networks:\n",
    "    print(f'Evaluating {network.name}')\n",
    "    for dataset_name, dataset in network.datasets.items():\n",
    "        print(f'On dataset {dataset_name}')\n",
    "        for filename in tqdm(os.listdir(f'../dataset/{dataset_name}')):\n",
    "            original_img = tf.convert_to_tensor(imread(f'../dataset/{dataset_name}/{filename}'))\n",
    "            for metric in dataset:\n",
    "                predicted_img = tf.convert_to_tensor(imread(f'../result/{network.name}/{dataset_name}/{network.filename_decorator(filename)}'))\n",
    "                metric.add(original_img, predicted_img)\n",
    "\n",
    "for network in networks:\n",
    "    for dataset_name, dataset in network.datasets.items():\n",
    "        for metric in dataset:\n",
    "            print(f'{network.name} on {dataset_name}: {metric.name}={metric.average()}')"
   ],
   "metadata": {
    "collapsed": false,
    "pycharm": {
     "name": "#%%\n"
    }
   }
  },
  {
   "cell_type": "code",
   "execution_count": null,
   "outputs": [],
   "source": [],
   "metadata": {
    "collapsed": false,
    "pycharm": {
     "name": "#%%\n"
    }
   }
  }
 ],
 "metadata": {
  "kernelspec": {
   "display_name": "Python 3",
   "language": "python",
   "name": "python3"
  },
  "language_info": {
   "codemirror_mode": {
    "name": "ipython",
    "version": 2
   },
   "file_extension": ".py",
   "mimetype": "text/x-python",
   "name": "python",
   "nbconvert_exporter": "python",
   "pygments_lexer": "ipython2",
   "version": "2.7.6"
  }
 },
 "nbformat": 4,
 "nbformat_minor": 0
}