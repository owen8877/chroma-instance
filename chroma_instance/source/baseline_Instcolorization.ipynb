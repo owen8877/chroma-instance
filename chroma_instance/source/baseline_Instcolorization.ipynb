{
 "nbformat": 4,
 "nbformat_minor": 0,
 "metadata": {
  "colab": {
   "name": "InstColorization.ipynb",
   "provenance": [],
   "collapsed_sections": [],
   "toc_visible": true
  },
  "kernelspec": {
   "name": "python3",
   "display_name": "Python 3"
  },
  "accelerator": "GPU",
  "widgets": {
   "application/vnd.jupyter.widget-state+json": {
    "4f92841b49cb44159cdb74bbe1be0e95": {
     "model_module": "@jupyter-widgets/controls",
     "model_name": "HBoxModel",
     "state": {
      "_view_name": "HBoxView",
      "_dom_classes": [],
      "_model_name": "HBoxModel",
      "_view_module": "@jupyter-widgets/controls",
      "_model_module_version": "1.5.0",
      "_view_count": null,
      "_view_module_version": "1.5.0",
      "box_style": "",
      "layout": "IPY_MODEL_71e8ebf3af7f4a35b29db4d981e5feb4",
      "_model_module": "@jupyter-widgets/controls",
      "children": [
       "IPY_MODEL_33f00b9d6f294979b276bb1d63509047",
       "IPY_MODEL_8ed7bce08faf439fabe0f848daf7d70e"
      ]
     }
    },
    "71e8ebf3af7f4a35b29db4d981e5feb4": {
     "model_module": "@jupyter-widgets/base",
     "model_name": "LayoutModel",
     "state": {
      "_view_name": "LayoutView",
      "grid_template_rows": null,
      "right": null,
      "justify_content": null,
      "_view_module": "@jupyter-widgets/base",
      "overflow": null,
      "_model_module_version": "1.2.0",
      "_view_count": null,
      "flex_flow": null,
      "width": null,
      "min_width": null,
      "border": null,
      "align_items": null,
      "bottom": null,
      "_model_module": "@jupyter-widgets/base",
      "top": null,
      "grid_column": null,
      "overflow_y": null,
      "overflow_x": null,
      "grid_auto_flow": null,
      "grid_area": null,
      "grid_template_columns": null,
      "flex": null,
      "_model_name": "LayoutModel",
      "justify_items": null,
      "grid_row": null,
      "max_height": null,
      "align_content": null,
      "visibility": null,
      "align_self": null,
      "height": null,
      "min_height": null,
      "padding": null,
      "grid_auto_rows": null,
      "grid_gap": null,
      "max_width": null,
      "order": null,
      "_view_module_version": "1.2.0",
      "grid_template_areas": null,
      "object_position": null,
      "object_fit": null,
      "grid_auto_columns": null,
      "margin": null,
      "display": null,
      "left": null
     }
    },
    "33f00b9d6f294979b276bb1d63509047": {
     "model_module": "@jupyter-widgets/controls",
     "model_name": "FloatProgressModel",
     "state": {
      "_view_name": "ProgressView",
      "style": "IPY_MODEL_9ad08c72c4954ec0976839b284c0bb24",
      "_dom_classes": [],
      "description": "100%",
      "_model_name": "FloatProgressModel",
      "bar_style": "success",
      "max": 6,
      "_view_module": "@jupyter-widgets/controls",
      "_model_module_version": "1.5.0",
      "value": 6,
      "_view_count": null,
      "_view_module_version": "1.5.0",
      "orientation": "horizontal",
      "min": 0,
      "description_tooltip": null,
      "_model_module": "@jupyter-widgets/controls",
      "layout": "IPY_MODEL_6901474006154c26a1070da1adda163a"
     }
    },
    "8ed7bce08faf439fabe0f848daf7d70e": {
     "model_module": "@jupyter-widgets/controls",
     "model_name": "HTMLModel",
     "state": {
      "_view_name": "HTMLView",
      "style": "IPY_MODEL_fd60741e5ea44abc8d4440d5dd148e06",
      "_dom_classes": [],
      "description": "",
      "_model_name": "HTMLModel",
      "placeholder": "​",
      "_view_module": "@jupyter-widgets/controls",
      "_model_module_version": "1.5.0",
      "value": " 6/6 [00:14&lt;00:00,  2.46s/it]",
      "_view_count": null,
      "_view_module_version": "1.5.0",
      "description_tooltip": null,
      "_model_module": "@jupyter-widgets/controls",
      "layout": "IPY_MODEL_bfc6c605871b45b2933515b80155435c"
     }
    },
    "9ad08c72c4954ec0976839b284c0bb24": {
     "model_module": "@jupyter-widgets/controls",
     "model_name": "ProgressStyleModel",
     "state": {
      "_view_name": "StyleView",
      "_model_name": "ProgressStyleModel",
      "description_width": "initial",
      "_view_module": "@jupyter-widgets/base",
      "_model_module_version": "1.5.0",
      "_view_count": null,
      "_view_module_version": "1.2.0",
      "bar_color": null,
      "_model_module": "@jupyter-widgets/controls"
     }
    },
    "6901474006154c26a1070da1adda163a": {
     "model_module": "@jupyter-widgets/base",
     "model_name": "LayoutModel",
     "state": {
      "_view_name": "LayoutView",
      "grid_template_rows": null,
      "right": null,
      "justify_content": null,
      "_view_module": "@jupyter-widgets/base",
      "overflow": null,
      "_model_module_version": "1.2.0",
      "_view_count": null,
      "flex_flow": null,
      "width": null,
      "min_width": null,
      "border": null,
      "align_items": null,
      "bottom": null,
      "_model_module": "@jupyter-widgets/base",
      "top": null,
      "grid_column": null,
      "overflow_y": null,
      "overflow_x": null,
      "grid_auto_flow": null,
      "grid_area": null,
      "grid_template_columns": null,
      "flex": null,
      "_model_name": "LayoutModel",
      "justify_items": null,
      "grid_row": null,
      "max_height": null,
      "align_content": null,
      "visibility": null,
      "align_self": null,
      "height": null,
      "min_height": null,
      "padding": null,
      "grid_auto_rows": null,
      "grid_gap": null,
      "max_width": null,
      "order": null,
      "_view_module_version": "1.2.0",
      "grid_template_areas": null,
      "object_position": null,
      "object_fit": null,
      "grid_auto_columns": null,
      "margin": null,
      "display": null,
      "left": null
     }
    },
    "fd60741e5ea44abc8d4440d5dd148e06": {
     "model_module": "@jupyter-widgets/controls",
     "model_name": "DescriptionStyleModel",
     "state": {
      "_view_name": "StyleView",
      "_model_name": "DescriptionStyleModel",
      "description_width": "",
      "_view_module": "@jupyter-widgets/base",
      "_model_module_version": "1.5.0",
      "_view_count": null,
      "_view_module_version": "1.2.0",
      "_model_module": "@jupyter-widgets/controls"
     }
    },
    "bfc6c605871b45b2933515b80155435c": {
     "model_module": "@jupyter-widgets/base",
     "model_name": "LayoutModel",
     "state": {
      "_view_name": "LayoutView",
      "grid_template_rows": null,
      "right": null,
      "justify_content": null,
      "_view_module": "@jupyter-widgets/base",
      "overflow": null,
      "_model_module_version": "1.2.0",
      "_view_count": null,
      "flex_flow": null,
      "width": null,
      "min_width": null,
      "border": null,
      "align_items": null,
      "bottom": null,
      "_model_module": "@jupyter-widgets/base",
      "top": null,
      "grid_column": null,
      "overflow_y": null,
      "overflow_x": null,
      "grid_auto_flow": null,
      "grid_area": null,
      "grid_template_columns": null,
      "flex": null,
      "_model_name": "LayoutModel",
      "justify_items": null,
      "grid_row": null,
      "max_height": null,
      "align_content": null,
      "visibility": null,
      "align_self": null,
      "height": null,
      "min_height": null,
      "padding": null,
      "grid_auto_rows": null,
      "grid_gap": null,
      "max_width": null,
      "order": null,
      "_view_module_version": "1.2.0",
      "grid_template_areas": null,
      "object_position": null,
      "object_fit": null,
      "grid_auto_columns": null,
      "margin": null,
      "display": null,
      "left": null
     }
    }
   }
  }
 },
 "cells": [
  {
   "cell_type": "code",
   "metadata": {
    "id": "KnMeI8ow1203",
    "pycharm": {
     "name": "#%%\n"
    }
   },
   "source": [
    "%load_ext autoreload\n",
    "%autoreload 2"
   ],
   "execution_count": null,
   "outputs": []
  },
  {
   "cell_type": "code",
   "metadata": {
    "id": "xccN7_1QU-ac",
    "colab": {
     "base_uri": "https://localhost:8080/"
    },
    "outputId": "717a7a58-ff34-4f2d-f88f-93802c8128e3"
   },
   "source": [
    "!pip install -U torch==1.5 torchvision==0.6 -f https://download.pytorch.org/whl/cu101/torch_stable.html\n",
    "!pip install cython pyyaml==5.1\n",
    "!pip install -U 'git+https://github.com/cocodataset/cocoapi.git#subdirectory=PythonAPI'\n",
    "!pip install dominate==2.4.0\n",
    "!pip install detectron2==0.1.2 -f https://dl.fbaipublicfiles.com/detectron2/wheels/cu101/index.html\n",
    "!conda install -c conda-forge opencv==4.1.0"
   ],
   "execution_count": 1,
   "outputs": [
    {
     "output_type": "stream",
     "text": [
      "Looking in links: https://download.pytorch.org/whl/cu101/torch_stable.html\n",
      "Collecting torch==1.5\n",
      "\u001B[?25l  Downloading https://download.pytorch.org/whl/cu101/torch-1.5.0%2Bcu101-cp36-cp36m-linux_x86_64.whl (703.8MB)\n",
      "\u001B[K     |████████████████████████████████| 703.8MB 26kB/s \n",
      "\u001B[?25hCollecting torchvision==0.6\n",
      "\u001B[?25l  Downloading https://download.pytorch.org/whl/cu101/torchvision-0.6.0%2Bcu101-cp36-cp36m-linux_x86_64.whl (6.6MB)\n",
      "\u001B[K     |████████████████████████████████| 6.6MB 62.0MB/s \n",
      "\u001B[?25hRequirement already satisfied, skipping upgrade: future in /usr/local/lib/python3.6/dist-packages (from torch==1.5) (0.16.0)\n",
      "Requirement already satisfied, skipping upgrade: numpy in /usr/local/lib/python3.6/dist-packages (from torch==1.5) (1.18.5)\n",
      "Requirement already satisfied, skipping upgrade: pillow>=4.1.1 in /usr/local/lib/python3.6/dist-packages (from torchvision==0.6) (7.0.0)\n",
      "Installing collected packages: torch, torchvision\n",
      "  Found existing installation: torch 1.7.0+cu101\n",
      "    Uninstalling torch-1.7.0+cu101:\n",
      "      Successfully uninstalled torch-1.7.0+cu101\n",
      "  Found existing installation: torchvision 0.8.1+cu101\n",
      "    Uninstalling torchvision-0.8.1+cu101:\n",
      "      Successfully uninstalled torchvision-0.8.1+cu101\n",
      "Successfully installed torch-1.5.0+cu101 torchvision-0.6.0+cu101\n",
      "Requirement already satisfied: cython in /usr/local/lib/python3.6/dist-packages (0.29.21)\n",
      "Collecting pyyaml==5.1\n",
      "\u001B[?25l  Downloading https://files.pythonhosted.org/packages/9f/2c/9417b5c774792634834e730932745bc09a7d36754ca00acf1ccd1ac2594d/PyYAML-5.1.tar.gz (274kB)\n",
      "\u001B[K     |████████████████████████████████| 276kB 10.3MB/s \n",
      "\u001B[?25hBuilding wheels for collected packages: pyyaml\n",
      "  Building wheel for pyyaml (setup.py) ... \u001B[?25l\u001B[?25hdone\n",
      "  Created wheel for pyyaml: filename=PyYAML-5.1-cp36-cp36m-linux_x86_64.whl size=44075 sha256=be1abfbb65dfa6a50f4445c7ce546c7772567726dea4333821a19a17782391c9\n",
      "  Stored in directory: /root/.cache/pip/wheels/ad/56/bc/1522f864feb2a358ea6f1a92b4798d69ac783a28e80567a18b\n",
      "Successfully built pyyaml\n",
      "Installing collected packages: pyyaml\n",
      "  Found existing installation: PyYAML 3.13\n",
      "    Uninstalling PyYAML-3.13:\n",
      "      Successfully uninstalled PyYAML-3.13\n",
      "Successfully installed pyyaml-5.1\n",
      "Collecting git+https://github.com/cocodataset/cocoapi.git#subdirectory=PythonAPI\n",
      "  Cloning https://github.com/cocodataset/cocoapi.git to /tmp/pip-req-build-a6yvo4b0\n",
      "  Running command git clone -q https://github.com/cocodataset/cocoapi.git /tmp/pip-req-build-a6yvo4b0\n",
      "Requirement already satisfied, skipping upgrade: setuptools>=18.0 in /usr/local/lib/python3.6/dist-packages (from pycocotools==2.0) (50.3.2)\n",
      "Requirement already satisfied, skipping upgrade: cython>=0.27.3 in /usr/local/lib/python3.6/dist-packages (from pycocotools==2.0) (0.29.21)\n",
      "Requirement already satisfied, skipping upgrade: matplotlib>=2.1.0 in /usr/local/lib/python3.6/dist-packages (from pycocotools==2.0) (3.2.2)\n",
      "Requirement already satisfied, skipping upgrade: python-dateutil>=2.1 in /usr/local/lib/python3.6/dist-packages (from matplotlib>=2.1.0->pycocotools==2.0) (2.8.1)\n",
      "Requirement already satisfied, skipping upgrade: kiwisolver>=1.0.1 in /usr/local/lib/python3.6/dist-packages (from matplotlib>=2.1.0->pycocotools==2.0) (1.3.1)\n",
      "Requirement already satisfied, skipping upgrade: cycler>=0.10 in /usr/local/lib/python3.6/dist-packages (from matplotlib>=2.1.0->pycocotools==2.0) (0.10.0)\n",
      "Requirement already satisfied, skipping upgrade: pyparsing!=2.0.4,!=2.1.2,!=2.1.6,>=2.0.1 in /usr/local/lib/python3.6/dist-packages (from matplotlib>=2.1.0->pycocotools==2.0) (2.4.7)\n",
      "Requirement already satisfied, skipping upgrade: numpy>=1.11 in /usr/local/lib/python3.6/dist-packages (from matplotlib>=2.1.0->pycocotools==2.0) (1.18.5)\n",
      "Requirement already satisfied, skipping upgrade: six>=1.5 in /usr/local/lib/python3.6/dist-packages (from python-dateutil>=2.1->matplotlib>=2.1.0->pycocotools==2.0) (1.15.0)\n",
      "Building wheels for collected packages: pycocotools\n",
      "  Building wheel for pycocotools (setup.py) ... \u001B[?25l\u001B[?25hdone\n",
      "  Created wheel for pycocotools: filename=pycocotools-2.0-cp36-cp36m-linux_x86_64.whl size=266459 sha256=567949b473091ebb69fa56b137e57ee2d69de6b80470420481e65295fa910eef\n",
      "  Stored in directory: /tmp/pip-ephem-wheel-cache-ah9gpjiq/wheels/90/51/41/646daf401c3bc408ff10de34ec76587a9b3ebfac8d21ca5c3a\n",
      "Successfully built pycocotools\n",
      "Installing collected packages: pycocotools\n",
      "  Found existing installation: pycocotools 2.0.2\n",
      "    Uninstalling pycocotools-2.0.2:\n",
      "      Successfully uninstalled pycocotools-2.0.2\n",
      "Successfully installed pycocotools-2.0\n",
      "Collecting dominate==2.4.0\n",
      "  Downloading https://files.pythonhosted.org/packages/1d/64/593e829416c951eb35c2246430d59b86f640087e29e71f32632bcde5d0f7/dominate-2.4.0-py2.py3-none-any.whl\n",
      "Installing collected packages: dominate\n",
      "Successfully installed dominate-2.4.0\n",
      "Looking in links: https://dl.fbaipublicfiles.com/detectron2/wheels/cu101/index.html\n",
      "Collecting detectron2==0.1.2\n",
      "\u001B[?25l  Downloading https://dl.fbaipublicfiles.com/detectron2/wheels/cu101/torch1.5/detectron2-0.1.2%2Bcu101-cp36-cp36m-linux_x86_64.whl (6.2MB)\n",
      "\u001B[K     |████████████████████████████████| 6.2MB 612kB/s \n",
      "\u001B[?25hRequirement already satisfied: termcolor>=1.1 in /usr/local/lib/python3.6/dist-packages (from detectron2==0.1.2) (1.1.0)\n",
      "Collecting yacs>=0.1.6\n",
      "  Downloading https://files.pythonhosted.org/packages/38/4f/fe9a4d472aa867878ce3bb7efb16654c5d63672b86dc0e6e953a67018433/yacs-0.1.8-py3-none-any.whl\n",
      "Requirement already satisfied: tensorboard in /usr/local/lib/python3.6/dist-packages (from detectron2==0.1.2) (2.3.0)\n",
      "Requirement already satisfied: Pillow in /usr/local/lib/python3.6/dist-packages (from detectron2==0.1.2) (7.0.0)\n",
      "Collecting mock\n",
      "  Downloading https://files.pythonhosted.org/packages/cd/74/d72daf8dff5b6566db857cfd088907bb0355f5dd2914c4b3ef065c790735/mock-4.0.2-py3-none-any.whl\n",
      "Collecting fvcore\n",
      "  Downloading https://files.pythonhosted.org/packages/69/92/5d9eef1c8da19185d67eb01ab9be159f3eb5f37520354354802ed56ae192/fvcore-0.1.2.post20201122.tar.gz\n",
      "Requirement already satisfied: future in /usr/local/lib/python3.6/dist-packages (from detectron2==0.1.2) (0.16.0)\n",
      "Requirement already satisfied: tqdm>4.29.0 in /usr/local/lib/python3.6/dist-packages (from detectron2==0.1.2) (4.41.1)\n",
      "Requirement already satisfied: cloudpickle in /usr/local/lib/python3.6/dist-packages (from detectron2==0.1.2) (1.3.0)\n",
      "Requirement already satisfied: tabulate in /usr/local/lib/python3.6/dist-packages (from detectron2==0.1.2) (0.8.7)\n",
      "Requirement already satisfied: pydot in /usr/local/lib/python3.6/dist-packages (from detectron2==0.1.2) (1.3.0)\n",
      "Requirement already satisfied: matplotlib in /usr/local/lib/python3.6/dist-packages (from detectron2==0.1.2) (3.2.2)\n",
      "Requirement already satisfied: PyYAML in /usr/local/lib/python3.6/dist-packages (from yacs>=0.1.6->detectron2==0.1.2) (5.1)\n",
      "Requirement already satisfied: numpy>=1.12.0 in /usr/local/lib/python3.6/dist-packages (from tensorboard->detectron2==0.1.2) (1.18.5)\n",
      "Requirement already satisfied: grpcio>=1.24.3 in /usr/local/lib/python3.6/dist-packages (from tensorboard->detectron2==0.1.2) (1.33.2)\n",
      "Requirement already satisfied: markdown>=2.6.8 in /usr/local/lib/python3.6/dist-packages (from tensorboard->detectron2==0.1.2) (3.3.3)\n",
      "Requirement already satisfied: werkzeug>=0.11.15 in /usr/local/lib/python3.6/dist-packages (from tensorboard->detectron2==0.1.2) (1.0.1)\n",
      "Requirement already satisfied: google-auth<2,>=1.6.3 in /usr/local/lib/python3.6/dist-packages (from tensorboard->detectron2==0.1.2) (1.17.2)\n",
      "Requirement already satisfied: tensorboard-plugin-wit>=1.6.0 in /usr/local/lib/python3.6/dist-packages (from tensorboard->detectron2==0.1.2) (1.7.0)\n",
      "Requirement already satisfied: requests<3,>=2.21.0 in /usr/local/lib/python3.6/dist-packages (from tensorboard->detectron2==0.1.2) (2.23.0)\n",
      "Requirement already satisfied: protobuf>=3.6.0 in /usr/local/lib/python3.6/dist-packages (from tensorboard->detectron2==0.1.2) (3.12.4)\n",
      "Requirement already satisfied: absl-py>=0.4 in /usr/local/lib/python3.6/dist-packages (from tensorboard->detectron2==0.1.2) (0.10.0)\n",
      "Requirement already satisfied: wheel>=0.26; python_version >= \"3\" in /usr/local/lib/python3.6/dist-packages (from tensorboard->detectron2==0.1.2) (0.35.1)\n",
      "Requirement already satisfied: setuptools>=41.0.0 in /usr/local/lib/python3.6/dist-packages (from tensorboard->detectron2==0.1.2) (50.3.2)\n",
      "Requirement already satisfied: google-auth-oauthlib<0.5,>=0.4.1 in /usr/local/lib/python3.6/dist-packages (from tensorboard->detectron2==0.1.2) (0.4.2)\n",
      "Requirement already satisfied: six>=1.10.0 in /usr/local/lib/python3.6/dist-packages (from tensorboard->detectron2==0.1.2) (1.15.0)\n",
      "Collecting portalocker\n",
      "  Downloading https://files.pythonhosted.org/packages/89/a6/3814b7107e0788040870e8825eebf214d72166adf656ba7d4bf14759a06a/portalocker-2.0.0-py2.py3-none-any.whl\n",
      "Requirement already satisfied: pyparsing>=2.1.4 in /usr/local/lib/python3.6/dist-packages (from pydot->detectron2==0.1.2) (2.4.7)\n",
      "Requirement already satisfied: cycler>=0.10 in /usr/local/lib/python3.6/dist-packages (from matplotlib->detectron2==0.1.2) (0.10.0)\n",
      "Requirement already satisfied: python-dateutil>=2.1 in /usr/local/lib/python3.6/dist-packages (from matplotlib->detectron2==0.1.2) (2.8.1)\n",
      "Requirement already satisfied: kiwisolver>=1.0.1 in /usr/local/lib/python3.6/dist-packages (from matplotlib->detectron2==0.1.2) (1.3.1)\n",
      "Requirement already satisfied: importlib-metadata; python_version < \"3.8\" in /usr/local/lib/python3.6/dist-packages (from markdown>=2.6.8->tensorboard->detectron2==0.1.2) (2.0.0)\n",
      "Requirement already satisfied: cachetools<5.0,>=2.0.0 in /usr/local/lib/python3.6/dist-packages (from google-auth<2,>=1.6.3->tensorboard->detectron2==0.1.2) (4.1.1)\n",
      "Requirement already satisfied: rsa<5,>=3.1.4; python_version >= \"3\" in /usr/local/lib/python3.6/dist-packages (from google-auth<2,>=1.6.3->tensorboard->detectron2==0.1.2) (4.6)\n",
      "Requirement already satisfied: pyasn1-modules>=0.2.1 in /usr/local/lib/python3.6/dist-packages (from google-auth<2,>=1.6.3->tensorboard->detectron2==0.1.2) (0.2.8)\n",
      "Requirement already satisfied: chardet<4,>=3.0.2 in /usr/local/lib/python3.6/dist-packages (from requests<3,>=2.21.0->tensorboard->detectron2==0.1.2) (3.0.4)\n",
      "Requirement already satisfied: certifi>=2017.4.17 in /usr/local/lib/python3.6/dist-packages (from requests<3,>=2.21.0->tensorboard->detectron2==0.1.2) (2020.6.20)\n",
      "Requirement already satisfied: urllib3!=1.25.0,!=1.25.1,<1.26,>=1.21.1 in /usr/local/lib/python3.6/dist-packages (from requests<3,>=2.21.0->tensorboard->detectron2==0.1.2) (1.24.3)\n",
      "Requirement already satisfied: idna<3,>=2.5 in /usr/local/lib/python3.6/dist-packages (from requests<3,>=2.21.0->tensorboard->detectron2==0.1.2) (2.10)\n",
      "Requirement already satisfied: requests-oauthlib>=0.7.0 in /usr/local/lib/python3.6/dist-packages (from google-auth-oauthlib<0.5,>=0.4.1->tensorboard->detectron2==0.1.2) (1.3.0)\n",
      "Requirement already satisfied: zipp>=0.5 in /usr/local/lib/python3.6/dist-packages (from importlib-metadata; python_version < \"3.8\"->markdown>=2.6.8->tensorboard->detectron2==0.1.2) (3.4.0)\n",
      "Requirement already satisfied: pyasn1>=0.1.3 in /usr/local/lib/python3.6/dist-packages (from rsa<5,>=3.1.4; python_version >= \"3\"->google-auth<2,>=1.6.3->tensorboard->detectron2==0.1.2) (0.4.8)\n",
      "Requirement already satisfied: oauthlib>=3.0.0 in /usr/local/lib/python3.6/dist-packages (from requests-oauthlib>=0.7.0->google-auth-oauthlib<0.5,>=0.4.1->tensorboard->detectron2==0.1.2) (3.1.0)\n",
      "Building wheels for collected packages: fvcore\n",
      "  Building wheel for fvcore (setup.py) ... \u001B[?25l\u001B[?25hdone\n",
      "  Created wheel for fvcore: filename=fvcore-0.1.2.post20201122-cp36-none-any.whl size=44456 sha256=a22ecdd0d9fbd5d4353e89646f48bc7743e5c174067b6a85796d1bf8a7148de0\n",
      "  Stored in directory: /root/.cache/pip/wheels/33/7b/ec/59dffd0a0aa995739aad60ac97e70252247e9d17eae69c1cee\n",
      "Successfully built fvcore\n",
      "Installing collected packages: yacs, mock, portalocker, fvcore, detectron2\n",
      "Successfully installed detectron2-0.1.2+cu101 fvcore-0.1.2.post20201122 mock-4.0.2 portalocker-2.0.0 yacs-0.1.8\n"
     ],
     "name": "stdout"
    }
   ]
  },
  {
   "cell_type": "code",
   "metadata": {
    "id": "UoxuluzJmbiC",
    "colab": {
     "base_uri": "https://localhost:8080/"
    },
    "outputId": "0cc4327c-f339-432b-ae74-aa621f336f19"
   },
   "source": [
    "!git clone https://github.com/ericsujw/InstColorization.git"
   ],
   "execution_count": 2,
   "outputs": [
    {
     "output_type": "stream",
     "text": [
      "Cloning into 'InstColorization'...\n",
      "remote: Enumerating objects: 3, done.\u001B[K\n",
      "remote: Counting objects:  33% (1/3)\u001B[K\rremote: Counting objects:  66% (2/3)\u001B[K\rremote: Counting objects: 100% (3/3)\u001B[K\rremote: Counting objects: 100% (3/3), done.\u001B[K\n",
      "remote: Compressing objects: 100% (2/2), done.\u001B[K\n",
      "remote: Total 211 (delta 0), reused 2 (delta 0), pack-reused 208\u001B[K\n",
      "Receiving objects: 100% (211/211), 6.11 MiB | 43.47 MiB/s, done.\n",
      "Resolving deltas: 100% (78/78), done.\n"
     ],
     "name": "stdout"
    }
   ]
  },
  {
   "cell_type": "code",
   "execution_count": null,
   "outputs": [],
   "source": [
    "from google.colab import drive\n",
    "drive.mount('/content/drive')\n",
    "\n",
    "# !ln -s '/content/drive/MyDrive/colab_tmp/result' '/content/chroma-instance/chroma_instance/result'"
   ],
   "metadata": {
    "collapsed": false,
    "pycharm": {
     "name": "#%%\n"
    }
   }
  },
  {
   "cell_type": "code",
   "execution_count": null,
   "outputs": [],
   "source": [
    "cd InstColorization/"
   ],
   "metadata": {
    "collapsed": false,
    "pycharm": {
     "name": "#%%\n"
    }
   }
  },
  {
   "cell_type": "code",
   "metadata": {
    "id": "SRQme7UHnNMf",
    "colab": {
     "base_uri": "https://localhost:8080/"
    },
    "outputId": "a33049a8-faf0-4d3f-ec13-01003eb33a53"
   },
   "source": [
    "!sh scripts/download_model.sh\n",
    "\n",
    "!unzip /content/drive/MyDrive/colab_tmp/dataset/coco_test_2017.zip -d .\n",
    "!unzip /content/drive/MyDrive/colab_tmp/dataset/imagenet_ctest.zip -d .\n",
    "!unzip /content/drive/MyDrive/colab_tmp/dataset/places205.zip -d ."
   ],
   "execution_count": 4,
   "outputs": [
    {
     "output_type": "stream",
     "text": [
      "Downloading...\n",
      "Finish download.\n",
      "Archive:  checkpoints.zip\n",
      "   creating: checkpoints/coco_finetuned_mask_256_ffs/\n",
      "  inflating: checkpoints/coco_finetuned_mask_256_ffs/latest_net_GComp.pth  \n",
      "  inflating: checkpoints/coco_finetuned_mask_256_ffs/latest_net_G.pth  \n",
      "  inflating: checkpoints/coco_finetuned_mask_256_ffs/latest_net_GF.pth  \n",
      "   creating: checkpoints/coco_finetuned_mask_256/\n",
      "  inflating: checkpoints/coco_finetuned_mask_256/latest_net_GComp.pth  \n",
      "  inflating: checkpoints/coco_finetuned_mask_256/latest_net_G.pth  \n",
      "  inflating: checkpoints/coco_finetuned_mask_256/latest_net_GF.pth  \n",
      "   creating: checkpoints/siggraph_retrained/\n",
      "  inflating: checkpoints/siggraph_retrained/latest_net_G.pth  \n"
     ],
     "name": "stdout"
    }
   ]
  },
  {
   "cell_type": "code",
   "metadata": {
    "id": "ngV-n2MbvvTZ",
    "colab": {
     "base_uri": "https://localhost:8080/"
    },
    "outputId": "a3aee418-a7de-453e-c465-83ab70e8dcbb"
   },
   "source": [
    "from os.path import join, isfile, isdir\n",
    "from os import listdir\n",
    "import os\n",
    "os.environ[\"CUDA_VISIBLE_DEVICES\"] = \"0\"\n",
    "from argparse import ArgumentParser\n",
    "\n",
    "import detectron2\n",
    "from detectron2.utils.logger import setup_logger\n",
    "setup_logger()\n",
    "\n",
    "import numpy as np\n",
    "import cv2\n",
    "\n",
    "# import some common detectron2 utilities\n",
    "from detectron2 import model_zoo\n",
    "from detectron2.engine import DefaultPredictor\n",
    "from detectron2.config import get_cfg\n",
    "\n",
    "import torch\n",
    "\n",
    "cfg = get_cfg()\n",
    "cfg.merge_from_file(model_zoo.get_config_file(\"COCO-InstanceSegmentation/mask_rcnn_X_101_32x8d_FPN_3x.yaml\"))\n",
    "cfg.MODEL.ROI_HEADS.SCORE_THRESH_TEST = 0.7\n",
    "cfg.MODEL.WEIGHTS = model_zoo.get_checkpoint_url(\"COCO-InstanceSegmentation/mask_rcnn_X_101_32x8d_FPN_3x.yaml\")\n",
    "predictor = DefaultPredictor(cfg)"
   ],
   "execution_count": 5,
   "outputs": [
    {
     "output_type": "stream",
     "text": [
      "model_final_2d9806.pkl: 431MB [00:18, 23.0MB/s]                           \n"
     ],
     "name": "stderr"
    }
   ]
  },
  {
   "cell_type": "markdown",
   "source": [
    "Let's create a bounding box folder to save our prediction results."
   ],
   "metadata": {
    "collapsed": false
   }
  },
  {
   "cell_type": "code",
   "metadata": {
    "id": "Y5RSCOwA4Cum",
    "colab": {
     "base_uri": "https://localhost:8080/"
    },
    "outputId": "54e704c9-e8cb-4864-e383-445f52f72caa"
   },
   "source": [
    "def preprocess(input_dir):\n",
    "    image_list = [f for f in listdir(input_dir) if isfile(join(input_dir, f))]\n",
    "    output_npz_dir = \"{0}_bbox\".format(input_dir)\n",
    "    if os.path.isdir(output_npz_dir) is False:\n",
    "        print('Create path: {0}'.format(output_npz_dir))\n",
    "        os.makedirs(output_npz_dir)\n",
    "\n",
    "    for image_path in image_list:\n",
    "        img = cv2.imread(join(input_dir, image_path))\n",
    "        lab_image = cv2.cvtColor(img, cv2.COLOR_BGR2LAB)\n",
    "        l_channel, a_channel, b_channel = cv2.split(lab_image)\n",
    "        l_stack = np.stack([l_channel, l_channel, l_channel], axis=2)\n",
    "        outputs = predictor(l_stack)\n",
    "        save_path = join(output_npz_dir, image_path.split('.')[0])\n",
    "        pred_bbox = outputs[\"instances\"].pred_boxes.to(torch.device('cpu')).tensor.numpy()\n",
    "        pred_scores = outputs[\"instances\"].scores.cpu().data.numpy()\n",
    "        np.savez(save_path, bbox = pred_bbox, scores = pred_scores)"
   ],
   "execution_count": 7,
   "outputs": [
    {
     "output_type": "stream",
     "text": [
      "Create path: images_bbox\n"
     ],
     "name": "stdout"
    }
   ]
  },
  {
   "cell_type": "code",
   "execution_count": null,
   "outputs": [],
   "source": [
    "preprocess('coco_test_2017')\n",
    "preprocess('imagenet_ctest')\n",
    "preprocess('places205')"
   ],
   "metadata": {
    "collapsed": false,
    "pycharm": {
     "name": "#%%\n"
    }
   }
  },
  {
   "cell_type": "markdown",
   "metadata": {
    "id": "4Z4y8giu48hV"
   },
   "source": [
    "Now we have all the images' prediction results."
   ]
  },
  {
   "cell_type": "code",
   "metadata": {
    "id": "541hJilN5Iox",
    "colab": {
     "base_uri": "https://localhost:8080/"
    },
    "outputId": "41804bca-747e-4d85-bbfa-a85b3e60b06e"
   },
   "source": [
    "!ls *_bbox"
   ],
   "execution_count": 10,
   "outputs": [
    {
     "output_type": "stream",
     "text": [
      "000000022969.npz  000000046872.npz\t      5951960966_d4e1cda5d0_z.npz\n",
      "000000023781.npz  262985539_1709e54576_z.npz  8053677163_d4c8f416be_z.npz\n"
     ],
     "name": "stdout"
    }
   ]
  },
  {
   "cell_type": "markdown",
   "metadata": {
    "id": "fYvWpoUl5VKX"
   },
   "source": [
    "### Colorize Images"
   ]
  },
  {
   "cell_type": "markdown",
   "metadata": {
    "id": "_0qhXEQ45bxc"
   },
   "source": [
    "We first set up some libraries and options"
   ]
  },
  {
   "cell_type": "code",
   "metadata": {
    "id": "g80xLXzi9tOB"
   },
   "source": [
    "import sys\n",
    "import time\n",
    "from options.train_options import TestOptions\n",
    "from models import create_model\n",
    "\n",
    "import torch\n",
    "from tqdm import tqdm_notebook\n",
    "\n",
    "from fusion_dataset import Fusion_Testing_Dataset\n",
    "from util import util\n",
    "import multiprocessing\n",
    "multiprocessing.set_start_method('spawn', True)\n",
    "\n",
    "torch.backends.cudnn.benchmark = True\n",
    "\n",
    "sys.argv = [sys.argv[0]]\n",
    "opt = TestOptions().parse()"
   ],
   "execution_count": 11,
   "outputs": []
  },
  {
   "cell_type": "markdown",
   "source": [
    "Load the pre-trained model."
   ],
   "metadata": {
    "collapsed": false
   }
  },
  {
   "cell_type": "code",
   "execution_count": null,
   "outputs": [],
   "source": [
    "model = create_model(opt)\n",
    "model.setup_to_test('coco_finetuned_mask_256_ffs')"
   ],
   "metadata": {
    "collapsed": false,
    "pycharm": {
     "name": "#%%\n"
    }
   }
  },
  {
   "cell_type": "markdown",
   "metadata": {
    "id": "xsMYnRQeKQEw"
   },
   "source": [
    "Then we need to create a results folder to save our predicted color images and read the dataset loader."
   ]
  },
  {
   "cell_type": "code",
   "execution_count": null,
   "outputs": [],
   "source": [
    "!mkdir output"
   ],
   "metadata": {
    "collapsed": false,
    "pycharm": {
     "name": "#%%\n"
    }
   }
  },
  {
   "cell_type": "code",
   "metadata": {
    "id": "KTWCeb2iEWFM",
    "cellView": "code",
    "colab": {
     "base_uri": "https://localhost:8080/"
    },
    "outputId": "1fce301d-fb84-43fe-ee78-8c895284b1fa"
   },
   "source": [
    "def helper(input_dir):\n",
    "    opt.results_img_dir = f'output/{input_dir}'\n",
    "    opt.test_img_dir = input_dir\n",
    "    save_img_path = opt.results_img_dir\n",
    "    if os.path.isdir(save_img_path) is False:\n",
    "        print('Create path: {0}'.format(save_img_path))\n",
    "        os.makedirs(save_img_path)\n",
    "    opt.batch_size = 1\n",
    "    dataset = Fusion_Testing_Dataset(opt, -1)\n",
    "    dataset_loader = torch.utils.data.DataLoader(dataset, batch_size=opt.batch_size)\n",
    "\n",
    "    dataset_size = len(dataset)\n",
    "    print('#Testing images = %d' % dataset_size)\n",
    "\n",
    "    count_empty = 0\n",
    "    for data_raw in tqdm_notebook(dataset_loader):\n",
    "        data_raw['full_img'][0] = data_raw['full_img'][0].cuda()\n",
    "        if data_raw['empty_box'][0] == 0:\n",
    "            data_raw['cropped_img'][0] = data_raw['cropped_img'][0].cuda()\n",
    "            box_info = data_raw['box_info'][0]\n",
    "            box_info_2x = data_raw['box_info_2x'][0]\n",
    "            box_info_4x = data_raw['box_info_4x'][0]\n",
    "            box_info_8x = data_raw['box_info_8x'][0]\n",
    "            cropped_data = util.get_colorization_data(data_raw['cropped_img'], opt, ab_thresh=0, p=opt.sample_p)\n",
    "            full_img_data = util.get_colorization_data(data_raw['full_img'], opt, ab_thresh=0, p=opt.sample_p)\n",
    "            model.set_input(cropped_data)\n",
    "            model.set_fusion_input(full_img_data, [box_info, box_info_2x, box_info_4x, box_info_8x])\n",
    "            model.forward()\n",
    "        else:\n",
    "            count_empty += 1\n",
    "            full_img_data = util.get_colorization_data(data_raw['full_img'], opt, ab_thresh=0, p=opt.sample_p)\n",
    "            model.set_forward_without_box(full_img_data)\n",
    "        model.save_current_imgs(join(save_img_path, data_raw['file_id'][0] + '.jpg'))\n",
    "    print('{0} images without bounding boxes'.format(count_empty))"
   ],
   "execution_count": 13,
   "outputs": [
    {
     "output_type": "stream",
     "text": [
      "#Testing images = 6\n"
     ],
     "name": "stdout"
    }
   ]
  },
  {
   "cell_type": "code",
   "metadata": {
    "id": "_ftWuY5-6u9M"
   },
   "source": [],
   "execution_count": null,
   "outputs": []
  }
 ]
}